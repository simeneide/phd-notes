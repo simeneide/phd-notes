{
 "cells": [
  {
   "cell_type": "markdown",
   "metadata": {
    "toc-hr-collapsed": true
   },
   "source": [
    "# Oblig stk4021\n",
    "Simen Eide\n",
    "\n",
    "## Load data and libraries"
   ]
  },
  {
   "cell_type": "code",
   "execution_count": 2,
   "metadata": {},
   "outputs": [
    {
     "data": {
      "text/html": [
       "<div>\n",
       "<style scoped>\n",
       "    .dataframe tbody tr th:only-of-type {\n",
       "        vertical-align: middle;\n",
       "    }\n",
       "\n",
       "    .dataframe tbody tr th {\n",
       "        vertical-align: top;\n",
       "    }\n",
       "\n",
       "    .dataframe thead th {\n",
       "        text-align: right;\n",
       "    }\n",
       "</style>\n",
       "<table border=\"1\" class=\"dataframe\">\n",
       "  <thead>\n",
       "    <tr style=\"text-align: right;\">\n",
       "      <th></th>\n",
       "      <th>Unnamed: 0</th>\n",
       "      <th>name</th>\n",
       "      <th>birth</th>\n",
       "      <th>death</th>\n",
       "      <th>term.start</th>\n",
       "      <th>term.end</th>\n",
       "      <th>executed</th>\n",
       "      <th>girondin</th>\n",
       "      <th>number.languages</th>\n",
       "    </tr>\n",
       "  </thead>\n",
       "  <tbody>\n",
       "    <tr>\n",
       "      <th>0</th>\n",
       "      <td>1</td>\n",
       "      <td>Jerome Petion de Villeneuve</td>\n",
       "      <td>1756.008333</td>\n",
       "      <td>1794.466667</td>\n",
       "      <td>1792.722222</td>\n",
       "      <td>1792.761111</td>\n",
       "      <td>1</td>\n",
       "      <td>1</td>\n",
       "      <td>15</td>\n",
       "    </tr>\n",
       "    <tr>\n",
       "      <th>1</th>\n",
       "      <td>2</td>\n",
       "      <td>Jean-Francois Delacroix</td>\n",
       "      <td>1753.258333</td>\n",
       "      <td>1794.263889</td>\n",
       "      <td>1792.761111</td>\n",
       "      <td>1792.800000</td>\n",
       "      <td>1</td>\n",
       "      <td>0</td>\n",
       "      <td>4</td>\n",
       "    </tr>\n",
       "  </tbody>\n",
       "</table>\n",
       "</div>"
      ],
      "text/plain": [
       "   Unnamed: 0                         name        birth        death  \\\n",
       "0           1  Jerome Petion de Villeneuve  1756.008333  1794.466667   \n",
       "1           2      Jean-Francois Delacroix  1753.258333  1794.263889   \n",
       "\n",
       "    term.start     term.end  executed  girondin  number.languages  \n",
       "0  1792.722222  1792.761111         1         1                15  \n",
       "1  1792.761111  1792.800000         1         0                 4  "
      ]
     },
     "execution_count": 2,
     "metadata": {},
     "output_type": "execute_result"
    }
   ],
   "source": [
    "import pandas as pd\n",
    "import scipy.stats\n",
    "import numpy as np\n",
    "import matplotlib.pyplot as plt\n",
    "from scipy.stats.distributions import gamma, uniform, beta, norm\n",
    "from scipy.optimize import minimize\n",
    "def mc_integrate(f, low = 0, high = 1, samples = 100000):\n",
    "    u = np.random.uniform(low = low, high = high, size=samples)\n",
    "    pmf = f(u)*(high-low)\n",
    "    return np.mean(pmf)\n",
    "\n",
    "%matplotlib inline\n",
    "raw = pd.read_csv(\"fr1_data\")\n",
    "raw.head(2)"
   ]
  },
  {
   "cell_type": "markdown",
   "metadata": {
    "toc-hr-collapsed": true
   },
   "source": [
    "# Part 1 - Life-length after presidency\n",
    "\n",
    "## 1a)\n",
    "Find the data and define the variable y as specified above. Display a\n",
    "histogram of these time points. The histogram should look like the one\n",
    "displayed in Figure 1.\n",
    "\n",
    "---"
   ]
  },
  {
   "cell_type": "code",
   "execution_count": 2,
   "metadata": {},
   "outputs": [
    {
     "data": {
      "image/png": "[encoded data removed]",
      "text/plain": [
       "<Figure size 432x288 with 1 Axes>"
      ]
     },
     "metadata": {
      "needs_background": "light"
     },
     "output_type": "display_data"
    }
   ],
   "source": [
    "raw['postpres'] = raw['death'] - raw['term.end']\n",
    "y = raw['postpres'].values\n",
    "_ = plt.hist(y, density=True, bins = 12)"
   ]
  },
  {
   "cell_type": "markdown",
   "metadata": {},
   "source": [
    "## 1b)\n",
    "\n",
    "Find the density of the two-parameter weibull model. CDF:\n",
    "\n",
    "---\n",
    "\n",
    "$$ F(y|a,b) = 1 - e^{-(y/a)^{b})} $$\n",
    "\n",
    "Get density by taking derivative w.r.t. y:\n",
    "$$ \\frac{dF}{dy} = -exp(-(y/a)^{b})) (-b) (\\frac{y}{a})^{b-1} (\\frac{1}{a}) $$\n",
    "\n",
    "Rearranging:\n",
    "$$ f(y |a,b) = \\frac{dF}{dy} = e^{-(y/a)^{b}} (\\frac{by^{b-1}}{a^b}) $$\n"
   ]
  },
  {
   "cell_type": "markdown",
   "metadata": {},
   "source": [
    "## 1c) \n",
    "We are Bayesian statisticians today, and we need to specify a prior for\n",
    "the unknown parameters a and b above. Assume first that we have not\n",
    "yet managed to get hold of a suitable expert, and that we therefore wish\n",
    "to use the ‘non-informative’ Jeffreys prior for the Weibull model. Show\n",
    "that the Jeffreys prior, p0(a, b), is proportional to 1/a.\n",
    "\n",
    "---\n",
    "#### Jeffrey's prior\n",
    "Jeffrey' prior is proportional to $\\sqrt{det(I(\\theta)}$, where $I(\\theta) = - E[\\frac{\\partial^2}{\\partial \\theta ^2} lnP(y|\\theta) | \\theta ] $ and $\\theta = (a,b)$.\n",
    "\n",
    "#### Distribution of lambda\n",
    "Consider the transformation $\\lambda = f(y,a,b) = (\\frac{y}{a})^b$. We want to know the distribution of $\\lambda$.\n",
    "\n",
    "We know that \n",
    "\n",
    "$$P_{\\lambda}(\\lambda) = |J| Pr_y( f^{-1}(\\lambda))$$\n",
    "\n",
    "Using functions above we get \n",
    "\n",
    "$$ f^{-1}(v) = a v^{1/b}$$\n",
    "\n",
    "$$ |J| = |\\frac{d f^{-1}(x)}{dx}| = \\frac{a}{b} x^{\\frac{1-b}{b}}$$\n",
    "\n",
    "$$ Pr_y( f^{-1}(\\lambda)) = Pr_y( a \\lambda^{1/b})\n",
    "= e^{-\\lambda} b \\frac{a^{b-1}}{a^b} \\lambda^{\\frac{b-1}{b}}  \n",
    "= e^{-\\lambda} \\frac{b}{a} \\lambda^{\\frac{b-1}{b}}$$\n",
    "$$$$\n",
    "\n",
    "\n",
    "Combining these gives\n",
    "\n",
    "$$P_{\\lambda}(\\lambda) \n",
    "= \\frac{a}{b} \\lambda^{\\frac{1-b}{b}} e^{-\\lambda} \\frac{b}{a} \\lambda^{\\frac{b-1}{b}}\n",
    "= e^{-\\lambda} \\lambda^{\\frac{1-b}{b} + \\frac{b-1}{b}} $$\n",
    "\n",
    "$$P_{\\lambda}(\\lambda) = e^{-\\lambda}$$\n",
    "\n",
    "Hence, $\\lambda = (\\frac{y}{a})^b$ is exponentially distributed.\n"
   ]
  },
  {
   "cell_type": "code",
   "execution_count": null,
   "metadata": {},
   "outputs": [],
   "source": []
  },
  {
   "cell_type": "markdown",
   "metadata": {},
   "source": [
    "## 1d)\n",
    "Assume now (for simplicity) that the parameter b happens to be known\n",
    "and equal to 0.9. \n",
    "\n",
    "- Find the posterior distribution for a using Jeffreys prior\n",
    "above. Here you may find it useful to use some numerical integration\n",
    "routine, for instance integrate in R. \n",
    "- Display the posterior density for\n",
    "a and find the posterior mode. \n",
    "- Use this point-estimate for a to display\n",
    "the estimated Weibull density curve along with the histogram of the\n",
    "data. This should look like Figure 1. \n",
    "- Comment briefly on how you think\n",
    "the model fits the data.\n",
    "\n",
    "----\n",
    "The likelihood\n",
    "\n",
    "$$ P(y|a,b) = \\prod_{i=1}^{73} e^{-(y_i/a)^{b}} (\\frac{by_i^{b-1}}{a^b}) $$\n",
    "\n",
    "The posterior is propotional to\n",
    "\n",
    "$$ P(a|y) \\propto P(y |a,b) * \\frac{1}{a} $$\n",
    "\n",
    "We can find the normalizing constant by numerically integrating $P(a|y)$ by monte carlo integration:"
   ]
  },
  {
   "cell_type": "code",
   "execution_count": 3,
   "metadata": {},
   "outputs": [],
   "source": [
    "# Define non-normalized prior, likelihood and posterior:\n",
    "\n",
    "def weibull_density(y,a,b):\n",
    "    return np.exp(-(y/a)**b) * b * y**(b-1) / a**b\n",
    "\n",
    "b0 = 0.9\n",
    "def nonnorm_likelihood(a, b = b0): \n",
    "    l = weibull_density(y,a,b)\n",
    "    return l.prod()\n",
    "\n",
    "def nonnorm_prior(a,b = b0):\n",
    "    return 1/a\n",
    "\n",
    "nonnorm_posterior = lambda a: nonnorm_likelihood(a,b0)*nonnorm_prior(a,b0)\n",
    "nonnorm_posterior = np.vectorize(nonnorm_posterior)"
   ]
  },
  {
   "cell_type": "code",
   "execution_count": 4,
   "metadata": {},
   "outputs": [
    {
     "name": "stdout",
     "output_type": "stream",
     "text": [
      "5.310223789352761e-130\n"
     ]
    }
   ],
   "source": [
    "## Integrate to get posterior:\n",
    "def mc_integrate(f, low = 0, high = 1, samples = 100000):\n",
    "    u = np.random.uniform(low = low, high = high, size=samples)\n",
    "    pmf = f(u)*(high-low)\n",
    "    return np.mean(pmf)\n",
    "\n",
    "const = mc_integrate(nonnorm_posterior, low = 10, high = 30)\n",
    "print(const)\n",
    "posterior = lambda a: nonnorm_posterior(a)*1/const"
   ]
  },
  {
   "cell_type": "code",
   "execution_count": 5,
   "metadata": {},
   "outputs": [
    {
     "name": "stdout",
     "output_type": "stream",
     "text": [
      "Visualize the posterior:\n"
     ]
    },
    {
     "data": {
      "image/png": "[encoded data removed]",
      "text/plain": [
       "<Figure size 432x288 with 1 Axes>"
      ]
     },
     "metadata": {
      "needs_background": "light"
     },
     "output_type": "display_data"
    }
   ],
   "source": [
    "print('Visualize the posterior:')\n",
    "a_ = np.linspace(0.1,50, 100)\n",
    "p = posterior(a_)\n",
    "_ = plt.plot(a_,p)"
   ]
  },
  {
   "cell_type": "code",
   "execution_count": 6,
   "metadata": {},
   "outputs": [
    {
     "name": "stdout",
     "output_type": "stream",
     "text": [
      "The mode of the posterior is 20.261616161616164.\n"
     ]
    }
   ],
   "source": [
    "## Find the mode:\n",
    "a_mode = a_[p.argmax()]\n",
    "print(\"The mode of the posterior is {}.\".format(a_mode))"
   ]
  },
  {
   "cell_type": "code",
   "execution_count": 7,
   "metadata": {},
   "outputs": [
    {
     "data": {
      "image/png": "[encoded data removed]",
      "text/plain": [
       "<Figure size 432x288 with 1 Axes>"
      ]
     },
     "metadata": {
      "needs_background": "light"
     },
     "output_type": "display_data"
    }
   ],
   "source": [
    "### Visualize the mode point estimate of the distribution\n",
    "# Plot on same area as observed data\n",
    "w_density = weibull_density(y,a = a_mode, b = 0.9)\n",
    "\n",
    "plt.plot(y,w_density, \"o\")\n",
    "_ = plt.hist(y, density=True, bins = 12)"
   ]
  },
  {
   "cell_type": "markdown",
   "metadata": {},
   "source": [
    "#### Comments on model fit\n",
    "The fit seems to work at either end of the scale, but there seems to be something wrong from y=5 to y=20.\n",
    "It seems like quite a few of the leaders died shortly after their period terminated, whereas other lived for a long time."
   ]
  },
  {
   "cell_type": "markdown",
   "metadata": {
    "toc-hr-collapsed": true
   },
   "source": [
    "## 1e) \n",
    "The histogram of post-presidency life-times is rather unusual-looking,\n",
    "and somewhat bimodal, therefore we will now attempt a more complex\n",
    "model, a mixture of two Weibull distributions. The density takes the\n",
    "following form,\n",
    "\n",
    "g(y|a1, b1, a2, b2, ρ) = ρf(y|a1, b1) + (1 − ρ)f(y|a2, b2) for y > 0.\n",
    "\n",
    "Here f(·) is the Weibull density function given in (b), a1, b1, a2 and b2\n",
    "are positive parameters, and ρ is the mixture parameter, taking values\n",
    "between 0 and 1. Programme the log-likelihood function\n",
    "`n(a1, b1, a2, b2, ρ) = Xn\n",
    "i=1\n",
    "log g(yi\n",
    "|a1, b1, a2, b2, ρ),\n",
    "and find the maximum likelihood estimates for the n = 73 life-times\n",
    "using a suitable numerical optimiser. Good starting values are important\n",
    "in this case, you may use (2, 1, 35, 3, 0.5). Add the estimated density\n",
    "curve to the same figure as in the previous question and comment briefly"
   ]
  },
  {
   "cell_type": "code",
   "execution_count": 8,
   "metadata": {},
   "outputs": [],
   "source": [
    "def twoWeibullDensity(y, a1,b1,a2,b2,rho):\n",
    "    return rho*weibull_density(y,a1,b1) + (1-rho)*weibull_density(y,a2,b2)\n"
   ]
  },
  {
   "cell_type": "code",
   "execution_count": 9,
   "metadata": {},
   "outputs": [],
   "source": [
    "par0 = np.array([2,1,35,3,0.5])"
   ]
  },
  {
   "cell_type": "code",
   "execution_count": 10,
   "metadata": {},
   "outputs": [],
   "source": [
    "lik = lambda par : sum(np.log(twoWeibullDensity(y,par[0],par[1],par[2],par[3],par[4])))"
   ]
  },
  {
   "cell_type": "code",
   "execution_count": 11,
   "metadata": {},
   "outputs": [
    {
     "data": {
      "text/plain": [
       "array([ 2.31358752,  1.12873223, 36.58008183,  2.97417611,  0.36314301])"
      ]
     },
     "execution_count": 11,
     "metadata": {},
     "output_type": "execute_result"
    }
   ],
   "source": [
    "opt = minimize(lambda par: -lik(par),par0, method='nelder-mead')\n",
    "par = opt.x\n",
    "par"
   ]
  },
  {
   "cell_type": "code",
   "execution_count": 12,
   "metadata": {},
   "outputs": [],
   "source": [
    "mle = twoWeibullDensity(y, par[0],par[1],par[2],par[3],par[4])"
   ]
  },
  {
   "cell_type": "code",
   "execution_count": 13,
   "metadata": {},
   "outputs": [
    {
     "data": {
      "image/png": "[encoded data removed]",
      "text/plain": [
       "<Figure size 432x288 with 1 Axes>"
      ]
     },
     "metadata": {
      "needs_background": "light"
     },
     "output_type": "display_data"
    }
   ],
   "source": [
    "plt.plot(y,mle, \"o\")\n",
    "plt.plot(y,w_density, \"o\")\n",
    "_ = plt.hist(y, density=True, bins = 20)"
   ]
  },
  {
   "cell_type": "markdown",
   "metadata": {},
   "source": [
    "The bimodal distribution seems to much better fit the data as it has a significant dip for $y \\in (5,20)$."
   ]
  },
  {
   "cell_type": "markdown",
   "metadata": {},
   "source": [
    "## 1f) \n",
    "Assume we have consulted with Mrs. Capet, an expert in revolutionary\n",
    "history, and she has given us the following prior for the full parameter\n",
    "vector $(a1, b1, a2, b2, ρ)$: \n",
    "let the five parameters be independent and\n",
    "$$a1 ∼ Gamma(3, 1)$$\n",
    "$$b1 ∼ Unif(0.5, 4)$$\n",
    "$$a2 ∼ Gamma(20, 1)$$\n",
    "$$b2 ∼ Gamma(10, 2)$$\n",
    "$$p ∼ Beta(α, β) $$\n",
    "\n",
    "Further, let the prior for ρ be a $Beta(α, β)$, such that $E(ρ) = 0.2$ and\n",
    "$Var(ρ) = 0.04^2$. \n",
    "\n",
    "- Find the corresponding α, β values (if you do not\n",
    "manage this part, use α = 2 and β = 5 in the following). \n",
    "- Using the prior\n",
    "above, draw 1000 random post-presidency life-times from the associated\n",
    "prior predictive distribution, and display them in a histogram. \n",
    "- Comment\n",
    "briefly.\n",
    "\n",
    "\n",
    "---\n"
   ]
  },
  {
   "cell_type": "code",
   "execution_count": 14,
   "metadata": {},
   "outputs": [
    {
     "name": "stdout",
     "output_type": "stream",
     "text": [
      "ESTIMATE:\n",
      "alpha: 19.79999999999069, beta: 79.19999999996335\n",
      "gives mean 0.1999999999999988 and variance 0.040000000000009105^2.\n"
     ]
    }
   ],
   "source": [
    "### get beta distr with correct alpha and beta\n",
    "p0 = np.array([2,5]) #initial cond.\n",
    "f = lambda p: (beta.mean(p[0], p[1])- 0.2)**2 + (beta.var(p[0], p[1]) - 0.04**2)**2\n",
    "opt = minimize(f, p0, tol = 1e-10, method='nelder-mead')\n",
    "p = opt.x\n",
    "print(\"ESTIMATE:\")\n",
    "print(\"alpha: {}, beta: {}\".format(p[0],p[1]) )\n",
    "print(\"gives mean {} and variance {}^2.\".format(beta.mean(p[0], p[1]), np.sqrt(beta.var(p[0], p[1]))))"
   ]
  },
  {
   "cell_type": "markdown",
   "metadata": {},
   "source": [
    "#### Draw 1000 from predictive distribution\n",
    "\n",
    "First inverse the weibull so we can sample from it by using unif random:\n",
    "\n",
    "$$ F^{-1}(X) = \\alpha (-ln(1-X))^{1/b}$$"
   ]
  },
  {
   "cell_type": "code",
   "execution_count": 15,
   "metadata": {},
   "outputs": [
    {
     "data": {
      "image/png": "[encoded data removed]",
      "text/plain": [
       "<Figure size 432x288 with 1 Axes>"
      ]
     },
     "metadata": {
      "needs_background": "light"
     },
     "output_type": "display_data"
    }
   ],
   "source": [
    "def weib_invcdf(x, a,b):\n",
    "    return a*(-np.log(x))**(1/b)\n",
    "\n",
    "n = 1000\n",
    "a1_ = gamma.rvs(3,2, size=n)\n",
    "b1_ = uniform.rvs(0.5,3.5, size=n) # seems like second argument is the added diff\n",
    "a2_ = gamma.rvs(20,1, size=n)\n",
    "b2_ = gamma.rvs(10,2, size=n)\n",
    "rho_ = beta.rvs(p[0],p[1], size = n)\n",
    "\n",
    "u = np.random.uniform(0,1,size = n)\n",
    "u2 = np.random.uniform(0,1,size = n)\n",
    "prior_sample = weib_invcdf(u,a1_,b1_)*(u2 < rho_) + (1-(u2 < rho_))*weib_invcdf(u,a2_,b2_)\n",
    "_ = plt.hist(prior_sample, bins = 120)"
   ]
  },
  {
   "cell_type": "markdown",
   "metadata": {},
   "source": [
    "The posterior has managed to get the shape of the real data fairly well, but seems to be a bit weak in the tails."
   ]
  },
  {
   "cell_type": "markdown",
   "metadata": {},
   "source": [
    "## 1g) \n",
    "Set up an MCMC scheme in order to draw samples from the posterior\n",
    "for (a1, b1, a2, b2, ρ) using the prior specified above. Display a histogram\n",
    "of posterior draws for ρ. \n",
    "\n",
    "- Give the posterior mean and 95% posterior\n",
    "interval for the following two quantities: \n",
    " + λ, the probability of dying\n",
    "within 5 years of the end of presidency, and \n",
    " + γ, the probability of living\n",
    "longer than 40 years after the end of presidency. Compare these results\n",
    "with empirical estimates of λ and γ.\n",
    "\n",
    "---\n",
    "Likelihood is the twoWeibull distr\n",
    "priors are the product of each prior distr (indep.)"
   ]
  },
  {
   "cell_type": "code",
   "execution_count": 16,
   "metadata": {},
   "outputs": [],
   "source": [
    "# likelihood\n",
    "\n",
    "lik = lambda par : (twoWeibullDensity(y,par[0],par[1],par[2],par[3],par[4])).prod()\n",
    "prior = lambda par: gamma.pdf(par[0], 3,2) * uniform.pdf(par[1], 0.5,3.5) * gamma.pdf(par[2],20,1) * gamma.pdf(par[3],10,2)*beta.pdf(par[4],p[0],p[1])\n",
    "posterior = lambda par: prior(par)*lik(par)\n",
    "\n",
    "# This can be done in terms of loglikelihoods as well, gave same results\n",
    "#  (remember to transform byexp etc in algorithms)\n",
    "logprior = lambda par:  (\n",
    "    np.log(gamma.pdf(par[0], 3,2)) + \n",
    "    np.log(uniform.pdf(par[1], 0.5,3.5)) +\n",
    "    np.log(gamma.pdf(par[2],20,1)) +\n",
    "    np.log(gamma.pdf(par[3],10,2)) +\n",
    "    np.log(beta.pdf(par[4],p[0],p[1])) )\n",
    "\n",
    "loglik = lambda par: np.sum(np.log(twoWeibullDensity(y,par[0],par[1],par[2],par[3],par[4])))\n",
    "logpost = lambda par: logprior(par) + loglik(par)\n"
   ]
  },
  {
   "cell_type": "code",
   "execution_count": 17,
   "metadata": {},
   "outputs": [],
   "source": [
    "## Metropolis-hastings\n",
    "n = int(5e4)\n",
    "parsize = 5\n",
    "theta = np.zeros((n,parsize))\n",
    "theta[0,] = par # start in mle point for simplification\n",
    "for i in range(1,n):\n",
    "    theta_candidate = theta[i-1,] + (uniform.rvs(size=5)-0.5)*0.1\n",
    "    theta_candidate = theta_candidate.clip(min=0.001)\n",
    "    ratio = posterior(theta_candidate)/posterior(theta[i-1,])\n",
    "    prob_accept = min(1, ratio)\n",
    "    if np.isnan(ratio):\n",
    "        print(\"Found NAN value.\")\n",
    "        break\n",
    "    \n",
    "    accept = np.random.uniform() < prob_accept\n",
    "\n",
    "    theta[i] = theta_candidate if accept else theta[i-1]"
   ]
  },
  {
   "cell_type": "code",
   "execution_count": 18,
   "metadata": {},
   "outputs": [
    {
     "data": {
      "image/png": "[encoded data removed]",
      "text/plain": [
       "<Figure size 432x288 with 5 Axes>"
      ]
     },
     "metadata": {
      "needs_background": "light"
     },
     "output_type": "display_data"
    }
   ],
   "source": [
    "#### Get trajectories\n",
    "for i in range(5):\n",
    "    plt.subplot(2,3,i+1)\n",
    "    _ = plt.plot(theta[:,i])"
   ]
  },
  {
   "cell_type": "markdown",
   "metadata": {},
   "source": [
    "#### Histogram of rho"
   ]
  },
  {
   "cell_type": "code",
   "execution_count": 19,
   "metadata": {},
   "outputs": [
    {
     "data": {
      "text/plain": [
       "'E[rho | data, prior] = 0.2807'"
      ]
     },
     "execution_count": 19,
     "metadata": {},
     "output_type": "execute_result"
    },
    {
     "data": {
      "image/png": "[encoded data removed]",
      "text/plain": [
       "<Figure size 432x288 with 1 Axes>"
      ]
     },
     "metadata": {
      "needs_background": "light"
     },
     "output_type": "display_data"
    }
   ],
   "source": [
    "_ = plt.hist(theta[int(n/2):,4], bins = 50)\n",
    "f\"E[rho | data, prior] = {np.round(np.mean(theta[int(n/2):,4]),4)}\""
   ]
  },
  {
   "cell_type": "markdown",
   "metadata": {},
   "source": [
    "##### Histogram of all"
   ]
  },
  {
   "cell_type": "code",
   "execution_count": 20,
   "metadata": {},
   "outputs": [
    {
     "data": {
      "image/png": "[encoded data removed]",
      "text/plain": [
       "<Figure size 432x288 with 5 Axes>"
      ]
     },
     "metadata": {
      "needs_background": "light"
     },
     "output_type": "display_data"
    }
   ],
   "source": [
    "#### Get histograms\n",
    "for i in range(5):\n",
    "    plt.subplot(2,3,i+1)\n",
    "    _ = plt.hist(theta[int(n/2):,i], bins = 50)"
   ]
  },
  {
   "cell_type": "code",
   "execution_count": 21,
   "metadata": {},
   "outputs": [],
   "source": [
    "# Sample from posterior\n",
    "# burnout half of trajectories:\n",
    "post_samples = theta[int(n/2):]\n",
    "n = post_samples.shape[0]\n",
    "a1_ = post_samples[:,0]\n",
    "b1_ = post_samples[:,1]\n",
    "a2_ = post_samples[:,2]\n",
    "b2_ = post_samples[:,3]\n",
    "rho_ = post_samples[:,4]"
   ]
  },
  {
   "cell_type": "code",
   "execution_count": 22,
   "metadata": {},
   "outputs": [],
   "source": [
    "def weibull_cdf(y, a, b):\n",
    "    return 1. - np.exp(-(y / a)**b)\n",
    "def weibull_mixture_cdf(y, a1, b1, a2, b2, p):\n",
    "    return p * weibull_cdf(y, a1, b1) + (1. - p) * weibull_cdf(y, a2, b2)"
   ]
  },
  {
   "cell_type": "code",
   "execution_count": 23,
   "metadata": {},
   "outputs": [],
   "source": [
    "F5 = weibull_mixture_cdf(5, a1_, b1_, a2_, b2_, rho_)\n",
    "F40 = 1 - weibull_mixture_cdf(40, a1_, b1_, a2_, b2_, rho_)\n",
    "F5.sort()\n",
    "F40.sort()"
   ]
  },
  {
   "cell_type": "code",
   "execution_count": 24,
   "metadata": {},
   "outputs": [
    {
     "name": "stdout",
     "output_type": "stream",
     "text": [
      "Post mean, q5 and q95 for living less than five years:\n",
      "0.22550514679161396 0.16837615225333682 0.29184672190343575\n",
      "---\n",
      "Post mean, q5 and q95 for living more than 40 years:\n",
      "0.22541064131261176 0.16316267645342775 0.2906360736717557\n"
     ]
    }
   ],
   "source": [
    "print(\"Post mean, q5 and q95 for living less than five years:\")\n",
    "print(np.mean(F5), F5[int(0.025*len(F5))], F5[int(0.975*len(F5))])\n",
    "print('---')\n",
    "print(\"Post mean, q5 and q95 for living more than 40 years:\")\n",
    "print(np.mean(F40), F40[int(0.025*len(F40))], F40[int(0.975*len(F40))])"
   ]
  },
  {
   "cell_type": "code",
   "execution_count": 25,
   "metadata": {},
   "outputs": [
    {
     "name": "stdout",
     "output_type": "stream",
     "text": [
      " The posterior probability of dying within 5 years: 0.22352\n",
      " The empirical probability of dying within 5 years: 0.3287671232876712\n"
     ]
    }
   ],
   "source": [
    "### EXTRA MATERIAL: TRIED TO FIND OUT USING POSTERIOR PREDICTIVE...\n",
    "# prob dying within 5 years:\n",
    "\n",
    "def sample_one_post_predictive():\n",
    "    u = np.random.uniform(0,1,size = n)\n",
    "    u2 = np.random.uniform(0,1,size = n)\n",
    "    post_pred = weib_invcdf(u,a1_,b1_)*(u2 < rho_) + (1-(u2 < rho_))*weib_invcdf(u,a2_,b2_)\n",
    "    return post_pred\n",
    "\n",
    "post_pred = sample_one_post_predictive()\n",
    "# _ = plt.hist(post_pred, bins = 50, density =True)\n",
    "post_pred = sample_one_post_predictive()\n",
    "print(f\" The posterior probability of dying within 5 years: {np.mean(post_pred <=5)}\")\n",
    "print(f\" The empirical probability of dying within 5 years: {np.mean(y <=5)}\")"
   ]
  },
  {
   "cell_type": "markdown",
   "metadata": {},
   "source": [
    "## 1h) \n",
    "When conducting statistical analyses our goal is often to make statements\n",
    "about a certain unobserved population. Discuss briefly to what extent\n",
    "the available dataset offers any possibility for such generalisations."
   ]
  },
  {
   "cell_type": "markdown",
   "metadata": {
    "toc-hr-collapsed": true
   },
   "source": [
    "# Part 2 – Cause of death\n",
    "While working with Part 1 you might have guessed that there are in fact\n",
    "two groups of presidents in the dataset (or equivalently, that there are\n",
    "two different processes governing the life lengths of the presidents): some presidents were executed during the revolution, while the rest survived the\n",
    "revolutionary period and died of natural causes. Now we will look more\n",
    "carefully at the cause of death, by studying the variable ‘executed’ which\n",
    "indicates whether the president was executed (1), or not (0)2\n",
    "."
   ]
  },
  {
   "cell_type": "markdown",
   "metadata": {},
   "source": [
    "## 2a) \n",
    "Consider the variable z, the number of executed presidents among the\n",
    "n = 73. Assume first a simple binomial model, z ∼ Bin(n, θ), where\n",
    "θ is the probability of being executed. Before looking at the value of\n",
    "z in the dataset, use your knowledge (or lack of thereof) about the\n",
    "French revolution to specify a prior for θ. You can choose a prior from\n",
    "any parametric family you find suitable. Give a couple of sentences\n",
    "explaining your reasoning.\n",
    "\n",
    "---\n",
    "\n",
    "The French revolution is known to have caused a considerable amount of executions, also in the higher ranks of society. The executions would probably happen whenever the president came in disfavour in the National Convention (NC). Since they believed in democratic principles, you probably needed a majority in the NC to convict someone to death. If there were two stable blocks, this would happens less than 50\\% of the time. Then some presidents may try to grab power and be in disfavour of all in the NC. However, other than this I do not have any strong prior beliefs. Since execution has some moral attachments, I will guess an expected value of 10% with large uncertainties.\n",
    "\n",
    "It is suitable for computational reasons to specify a beta prior in order to get favourable conjugacy properties.  Using the reparameterized beta distribution:\n",
    "\n",
    "$$ \\alpha = K_0 \\theta_0 $$\n",
    "$$ \\beta = K_0(1-\\theta_0) $$\n",
    "\n",
    "We guess $\\theta_0 = 0.1$ and $K_0 = 2$, giving:\n",
    "\n",
    "$$ P(\\theta) = Beta(K_0 \\theta_0, K_0 (1-\\theta_0)) $$\n",
    "$$ P(\\theta) = Beta(0.2, 1.8) $$"
   ]
  },
  {
   "cell_type": "code",
   "execution_count": 2,
   "metadata": {},
   "outputs": [
    {
     "data": {
      "text/plain": [
       "[<matplotlib.lines.Line2D at 0x113842780>]"
      ]
     },
     "execution_count": 2,
     "metadata": {},
     "output_type": "execute_result"
    },
    {
     "data": {
      "image/png": "[encoded data removed]",
      "text/plain": [
       "<Figure size 432x288 with 1 Axes>"
      ]
     },
     "metadata": {
      "needs_background": "light"
     },
     "output_type": "display_data"
    }
   ],
   "source": [
    "x = np.linspace(0,1)\n",
    "K0 = 2\n",
    "theta0 = 0.1\n",
    "a = K0*theta0\n",
    "b = K0*(1-theta0)\n",
    "pdf = beta.pdf(x, a, b)\n",
    "plt.plot(x,pdf)"
   ]
  },
  {
   "cell_type": "markdown",
   "metadata": {},
   "source": [
    "## 2b) \n",
    "Find the posterior distribution $p(θ|z)$ using the prior you chose in (a).\n",
    "Give the posterior mean and 95% posterior interval for the probability\n",
    "of execution.\n",
    "\n",
    "---\n",
    "\n",
    "The likelihood $P(n|\\theta) = Bin(73,\\theta)$.\n",
    "\n",
    "We can show that the beta distribution is a conjugacy prior to the binomial since the posterior is:\n",
    "\n",
    "$$\n",
    "P(\\theta | k) \\propto Bin(k|\\theta) Beta(\\theta| \\alpha, \\beta) \\\\\n",
    "= \\theta^k (1-\\theta)^{n-k}  \\theta^{\\alpha-1} (1-\\theta)^{\\beta-1} \\\\\n",
    "= \\theta^{k + \\alpha-1} (1-\\theta)^{n - k + \\beta-1} \\\\\n",
    "\\propto Beta(k+\\alpha, n+ \\beta - k) $$"
   ]
  },
  {
   "cell_type": "code",
   "execution_count": 3,
   "metadata": {},
   "outputs": [
    {
     "name": "stdout",
     "output_type": "stream",
     "text": [
      "Exeuctions in data: 18, Total no. presidents:  73\n",
      "Posterior mean: 0.24266666666666667\n",
      "Posterior interval 95%:[0.15322265624999967,0.3451171874999999]\n"
     ]
    }
   ],
   "source": [
    "k = raw['executed'].sum()\n",
    "n = raw.shape[0]\n",
    "print(f\"Exeuctions in data: {k}, Total no. presidents:  {n}\")\n",
    "\n",
    "a_post = k+a\n",
    "b_post = n+b-k\n",
    "def minimize_cdf(cdf_lvl):\n",
    "    opt = minimize(lambda x: (beta.cdf(x, a_post, b_post) - cdf_lvl)**2, x0 = 0.5, method='nelder-mead')\n",
    "    return float(opt.x)\n",
    "\n",
    "print(f\"Posterior mean: {a_post/(a_post+b_post)}\")\n",
    "print(f\"Posterior interval 95%:[{minimize_cdf(0.025)},{minimize_cdf(0.975)}]\")"
   ]
  },
  {
   "cell_type": "markdown",
   "metadata": {
    "toc-hr-collapsed": true
   },
   "source": [
    "## 2c) \n",
    "Now, we want to investigate some covariates and their potential influence\n",
    "on the probability of being executed. Logistic regression offers a natural\n",
    "extension of the binomial model above to incorporate covariates. Let\n",
    "wi be the vector of 1 and 0 indicating whether a certain president was\n",
    "executed or not (this is the column named ‘executed’ in the dataset).\n",
    "Assume\n",
    "$$ wi ∼ Bin(1, θ_i) $$ \n",
    "for i = 1, . . . , 73.\n",
    "\n",
    "With\n",
    "\n",
    "$$ θ_i = Pr(executed|x_{1,i}, x_{2,i}) = H(α + β_1x_{1,i} + β_2x_{2,i}) \\\\\n",
    "= \\frac{exp(α + β_1x_{1,i} + β_2x_{2,i})}   {1 + exp(α + β_1x_{1,i} + β_2x_{2,i})} \n",
    "$$\n",
    "\n",
    "\n",
    "\n",
    "where H(·) is the logistic transform. Here $x_{1,i}$ is the covariate ‘girondin’\n",
    "and $x_{2,i}$ is the covariate ‘number.languages’. \n",
    "\n",
    "The first covariate is a\n",
    "vector of 1 and 0, where 1 indicates that president i belonged to a\n",
    "certain political faction of the First Republic, la Gironde (the other\n",
    "main factions were Montagne and Marais). \n",
    "\n",
    "The second covariate is a\n",
    "number between 1 and 87 which indicates the number of languages in\n",
    "which there are Wikipedia articles about president i. This covariate\n",
    "could be interpreted as a proxy for the importance of president i (in 2018, which of course may be rather different from his importance in\n",
    "1792). Show that the log-likelihood function is\n",
    "\n",
    "(...)\n",
    "\n",
    "where θi\n",
    "is a function of α, β1, β2 (as defined above). \n",
    "\n",
    "\n",
    "Programme this\n",
    "log-likelihood function and find its maximisers. Display two curves of\n",
    "estimated probability as a function of x2,\n",
    "\n",
    "\n",
    "---"
   ]
  },
  {
   "cell_type": "markdown",
   "metadata": {},
   "source": [
    "Assuming that all observations are independent conditional on x, the log likelihood function can be written as \n",
    "\n",
    "$$ loglik = \\sum_{i=1}^{73} ln P(w_i | \\theta_i) $$\n",
    "\n",
    "For each i, we can write the binomial(1) (or Bernoulli) distribution as:\n",
    "\n",
    "$$ P(w_i | \\theta_i) = \\theta_i^{w_i} (1-\\theta_i)^{1-w_i} $$\n",
    "and log of this:\n",
    "$$ ln(P(w_i | \\theta_i)) = w_i ln(\\theta_i) + (1-w_i)ln(1-\\theta_i) $$\n",
    "\n",
    "Combining this with the first equation gives:\n",
    "\n",
    "$$ loglik = \\sum_{i=1}^{73}  w_i ln(\\theta_i) + (1-w_i)ln(1-\\theta_i) $$"
   ]
  },
  {
   "cell_type": "markdown",
   "metadata": {},
   "source": [
    "#### Optimize to get maximum likelihood and plot curves"
   ]
  },
  {
   "cell_type": "code",
   "execution_count": 52,
   "metadata": {},
   "outputs": [
    {
     "name": "stdout",
     "output_type": "stream",
     "text": [
      "Optimization worked: True\n",
      "Optimal values: a=-2.162689356671675, b1=1.9206928462884725, b2=0.040793404811708074\n",
      "loglik: -34.66172225090626\n"
     ]
    }
   ],
   "source": [
    "x1 = raw.girondin.values\n",
    "x2 = raw['number.languages'].values\n",
    "w = raw.executed.values\n",
    "def get_theta(x1,x2, a,b1,b2):\n",
    "    lin = np.exp(a + b1*x1 + b2*x2)\n",
    "    return lin /(1+lin)\n",
    "\n",
    "def loglikelihood(a, b1, b2):\n",
    "    theta_ = get_theta(x1,x2,a = a, b1 = b1, b2 = b2)\n",
    "    ind_obs = (w*np.log(theta_) + (1-w)*np.log(1-theta_))\n",
    "    return ind_obs.sum()\n",
    "\n",
    "opt = minimize(lambda x: -loglikelihood(x[0],x[1],x[2]), x0 = [0, 0.5,0.1], method='BFGS')\n",
    "a_hat, b1_hat, b2_hat = opt.x\n",
    "print(f\"Optimization worked: {opt.success}\")\n",
    "print(f\"Optimal values: a={a_hat}, b1={b1_hat}, b2={b2_hat}\")\n",
    "print(f\"loglik: {loglikelihood(a_hat,b1_hat,b2_hat)}\")"
   ]
  },
  {
   "cell_type": "code",
   "execution_count": 54,
   "metadata": {},
   "outputs": [
    {
     "data": {
      "text/plain": [
       "[<matplotlib.lines.Line2D at 0x11392e588>]"
      ]
     },
     "execution_count": 54,
     "metadata": {},
     "output_type": "execute_result"
    },
    {
     "data": {
      "image/png": "[encoded data removed]",
      "text/plain": [
       "<Figure size 432x288 with 1 Axes>"
      ]
     },
     "metadata": {
      "needs_background": "light"
     },
     "output_type": "display_data"
    }
   ],
   "source": [
    "x2sort = np.sort(x2)\n",
    "theta_G = get_theta(x1 = 1, x2 = x2sort, a = a_hat, b1 = b1_hat, b2 = b2_hat)\n",
    "theta_O = get_theta(x1 = 0, x2 = x2sort, a = a_hat, b1 = b1_hat, b2 = b2_hat)\n",
    "\n",
    "plt.plot(x2sort, theta_G)\n",
    "plt.plot(x2sort, theta_O)"
   ]
  },
  {
   "cell_type": "markdown",
   "metadata": {
    "toc-hr-collapsed": true
   },
   "source": [
    "## 2d) \n",
    "Again we have visited Mrs. Capet in order to obtain some informative\n",
    "prior distributions. This time she gave us the following information;\n",
    "\n",
    "- the ‘baseline’ probability of execution follows a certain Beta\n",
    "distribution: \n",
    "\n",
    "$$θ_0 = \\frac{exp(a)}{1+exp(a)} ∼ Beta(2, 5) $$\n",
    "\n",
    "- the odds-ratio of execution for a member of la Gironde compared to\n",
    "a non-member follows a certain Gamma distribution, this translates\n",
    "to \n",
    "\n",
    "\n",
    "$$exp(β_1) ∼ Gamma(9, 2) $$\n",
    "\n",
    "- the odds-ratio of execution for a president with Wikipedia article in\n",
    "one more language follows another Gamma distribution: \n",
    "\n",
    "$$ exp(β_2) ∼ Gamma(1, 0.5) $$\n",
    "\n",
    "Set up an MCMC to draw from the posterior distribution of (α, β1, β2)\n",
    "using the specified prior. Record posterior means and 95% intervals for\n",
    "the three model parameters, and compare with values obtained by the\n",
    "‘Lazy Bayesian’ strategy, that of normal approximations from maximum\n",
    "likelihood theory.\n",
    "\n",
    "---\n",
    "\n"
   ]
  },
  {
   "cell_type": "markdown",
   "metadata": {},
   "source": [
    "From the exercise, we assume that $\\alpha = a$.\n",
    "\n",
    "We have that the posterior is defined as \n",
    "\n",
    "$$ P(\\alpha, \\beta_1, \\beta_2 | data) \\propto P(data | \\alpha, \\beta_1, \\beta_2) * P(\\alpha, \\beta_1, \\beta_2) $$\n",
    "\n",
    "We have the likelihood from previous exercise:\n",
    "\n",
    "$$ ln P(data | \\alpha, \\beta_1, \\beta_2) =  \\sum_{i=1}^{73}  w_i ln(\\theta_i) + (1-w_i)ln(1-\\theta_i) $$\n",
    "\n",
    "$$ θ_i = H(α + β_1x_{1,i} + β_2x_{2,i})$$\n",
    "\n",
    "Assume that the priors are independent:\n",
    "\n",
    "$$ P(\\alpha, \\beta_1, \\beta_2) = P(\\alpha) P(\\beta_1) P(\\beta_2) $$\n",
    "\n",
    "Posterior is then: \n",
    "\\begin{equation}\n",
    "lnP(\\alpha, \\beta_1, \\beta_2 | data) \\propto \\sum_{i=1}^{73}  w_i ln(\\theta_i) + (1-w_i)ln(1-\\theta_i) + \n",
    "lnP(\\alpha) + lnP(\\beta_1) + lnP(\\beta_2)\n",
    "\\end{equation}\n",
    "\n",
    "To get $P(\\beta_1)$ we need to translate variables. \n",
    "We know that \n",
    "\n",
    "  $$P_u = P(exp(\\beta_1)) = Gamma(9,2)$$.\n",
    "  \n",
    "We need to know $P(ln(U))$. Setting $ v = ln(u)$ we know that\n",
    "\n",
    "$$ P_v = |J| P_u (exp(v) ) = exp(\\beta_1) Gamma(exp(\\beta_1), 9, 2)$$\n",
    "\n",
    "$$ P_{\\beta_1} = exp(\\beta_1) Gamma(exp(\\beta_1), 9, 2)$$\n",
    "\n",
    "\n",
    "Similarly for $\\beta_2$ we get \n",
    "\n",
    "$$ P_{\\beta_2} = exp(\\beta_2) Gamma(exp(\\beta_2), 1, 0.5)$$\n",
    "\n",
    "\n",
    "For a we have that $\\theta_0 = H(a) ~ Beta(2,5)$.\n",
    "We want to find the distribution of $a = ln(\\frac{1}{1-\\theta_0})$.\n",
    "Then we know that:\n",
    "\n",
    "$$ P_a(a) = |J| P_{\\theta_0}(H(a)) $$\n",
    "\n",
    "where \n",
    "$$|J| = \\frac{d}{da} H(a) = \\frac{d}{dv} \\frac{e^a}{1+e^a} $$ \n",
    "$$|J| = \\frac{e^a}{(1+e^a)^2}  $$\n",
    "\n",
    "so\n",
    "$$ P_a(a) = \\frac{e^a}{(1+e^a)^2} Beta(\\frac{e^a}{1+e^a}, 2,5) $$\n"
   ]
  },
  {
   "cell_type": "code",
   "execution_count": 56,
   "metadata": {},
   "outputs": [
    {
     "name": "stdout",
     "output_type": "stream",
     "text": [
      "0.9936253929992874\n",
      "0.9926213195911356\n",
      "0.9895449467767611\n"
     ]
    },
    {
     "data": {
      "image/png": "[encoded data removed]",
      "text/plain": [
       "<Figure size 432x288 with 1 Axes>"
      ]
     },
     "metadata": {
      "needs_background": "light"
     },
     "output_type": "display_data"
    }
   ],
   "source": [
    "# Coded from above:\n",
    "b1pdf = lambda x: np.exp(x) *gamma.pdf(np.exp(x), 9, 2)\n",
    "b2pdf = lambda x: np.exp(x) *gamma.pdf(np.exp(x), 1, 0.5)\n",
    "apdf = lambda x: np.exp(x)/((1 + np.exp(x))**2) * beta.pdf(np.exp(x) /(1+np.exp(x)), 2, 5)\n",
    "def posterior_log(a,b1,b2):\n",
    "    logprior = np.log(b1pdf(b1)) + np.log(b2pdf(b2)) + np.log(apdf(a))\n",
    "    loglik = loglikelihood(a, b1, b2)\n",
    "    return logprior + loglik\n",
    "\n",
    "# Check soundness of prior pdf's:\n",
    "for f in [b1pdf, b2pdf, apdf]:\n",
    "    x = np.linspace(-5,5)\n",
    "    pdf = f(x)\n",
    "    plt.plot(x,pdf)\n",
    "    print(mc_integrate(b1pdf, -5, 5))"
   ]
  },
  {
   "cell_type": "code",
   "execution_count": 7,
   "metadata": {},
   "outputs": [
    {
     "data": {
      "image/png": "[encoded data removed]",
      "text/plain": [
       "<Figure size 432x288 with 1 Axes>"
      ]
     },
     "metadata": {
      "needs_background": "light"
     },
     "output_type": "display_data"
    }
   ],
   "source": [
    "## Metropolis hasting MCMC:\n",
    "steps = int(5e4)\n",
    "d = 3\n",
    "delta = 0.1\n",
    "\n",
    "par = np.zeros((steps,3))\n",
    "par[0,] = [0, 1, -0.1] #Some admissable starting values\n",
    "# also tried with mls initial vals with approx same result: [-2.1626970, 1.92067475, 0.0407935670]\n",
    "\n",
    "for t in range(1, steps):\n",
    "    cand = par[t-1,] + uniform.rvs(-0.5, 1,size=d)*delta\n",
    "    \n",
    "    logdiff = posterior_log(cand[0], cand[1], cand[2]) - posterior_log(par[t-1,0], par[t-1,1], par[t-1,2])\n",
    "    ratio = np.exp(logdiff)\n",
    "    \n",
    "    if uniform.rvs() < ratio:\n",
    "        par[t,] = cand\n",
    "    else:\n",
    "        par[t,] = par[t-1,]\n",
    "        \n",
    "for i in range(d):\n",
    "    plt.plot(par[:,i])"
   ]
  },
  {
   "cell_type": "code",
   "execution_count": 8,
   "metadata": {},
   "outputs": [
    {
     "name": "stdout",
     "output_type": "stream",
     "text": [
      "a: \t mean=-2.166769098876545\t  95% interval: [-2.9672574269856336, -1.5663180352703803]\n",
      "b1: \t mean=2.2621286406481325\t  95% interval: [1.765584376387526, 2.7419447289101146]\n",
      "b2: \t mean=0.04084483992062008\t  95% interval: [0.008311089882537193, 0.07961755040411006]\n"
     ]
    },
    {
     "data": {
      "image/png": "[encoded data removed]",
      "text/plain": [
       "<Figure size 432x288 with 1 Axes>"
      ]
     },
     "metadata": {
      "needs_background": "light"
     },
     "output_type": "display_data"
    }
   ],
   "source": [
    "post_samples = par[10000:,] #burnout\n",
    "for i, name in enumerate([\"a\",\"b1\",\"b2\"]):\n",
    "    dsort = np.sort(post_samples[:,i])\n",
    "    print(\"{}: \\t mean={}\\t  95% interval: [{}, {}]\".format(name, np.mean(dsort), dsort[int(0.025*len(dsort))], dsort[int(0.975*len(dsort))]))\n",
    "    plt.hist(post_samples[:,i])"
   ]
  },
  {
   "cell_type": "markdown",
   "metadata": {},
   "source": [
    "#### Compare with lazy bayes NBNB\n",
    "The full posterior can be written as\n",
    "\n",
    "\\begin{equation}\n",
    "lnP(\\alpha, \\beta_1, \\beta_2 | data) = \\sum_{i=1}^{73}  w_i ln(\\theta_i) + (1-w_i)ln(1-\\theta_i) + \n",
    "lnP(\\alpha) + lnP(\\beta_1) + lnP(\\beta_2)\n",
    "\\end{equation}\n",
    "\n",
    "$$ P_a(a) = \\frac{e^a}{(1+e^a)^2} Beta(\\frac{e^a}{1+e^a}, 2,5) $$\n",
    "$$ P_{\\beta_2} = exp(\\beta_2) Gamma(exp(\\beta_2), 1, 0.5)$$\n",
    "$$ P_{\\beta_1} = exp(\\beta_1) Gamma(exp(\\beta_1), 9, 2)$$"
   ]
  },
  {
   "cell_type": "code",
   "execution_count": 83,
   "metadata": {},
   "outputs": [],
   "source": [
    "# Maximize the posterior to get mode and hessian values:\n",
    "# start in mle optimal point.\n",
    "opt = minimize(lambda x: -posterior_log(x[0],x[1],x[2]), \n",
    "               x0 = [-2.1626970, 1.92067475, 0.0407935670], method='BFGS')\n",
    "\n",
    "# Get hessian:\n",
    "mode = opt.x\n",
    "invI = opt.hess_inv \n",
    "# Since we have minimized the negative logP, the inverse hessian from the optimization  is inv(-H)\n",
    "\n",
    "# Evaluate the approximation numerically because we are lazy:\n",
    "lazy_post = np.random.multivariate_normal(mode, H, size = 1000)"
   ]
  },
  {
   "cell_type": "code",
   "execution_count": 84,
   "metadata": {},
   "outputs": [
    {
     "name": "stdout",
     "output_type": "stream",
     "text": [
      "a: \t mean=-2.1365192161820254\t  95% interval: [-2.8578446099293027, -1.4107531671468743]\n",
      "b1: \t mean=2.274295154452553\t  95% interval: [1.784203739915434, 2.7882690296087898]\n",
      "b2: \t mean=0.03924296600446917\t  95% interval: [0.00666155992294791, 0.07330321202700735]\n"
     ]
    },
    {
     "data": {
      "image/png": "[encoded data removed]",
      "text/plain": [
       "<Figure size 432x288 with 1 Axes>"
      ]
     },
     "metadata": {
      "needs_background": "light"
     },
     "output_type": "display_data"
    }
   ],
   "source": [
    "for i, name in enumerate([\"a\",\"b1\",\"b2\"]):\n",
    "    dsort = np.sort(lazy_post[:,i])\n",
    "    print(\"{}: \\t mean={}\\t  95% interval: [{}, {}]\".format(name, np.mean(dsort), dsort[int(0.025*len(dsort))], dsort[int(0.975*len(dsort))]))\n",
    "    plt.hist(post_samples[:,i])"
   ]
  },
  {
   "cell_type": "markdown",
   "metadata": {},
   "source": [
    "## 2e)\n",
    "Below is the posterior 5% and 95% quantile, as well as the posterior mean for different values of x2 (and x1).\n",
    "\n",
    "A couple of points can be remarked:\n",
    "- For less famous presidents (low $x_2$), there is significant higher probabilities of being executed if you are a member of la Gironde.\n",
    "- For more famous presidents (high $x_2$), the uncertainty is in general higher. It is also more unclear whether membership in la Gironde gives you a higher execution probability, as the 90% bands intersects."
   ]
  },
  {
   "cell_type": "code",
   "execution_count": 36,
   "metadata": {},
   "outputs": [
    {
     "data": {
      "image/png": "[encoded data removed]",
      "text/plain": [
       "<Figure size 432x288 with 1 Axes>"
      ]
     },
     "metadata": {
      "needs_background": "light"
     },
     "output_type": "display_data"
    }
   ],
   "source": [
    "for x1_val in [0,1]:\n",
    "    q95 = np.zeros(len(x2sort))\n",
    "    q05 = np.zeros(len(x2sort))\n",
    "    avg = np.zeros(len(x2sort))\n",
    "    for i, val in enumerate(x2sort):\n",
    "        pos = get_theta(x1 = x1_val, x2 = val, \n",
    "                        a = post_samples[:,0], \n",
    "                        b1 = post_samples[:,1], \n",
    "                        b2 = post_samples[:,2])\n",
    "        q95[i] = np.quantile(pos,0.95)\n",
    "        q05[i] = np.quantile(pos,0.05)\n",
    "        avg[i] = np.mean(pos)\n",
    "\n",
    "    plt.plot(x2sort, q95, linestyle = 'dashed')\n",
    "    plt.plot(x2sort, q05, linestyle = 'dashed')\n",
    "    plt.plot(x2sort, avg)"
   ]
  },
  {
   "cell_type": "markdown",
   "metadata": {},
   "source": [
    "## 2f)"
   ]
  },
  {
   "cell_type": "code",
   "execution_count": 39,
   "metadata": {},
   "outputs": [
    {
     "data": {
      "text/html": [
       "<div>\n",
       "<style scoped>\n",
       "    .dataframe tbody tr th:only-of-type {\n",
       "        vertical-align: middle;\n",
       "    }\n",
       "\n",
       "    .dataframe tbody tr th {\n",
       "        vertical-align: top;\n",
       "    }\n",
       "\n",
       "    .dataframe thead th {\n",
       "        text-align: right;\n",
       "    }\n",
       "</style>\n",
       "<table border=\"1\" class=\"dataframe\">\n",
       "  <thead>\n",
       "    <tr style=\"text-align: right;\">\n",
       "      <th></th>\n",
       "      <th>Unnamed: 0</th>\n",
       "      <th>name</th>\n",
       "      <th>birth</th>\n",
       "      <th>death</th>\n",
       "      <th>term.start</th>\n",
       "      <th>term.end</th>\n",
       "      <th>executed</th>\n",
       "      <th>girondin</th>\n",
       "      <th>number.languages</th>\n",
       "    </tr>\n",
       "  </thead>\n",
       "  <tbody>\n",
       "    <tr>\n",
       "      <th>0</th>\n",
       "      <td>1</td>\n",
       "      <td>Jerome Petion de Villeneuve</td>\n",
       "      <td>1756.008333</td>\n",
       "      <td>1794.466667</td>\n",
       "      <td>1792.722222</td>\n",
       "      <td>1792.761111</td>\n",
       "      <td>1</td>\n",
       "      <td>1</td>\n",
       "      <td>15</td>\n",
       "    </tr>\n",
       "    <tr>\n",
       "      <th>1</th>\n",
       "      <td>2</td>\n",
       "      <td>Jean-Francois Delacroix</td>\n",
       "      <td>1753.258333</td>\n",
       "      <td>1794.263889</td>\n",
       "      <td>1792.761111</td>\n",
       "      <td>1792.800000</td>\n",
       "      <td>1</td>\n",
       "      <td>0</td>\n",
       "      <td>4</td>\n",
       "    </tr>\n",
       "  </tbody>\n",
       "</table>\n",
       "</div>"
      ],
      "text/plain": [
       "   Unnamed: 0                         name        birth        death  \\\n",
       "0           1  Jerome Petion de Villeneuve  1756.008333  1794.466667   \n",
       "1           2      Jean-Francois Delacroix  1753.258333  1794.263889   \n",
       "\n",
       "    term.start     term.end  executed  girondin  number.languages  \n",
       "0  1792.722222  1792.761111         1         1                15  \n",
       "1  1792.761111  1792.800000         1         0                 4  "
      ]
     },
     "execution_count": 39,
     "metadata": {},
     "output_type": "execute_result"
    }
   ],
   "source": [
    "raw.head(2)"
   ]
  },
  {
   "cell_type": "code",
   "execution_count": 45,
   "metadata": {},
   "outputs": [],
   "source": [
    "theta_hat = np.zeros(len(x1))\n",
    "\n",
    "for i, (x1_val, x2_val) in enumerate(zip(x1,x2)):\n",
    "        pos = get_theta(x1 = x1_val, x2 = x2_val,\n",
    "                        a = post_samples[:,0],\n",
    "                        b1 = post_samples[:,1],\n",
    "                        b2 = post_samples[:,2])\n",
    "        theta_hat[i] = pos.mean()"
   ]
  },
  {
   "cell_type": "code",
   "execution_count": 48,
   "metadata": {},
   "outputs": [],
   "source": [
    "yhat = theta_hat >= 0.3"
   ]
  },
  {
   "cell_type": "code",
   "execution_count": 85,
   "metadata": {},
   "outputs": [
    {
     "data": {
      "text/plain": [
       "0.2465753424657534"
      ]
     },
     "execution_count": 85,
     "metadata": {},
     "output_type": "execute_result"
    }
   ],
   "source": [
    "np.abs(yhat-raw['executed']).mean()"
   ]
  },
  {
   "cell_type": "code",
   "execution_count": null,
   "metadata": {},
   "outputs": [],
   "source": []
  },
  {
   "cell_type": "code",
   "execution_count": null,
   "metadata": {},
   "outputs": [],
   "source": []
  }
 ],
 "metadata": {
  "kernelspec": {
   "display_name": "Python 3",
   "language": "python",
   "name": "python3"
  },
  "language_info": {
   "codemirror_mode": {
    "name": "ipython",
    "version": 3
   },
   "file_extension": ".py",
   "mimetype": "text/x-python",
   "name": "python",
   "nbconvert_exporter": "python",
   "pygments_lexer": "ipython3",
   "version": "3.7.0"
  },
  "toc-autonumbering": false,
  "toc-showcode": true,
  "toc-showmarkdowntxt": false
 },
 "nbformat": 4,
 "nbformat_minor": 2
}
