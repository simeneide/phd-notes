{
 "cells": [
  {
   "cell_type": "markdown",
   "metadata": {},
   "source": [
    "# Oblig stk4021\n",
    "Simen Eide\n",
    "\n",
    "## Load data and libraries"
   ]
  },
  {
   "cell_type": "code",
   "execution_count": 1,
   "metadata": {},
   "outputs": [
    {
     "data": {
      "text/html": [
       "<div>\n",
       "<style scoped>\n",
       "    .dataframe tbody tr th:only-of-type {\n",
       "        vertical-align: middle;\n",
       "    }\n",
       "\n",
       "    .dataframe tbody tr th {\n",
       "        vertical-align: top;\n",
       "    }\n",
       "\n",
       "    .dataframe thead th {\n",
       "        text-align: right;\n",
       "    }\n",
       "</style>\n",
       "<table border=\"1\" class=\"dataframe\">\n",
       "  <thead>\n",
       "    <tr style=\"text-align: right;\">\n",
       "      <th></th>\n",
       "      <th>Unnamed: 0</th>\n",
       "      <th>name</th>\n",
       "      <th>birth</th>\n",
       "      <th>death</th>\n",
       "      <th>term.start</th>\n",
       "      <th>term.end</th>\n",
       "      <th>executed</th>\n",
       "      <th>girondin</th>\n",
       "      <th>number.languages</th>\n",
       "    </tr>\n",
       "  </thead>\n",
       "  <tbody>\n",
       "    <tr>\n",
       "      <th>0</th>\n",
       "      <td>1</td>\n",
       "      <td>Jerome Petion de Villeneuve</td>\n",
       "      <td>1756.008333</td>\n",
       "      <td>1794.466667</td>\n",
       "      <td>1792.722222</td>\n",
       "      <td>1792.761111</td>\n",
       "      <td>1</td>\n",
       "      <td>1</td>\n",
       "      <td>15</td>\n",
       "    </tr>\n",
       "    <tr>\n",
       "      <th>1</th>\n",
       "      <td>2</td>\n",
       "      <td>Jean-Francois Delacroix</td>\n",
       "      <td>1753.258333</td>\n",
       "      <td>1794.263889</td>\n",
       "      <td>1792.761111</td>\n",
       "      <td>1792.800000</td>\n",
       "      <td>1</td>\n",
       "      <td>0</td>\n",
       "      <td>4</td>\n",
       "    </tr>\n",
       "  </tbody>\n",
       "</table>\n",
       "</div>"
      ],
      "text/plain": [
       "   Unnamed: 0                         name        birth        death  \\\n",
       "0           1  Jerome Petion de Villeneuve  1756.008333  1794.466667   \n",
       "1           2      Jean-Francois Delacroix  1753.258333  1794.263889   \n",
       "\n",
       "    term.start     term.end  executed  girondin  number.languages  \n",
       "0  1792.722222  1792.761111         1         1                15  \n",
       "1  1792.761111  1792.800000         1         0                 4  "
      ]
     },
     "execution_count": 1,
     "metadata": {},
     "output_type": "execute_result"
    }
   ],
   "source": [
    "import pandas as pd\n",
    "import scipy.stats\n",
    "import numpy as np\n",
    "import matplotlib.pyplot as plt\n",
    "%matplotlib inline\n",
    "raw = pd.read_csv(\"fr1_data\")\n",
    "raw.head(2)"
   ]
  },
  {
   "cell_type": "markdown",
   "metadata": {},
   "source": [
    "## Part 1 - Life-length after presidency\n",
    "\n",
    "### a)\n",
    "Find the data and define the variable y as specified above. Display a\n",
    "histogram of these time points. The histogram should look like the one\n",
    "displayed in Figure 1.\n",
    "\n",
    "---"
   ]
  },
  {
   "cell_type": "code",
   "execution_count": 2,
   "metadata": {},
   "outputs": [
    {
     "data": {
      "image/png": "[encoded data removed]",
      "text/plain": [
       "<Figure size 432x288 with 1 Axes>"
      ]
     },
     "metadata": {
      "needs_background": "light"
     },
     "output_type": "display_data"
    }
   ],
   "source": [
    "raw['postpres'] = raw['death'] - raw['term.end']\n",
    "y = raw['postpres'].values\n",
    "_ = plt.hist(y, density=True, bins = 12)"
   ]
  },
  {
   "cell_type": "markdown",
   "metadata": {},
   "source": [
    "### b)\n",
    "\n",
    "Find the density of the two-parameter weibull model. CDF:\n",
    "\n",
    "---\n",
    "\n",
    "$$ F(y|a,b) = 1 - e^{-(y/a)^{b})} $$\n",
    "\n",
    "Get density by taking derivative w.r.t. y:\n",
    "$$ \\frac{dF}{dy} = -exp(-(y/a)^{b})) (-b) (\\frac{y}{a})^{b-1} (\\frac{1}{a}) $$\n",
    "\n",
    "Rearranging:\n",
    "$$ f(y |a,b) = \\frac{dF}{dy} = e^{-(y/a)^{b}} (\\frac{by^{b-1}}{a^b}) $$\n"
   ]
  },
  {
   "cell_type": "markdown",
   "metadata": {},
   "source": [
    "## c) \n",
    "We are Bayesian statisticians today, and we need to specify a prior for\n",
    "the unknown parameters a and b above. Assume first that we have not\n",
    "yet managed to get hold of a suitable expert, and that we therefore wish\n",
    "to use the ‘non-informative’ Jeffreys prior for the Weibull model. Show\n",
    "that the Jeffreys prior, p0(a, b), is proportional to 1/a.\n",
    "\n",
    "---"
   ]
  },
  {
   "cell_type": "markdown",
   "metadata": {},
   "source": [
    "## d)\n",
    "Assume now (for simplicity) that the parameter b happens to be known\n",
    "and equal to 0.9. \n",
    "\n",
    "- Find the posterior distribution for a using Jeffreys prior\n",
    "above. Here you may find it useful to use some numerical integration\n",
    "routine, for instance integrate in R. \n",
    "- Display the posterior density for\n",
    "a and find the posterior mode. \n",
    "- Use this point-estimate for a to display\n",
    "the estimated Weibull density curve along with the histogram of the\n",
    "data. This should look like Figure 1. \n",
    "- Comment briefly on how you think\n",
    "the model fits the data.\n",
    "\n",
    "----\n",
    "The likelihood\n",
    "\n",
    "$$ P(y|a,b) = \\prod_{i=1}^{73} e^{-(y_i/a)^{b}} (\\frac{by_i^{b-1}}{a^b}) $$\n",
    "\n",
    "The posterior is propotional to\n",
    "\n",
    "$$ P(a|y) \\propto P(y |a,b) * \\frac{1}{a} $$\n",
    "\n",
    "We can find the normalizing constant by numerically integrating $P(a|y)$ by monte carlo integration:"
   ]
  },
  {
   "cell_type": "code",
   "execution_count": 3,
   "metadata": {},
   "outputs": [],
   "source": [
    "# Define non-normalized prior, likelihood and posterior:\n",
    "\n",
    "def weibull_density(y,a,b):\n",
    "    return np.exp(-(y/a)**b) * b * y**(b-1) / a**b\n",
    "\n",
    "b0 = 0.9\n",
    "def nonnorm_likelihood(a, b = b0): \n",
    "    l = weibull_density(y,a,b)\n",
    "    return l.prod()\n",
    "\n",
    "def nonnorm_prior(a,b = b0):\n",
    "    return 1/a\n",
    "\n",
    "nonnorm_posterior = lambda a: nonnorm_likelihood(a,b0)*nonnorm_prior(a,b0)\n",
    "nonnorm_posterior = np.vectorize(nonnorm_posterior)"
   ]
  },
  {
   "cell_type": "code",
   "execution_count": 4,
   "metadata": {},
   "outputs": [
    {
     "name": "stdout",
     "output_type": "stream",
     "text": [
      "5.31622777169167e-130\n"
     ]
    }
   ],
   "source": [
    "## Integrate to get posterior:\n",
    "def mc_integrate(f, low = 0, high = 1, samples = 100000):\n",
    "    u = np.random.uniform(low = low, high = high, size=samples)\n",
    "    pmf = f(u)*(high-low)\n",
    "    return np.mean(pmf)\n",
    "\n",
    "const = mc_integrate(nonnorm_posterior, low = 10, high = 30)\n",
    "print(const)\n",
    "posterior = lambda a: nonnorm_posterior(a)*1/const"
   ]
  },
  {
   "cell_type": "code",
   "execution_count": 5,
   "metadata": {},
   "outputs": [
    {
     "name": "stdout",
     "output_type": "stream",
     "text": [
      "Visualize the posterior:\n"
     ]
    },
    {
     "data": {
      "image/png": "[encoded data removed]",
      "text/plain": [
       "<Figure size 432x288 with 1 Axes>"
      ]
     },
     "metadata": {
      "needs_background": "light"
     },
     "output_type": "display_data"
    }
   ],
   "source": [
    "print('Visualize the posterior:')\n",
    "a_ = np.linspace(0.1,50, 100)\n",
    "p = posterior(a_)\n",
    "_ = plt.plot(a_,p)"
   ]
  },
  {
   "cell_type": "code",
   "execution_count": 6,
   "metadata": {},
   "outputs": [
    {
     "name": "stdout",
     "output_type": "stream",
     "text": [
      "The mode of the posterior is 20.261616161616164.\n"
     ]
    }
   ],
   "source": [
    "## Find the mode:\n",
    "a_mode = a_[p.argmax()]\n",
    "print(\"The mode of the posterior is {}.\".format(a_mode))"
   ]
  },
  {
   "cell_type": "code",
   "execution_count": 7,
   "metadata": {},
   "outputs": [
    {
     "data": {
      "image/png": "[encoded data removed]",
      "text/plain": [
       "<Figure size 432x288 with 1 Axes>"
      ]
     },
     "metadata": {
      "needs_background": "light"
     },
     "output_type": "display_data"
    }
   ],
   "source": [
    "### Visualize the mode point estimate of the distribution\n",
    "# Plot on same area as observed data\n",
    "w_density = weibull_density(y,a = a_mode, b = 0.9)\n",
    "\n",
    "plt.plot(y,w_density, \"o\")\n",
    "_ = plt.hist(y, density=True, bins = 12)"
   ]
  },
  {
   "cell_type": "markdown",
   "metadata": {},
   "source": [
    "#### Comments on model fit\n",
    "The fit seems to work at either end of the scale, but there seems to be something wrong from y=5 to y=20.\n",
    "It seems like quite a few of the leaders died shortly after their period terminated, whereas other lived for a long time."
   ]
  },
  {
   "cell_type": "markdown",
   "metadata": {},
   "source": [
    "### (e) \n",
    "The histogram of post-presidency life-times is rather unusual-looking,\n",
    "and somewhat bimodal, therefore we will now attempt a more complex\n",
    "model, a mixture of two Weibull distributions. The density takes the\n",
    "following form,\n",
    "\n",
    "g(y|a1, b1, a2, b2, ρ) = ρf(y|a1, b1) + (1 − ρ)f(y|a2, b2) for y > 0.\n",
    "\n",
    "Here f(·) is the Weibull density function given in (b), a1, b1, a2 and b2\n",
    "are positive parameters, and ρ is the mixture parameter, taking values\n",
    "between 0 and 1. Programme the log-likelihood function\n",
    "`n(a1, b1, a2, b2, ρ) = Xn\n",
    "i=1\n",
    "log g(yi\n",
    "|a1, b1, a2, b2, ρ),\n",
    "and find the maximum likelihood estimates for the n = 73 life-times\n",
    "using a suitable numerical optimiser. Good starting values are important\n",
    "in this case, you may use (2, 1, 35, 3, 0.5). Add the estimated density\n",
    "curve to the same figure as in the previous question and comment briefly"
   ]
  },
  {
   "cell_type": "code",
   "execution_count": 8,
   "metadata": {},
   "outputs": [],
   "source": [
    "def twoWeibullDensity(y, a1,b1,a2,b2,rho):\n",
    "    return rho*weibull_density(y,a1,b1) + (1-rho)*weibull_density(y,a2,b2)\n"
   ]
  },
  {
   "cell_type": "code",
   "execution_count": 9,
   "metadata": {},
   "outputs": [],
   "source": [
    "par0 = np.array([2,1,35,3,0.5])"
   ]
  },
  {
   "cell_type": "code",
   "execution_count": 10,
   "metadata": {},
   "outputs": [],
   "source": [
    "lik = lambda par : sum(np.log(twoWeibullDensity(y,par[0],par[1],par[2],par[3],par[4])))"
   ]
  },
  {
   "cell_type": "code",
   "execution_count": 11,
   "metadata": {},
   "outputs": [],
   "source": [
    "from scipy.optimize import minimize"
   ]
  },
  {
   "cell_type": "code",
   "execution_count": 12,
   "metadata": {},
   "outputs": [
    {
     "data": {
      "text/plain": [
       "array([ 2.31358752,  1.12873223, 36.58008183,  2.97417611,  0.36314301])"
      ]
     },
     "execution_count": 12,
     "metadata": {},
     "output_type": "execute_result"
    }
   ],
   "source": [
    "opt = minimize(lambda par: -lik(par),par0, method='nelder-mead')\n",
    "par = opt.x\n",
    "par"
   ]
  },
  {
   "cell_type": "code",
   "execution_count": 13,
   "metadata": {},
   "outputs": [],
   "source": [
    "mle = twoWeibullDensity(y, par[0],par[1],par[2],par[3],par[4])"
   ]
  },
  {
   "cell_type": "code",
   "execution_count": 14,
   "metadata": {},
   "outputs": [
    {
     "data": {
      "image/png": "[encoded data removed]",
      "text/plain": [
       "<Figure size 432x288 with 1 Axes>"
      ]
     },
     "metadata": {
      "needs_background": "light"
     },
     "output_type": "display_data"
    }
   ],
   "source": [
    "plt.plot(y,mle, \"o\")\n",
    "plt.plot(y,w_density, \"o\")\n",
    "_ = plt.hist(y, density=True, bins = 20)"
   ]
  },
  {
   "cell_type": "markdown",
   "metadata": {},
   "source": [
    "The bimodal distribution seems to much better fit the data as it has a significant dip for $y \\in (5,20)$."
   ]
  },
  {
   "cell_type": "markdown",
   "metadata": {},
   "source": [
    "### (f) \n",
    "Assume we have consulted with Mrs. Capet, an expert in revolutionary\n",
    "history, and she has given us the following prior for the full parameter\n",
    "vector $(a1, b1, a2, b2, ρ)$: \n",
    "let the five parameters be independent and\n",
    "$$a1 ∼ Gamma(3, 1)$$\n",
    "$$b1 ∼ Unif(0.5, 4)$$\n",
    "$$a2 ∼ Gamma(20, 1)$$\n",
    "$$b2 ∼ Gamma(10, 2)$$\n",
    "$$p ∼ Beta(α, β) $$\n",
    "\n",
    "Further, let the prior for ρ be a $Beta(α, β)$, such that $E(ρ) = 0.2$ and\n",
    "$Var(ρ) = 0.04^2$. \n",
    "\n",
    "- Find the corresponding α, β values (if you do not\n",
    "manage this part, use α = 2 and β = 5 in the following). \n",
    "- Using the prior\n",
    "above, draw 1000 random post-presidency life-times from the associated\n",
    "prior predictive distribution, and display them in a histogram. \n",
    "- Comment\n",
    "briefly.\n",
    "\n",
    "\n",
    "---\n"
   ]
  },
  {
   "cell_type": "code",
   "execution_count": 15,
   "metadata": {},
   "outputs": [],
   "source": [
    "from scipy.stats.distributions import gamma, uniform, beta"
   ]
  },
  {
   "cell_type": "code",
   "execution_count": 16,
   "metadata": {},
   "outputs": [
    {
     "name": "stdout",
     "output_type": "stream",
     "text": [
      "ESTIMATE:\n",
      "alpha: 19.79999999999069, beta: 79.19999999996335\n",
      "gives mean 0.1999999999999988 and variance 0.040000000000009105^2.\n"
     ]
    }
   ],
   "source": [
    "### get beta distr with correct alpha and beta\n",
    "p0 = np.array([2,5]) #initial cond.\n",
    "f = lambda p: (beta.mean(p[0], p[1])- 0.2)**2 + (beta.var(p[0], p[1]) - 0.04**2)**2\n",
    "opt = minimize(f, p0, tol = 1e-10, method='nelder-mead')\n",
    "p = opt.x\n",
    "print(\"ESTIMATE:\")\n",
    "print(\"alpha: {}, beta: {}\".format(p[0],p[1]) )\n",
    "print(\"gives mean {} and variance {}^2.\".format(beta.mean(p[0], p[1]), np.sqrt(beta.var(p[0], p[1]))))"
   ]
  },
  {
   "cell_type": "markdown",
   "metadata": {},
   "source": [
    "#### Draw 1000 from predictive distribution\n",
    "\n",
    "First inverse the weibull so we can sample from it by using unif random:\n",
    "\n",
    "$$ F^{-1}(X) = \\alpha (-ln(1-X))^{1/b}$$"
   ]
  },
  {
   "cell_type": "code",
   "execution_count": 17,
   "metadata": {},
   "outputs": [
    {
     "data": {
      "image/png": "[encoded data removed]",
      "text/plain": [
       "<Figure size 432x288 with 1 Axes>"
      ]
     },
     "metadata": {
      "needs_background": "light"
     },
     "output_type": "display_data"
    }
   ],
   "source": [
    "def weib_invcdf(x, a,b):\n",
    "    return a*(-np.log(x))**(1/b)\n",
    "\n",
    "n = 1000\n",
    "a1_ = gamma.rvs(3,2, size=n)\n",
    "b1_ = uniform.rvs(0.5,3.5, size=n) # seems like second argument is the added diff\n",
    "a2_ = gamma.rvs(20,1, size=n)\n",
    "b2_ = gamma.rvs(10,2, size=n)\n",
    "rho_ = beta.rvs(p[0],p[1], size = n)\n",
    "\n",
    "u = np.random.uniform(0,1,size = n)\n",
    "u2 = np.random.uniform(0,1,size = n)\n",
    "prior_sample = weib_invcdf(u,a1_,b1_)*(u2 < rho_) + (1-(u2 < rho_))*weib_invcdf(u,a2_,b2_)\n",
    "_ = plt.hist(prior_sample, bins = 120)"
   ]
  },
  {
   "cell_type": "markdown",
   "metadata": {},
   "source": [
    "The posterior has managed to get the shape of the real data fairly well, but seems to be a bit weak in the tails."
   ]
  },
  {
   "cell_type": "markdown",
   "metadata": {},
   "source": [
    "### (g) \n",
    "Set up an MCMC scheme in order to draw samples from the posterior\n",
    "for (a1, b1, a2, b2, ρ) using the prior specified above. Display a histogram\n",
    "of posterior draws for ρ. \n",
    "\n",
    "- Give the posterior mean and 95% posterior\n",
    "interval for the following two quantities: \n",
    " + λ, the probability of dying\n",
    "within 5 years of the end of presidency, and \n",
    " + γ, the probability of living\n",
    "longer than 40 years after the end of presidency. Compare these results\n",
    "with empirical estimates of λ and γ.\n",
    "\n",
    "---\n",
    "Likelihood is the twoWeibull distr\n",
    "priors are the product of each prior distr (indep.)"
   ]
  },
  {
   "cell_type": "code",
   "execution_count": 18,
   "metadata": {},
   "outputs": [],
   "source": [
    "# likelihood\n",
    "\n",
    "lik = lambda par : (twoWeibullDensity(y,par[0],par[1],par[2],par[3],par[4])).prod()\n",
    "prior = lambda par: gamma.pdf(par[0], 3,2) * uniform.pdf(par[1], 0.5,3.5) * gamma.pdf(par[2],20,1) * gamma.pdf(par[3],10,2)*beta.pdf(par[4],p[0],p[1])\n",
    "posterior = lambda par: prior(par)*lik(par)\n",
    "\n",
    "# This can be done in terms of loglikelihoods as well, gave same results\n",
    "#  (remember to transform byexp etc in algorithms)\n",
    "logprior = lambda par:  (\n",
    "    np.log(gamma.pdf(par[0], 3,2)) + \n",
    "    np.log(uniform.pdf(par[1], 0.5,3.5)) +\n",
    "    np.log(gamma.pdf(par[2],20,1)) +\n",
    "    np.log(gamma.pdf(par[3],10,2)) +\n",
    "    np.log(beta.pdf(par[4],p[0],p[1])) )\n",
    "\n",
    "loglik = lambda par: np.sum(np.log(twoWeibullDensity(y,par[0],par[1],par[2],par[3],par[4])))\n",
    "logpost = lambda par: logprior(par) + loglik(par)\n"
   ]
  },
  {
   "cell_type": "code",
   "execution_count": 19,
   "metadata": {},
   "outputs": [],
   "source": [
    "## Metropolis-hastings\n",
    "n = int(5e4)\n",
    "parsize = 5\n",
    "theta = np.zeros((n,parsize))\n",
    "theta[0,] = par # start in mle point for simplification\n",
    "for i in range(1,n):\n",
    "    theta_candidate = theta[i-1,] + (uniform.rvs(size=5)-0.5)*0.1\n",
    "    theta_candidate = theta_candidate.clip(min=0.001)\n",
    "    ratio = posterior(theta_candidate)/posterior(theta[i-1,])\n",
    "    prob_accept = min(1, ratio)\n",
    "    if np.isnan(ratio):\n",
    "        print(\"Found NAN value.\")\n",
    "        break\n",
    "    \n",
    "    accept = np.random.uniform() < prob_accept\n",
    "\n",
    "    theta[i] = theta_candidate if accept else theta[i-1]"
   ]
  },
  {
   "cell_type": "code",
   "execution_count": 20,
   "metadata": {},
   "outputs": [
    {
     "data": {
      "image/png": "[encoded data removed]",
      "text/plain": [
       "<Figure size 432x288 with 5 Axes>"
      ]
     },
     "metadata": {
      "needs_background": "light"
     },
     "output_type": "display_data"
    }
   ],
   "source": [
    "#### Get trajectories\n",
    "for i in range(5):\n",
    "    plt.subplot(2,3,i+1)\n",
    "    _ = plt.plot(theta[:,i])"
   ]
  },
  {
   "cell_type": "markdown",
   "metadata": {},
   "source": [
    "#### Histogram of rho"
   ]
  },
  {
   "cell_type": "code",
   "execution_count": 21,
   "metadata": {},
   "outputs": [
    {
     "data": {
      "text/plain": [
       "'E[rho | data, prior] = 0.277'"
      ]
     },
     "execution_count": 21,
     "metadata": {},
     "output_type": "execute_result"
    },
    {
     "data": {
      "image/png": "[encoded data removed]",
      "text/plain": [
       "<Figure size 432x288 with 1 Axes>"
      ]
     },
     "metadata": {
      "needs_background": "light"
     },
     "output_type": "display_data"
    }
   ],
   "source": [
    "_ = plt.hist(theta[int(n/2):,4], bins = 50)\n",
    "f\"E[rho | data, prior] = {np.round(np.mean(theta[int(n/2):,4]),4)}\""
   ]
  },
  {
   "cell_type": "markdown",
   "metadata": {},
   "source": [
    "##### Histogram of all"
   ]
  },
  {
   "cell_type": "code",
   "execution_count": 22,
   "metadata": {},
   "outputs": [
    {
     "data": {
      "image/png": "[encoded data removed]",
      "text/plain": [
       "<Figure size 432x288 with 5 Axes>"
      ]
     },
     "metadata": {
      "needs_background": "light"
     },
     "output_type": "display_data"
    }
   ],
   "source": [
    "#### Get histograms\n",
    "for i in range(5):\n",
    "    plt.subplot(2,3,i+1)\n",
    "    _ = plt.hist(theta[int(n/2):,i], bins = 50)"
   ]
  },
  {
   "cell_type": "code",
   "execution_count": 23,
   "metadata": {},
   "outputs": [],
   "source": [
    "# Sample from posterior\n",
    "# burnout half of trajectories:\n",
    "post_samples = theta[int(n/2):]\n",
    "n = post_samples.shape[0]\n",
    "a1_ = post_samples[:,0]\n",
    "b1_ = post_samples[:,1]\n",
    "a2_ = post_samples[:,2]\n",
    "b2_ = post_samples[:,3]\n",
    "rho_ = post_samples[:,4]"
   ]
  },
  {
   "cell_type": "code",
   "execution_count": 24,
   "metadata": {},
   "outputs": [],
   "source": [
    "def weibull_cdf(y, a, b):\n",
    "    return 1. - np.exp(-(y / a)**b)\n",
    "def weibull_mixture_cdf(y, a1, b1, a2, b2, p):\n",
    "    return p * weibull_cdf(y, a1, b1) + (1. - p) * weibull_cdf(y, a2, b2)"
   ]
  },
  {
   "cell_type": "code",
   "execution_count": 25,
   "metadata": {},
   "outputs": [],
   "source": [
    "F5 = weibull_mixture_cdf(5, a1_, b1_, a2_, b2_, rho_)\n",
    "F40 = 1 - weibull_mixture_cdf(40, a1_, b1_, a2_, b2_, rho_)\n",
    "F5.sort()\n",
    "F40.sort()"
   ]
  },
  {
   "cell_type": "code",
   "execution_count": 26,
   "metadata": {},
   "outputs": [
    {
     "name": "stdout",
     "output_type": "stream",
     "text": [
      "Post mean, q5 and q95 for living less than five years:\n",
      "0.23235910939830923 0.1728536329445025 0.29928782934428855\n",
      "---\n",
      "Post mean, q5 and q95 for living more than 40 years:\n",
      "0.20868793684021436 0.1734596034546716 0.24574925214678678\n"
     ]
    }
   ],
   "source": [
    "print(\"Post mean, q5 and q95 for living less than five years:\")\n",
    "print(np.mean(F5), F5[int(0.025*len(F5))], F5[int(0.975*len(F5))])\n",
    "print('---')\n",
    "print(\"Post mean, q5 and q95 for living more than 40 years:\")\n",
    "print(np.mean(F40), F40[int(0.025*len(F40))], F40[int(0.975*len(F40))])"
   ]
  },
  {
   "cell_type": "code",
   "execution_count": 27,
   "metadata": {},
   "outputs": [
    {
     "name": "stdout",
     "output_type": "stream",
     "text": [
      " The posterior probability of dying within 5 years: 0.22688\n",
      " The empirical probability of dying within 5 years: 0.3287671232876712\n"
     ]
    }
   ],
   "source": [
    "### EXTRA MATERIAL: TRIED TO FIND OUT USING POSTERIOR PREDICTIVE...\n",
    "# prob dying within 5 years:\n",
    "\n",
    "def sample_one_post_predictive():\n",
    "    u = np.random.uniform(0,1,size = n)\n",
    "    u2 = np.random.uniform(0,1,size = n)\n",
    "    post_pred = weib_invcdf(u,a1_,b1_)*(u2 < rho_) + (1-(u2 < rho_))*weib_invcdf(u,a2_,b2_)\n",
    "    return post_pred\n",
    "\n",
    "post_pred = sample_one_post_predictive()\n",
    "# _ = plt.hist(post_pred, bins = 50, density =True)\n",
    "post_pred = sample_one_post_predictive()\n",
    "print(f\" The posterior probability of dying within 5 years: {np.mean(post_pred <=5)}\")\n",
    "print(f\" The empirical probability of dying within 5 years: {np.mean(y <=5)}\")"
   ]
  },
  {
   "cell_type": "markdown",
   "metadata": {},
   "source": [
    "### (h) \n",
    "When conducting statistical analyses our goal is often to make statements\n",
    "about a certain unobserved population. Discuss briefly to what extent\n",
    "the available dataset offers any possibility for such generalisations."
   ]
  },
  {
   "cell_type": "markdown",
   "metadata": {},
   "source": [
    "## Part 2 – Cause of death\n",
    "While working with Part 1 you might have guessed that there are in fact\n",
    "two groups of presidents in the dataset (or equivalently, that there are\n",
    "two different processes governing the life lengths of the presidents): some presidents were executed during the revolution, while the rest survived the\n",
    "revolutionary period and died of natural causes. Now we will look more\n",
    "carefully at the cause of death, by studying the variable ‘executed’ which\n",
    "indicates whether the president was executed (1), or not (0)2\n",
    "."
   ]
  }
 ],
 "metadata": {
  "kernelspec": {
   "display_name": "Python 3",
   "language": "python",
   "name": "python3"
  },
  "language_info": {
   "codemirror_mode": {
    "name": "ipython",
    "version": 3
   },
   "file_extension": ".py",
   "mimetype": "text/x-python",
   "name": "python",
   "nbconvert_exporter": "python",
   "pygments_lexer": "ipython3",
   "version": "3.7.0"
  }
 },
 "nbformat": 4,
 "nbformat_minor": 2
}
