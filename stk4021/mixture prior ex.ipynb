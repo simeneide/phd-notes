{
 "cells": [
  {
   "cell_type": "code",
   "execution_count": 1,
   "metadata": {},
   "outputs": [],
   "source": [
    "import numpy as np\n",
    "import math"
   ]
  },
  {
   "cell_type": "code",
   "execution_count": 20,
   "metadata": {},
   "outputs": [],
   "source": [
    "n = 25\n",
    "y = 10\n",
    "c = 100\n",
    "samples = 10000\n",
    "x = np.random.beta(c+y-1, c+n-y-1, size = samples)\n",
    "x.sort()"
   ]
  },
  {
   "cell_type": "code",
   "execution_count": 21,
   "metadata": {},
   "outputs": [],
   "source": [
    "import matplotlib.pyplot as plt"
   ]
  },
  {
   "cell_type": "code",
   "execution_count": 22,
   "metadata": {},
   "outputs": [
    {
     "name": "stdout",
     "output_type": "stream",
     "text": [
      "mean: 0.48895794848365776\n",
      "std: 0.03385019470595692\n",
      "0.05 quantile: 0.43317659822567167\n",
      "0.5 quantile: 0.4885721943423808\n",
      "0.95 quantile: 0.5451842300132259\n"
     ]
    }
   ],
   "source": [
    "print(\"mean: {}\".format( x.mean()))\n",
    "print(\"std: {}\".format( x.std()))\n",
    "for q in [0.05,0.5,0.95]:\n",
    "    print(\"{} quantile: {}\".format(q ,x[round(samples*q)]))"
   ]
  },
  {
   "cell_type": "markdown",
   "metadata": {},
   "source": [
    "## c)"
   ]
  },
  {
   "cell_type": "code",
   "execution_count": 467,
   "metadata": {},
   "outputs": [],
   "source": [
    "def beta_pmf(theta, alpha, beta, B = None):\n",
    "    if B is None:\n",
    "        B = math.exp(math.log(math.factorial(alpha-1)*math.factorial(beta-1)) - math.log(math.factorial(alpha + beta - 1)))\n",
    "        #print(B)\n",
    "    return theta**(alpha-1) * (1-theta)**(beta-1) / B"
   ]
  },
  {
   "cell_type": "code",
   "execution_count": 468,
   "metadata": {},
   "outputs": [],
   "source": [
    "def mc_integrate(f, low = 0, high = 1, samples = 100000):\n",
    "    u = np.random.uniform(low = low, high = high, size=samples)\n",
    "    pmf = f(u)\n",
    "    return np.mean(pmf)"
   ]
  },
  {
   "cell_type": "code",
   "execution_count": 469,
   "metadata": {},
   "outputs": [
    {
     "data": {
      "text/plain": [
       "0.9988200112055071"
      ]
     },
     "execution_count": 469,
     "metadata": {},
     "output_type": "execute_result"
    }
   ],
   "source": [
    "# Check implementation of beta_pmf\n",
    "mc_integrate(lambda x: beta_pmf(x, alpha = y+1, beta = n-y+1) , samples = 1000000)"
   ]
  },
  {
   "cell_type": "code",
   "execution_count": 477,
   "metadata": {},
   "outputs": [],
   "source": [
    "# posterior = b1 + b2\n",
    "f_post_nonnorm = lambda x : beta_pmf(x, y+1, n-y+1) + beta_pmf(x, c+y-1, c+n-y-1)\n",
    "const = mc_integrate(f_post_nonnorm)\n",
    "f_post = lambda x : 1/const * f_post_nonnorm(x)"
   ]
  },
  {
   "cell_type": "code",
   "execution_count": 478,
   "metadata": {},
   "outputs": [
    {
     "data": {
      "text/plain": [
       "[<matplotlib.lines.Line2D at 0x122dc87f0>]"
      ]
     },
     "execution_count": 478,
     "metadata": {},
     "output_type": "execute_result"
    },
    {
     "data": {
      "image/png": "[encoded data removed]",
      "text/plain": [
       "<Figure size 432x288 with 1 Axes>"
      ]
     },
     "metadata": {
      "needs_background": "light"
     },
     "output_type": "display_data"
    }
   ],
   "source": [
    "# Visualize it\n",
    "u = np.linspace(0,1,100)\n",
    "plt.plot(u, f_post(u))"
   ]
  },
  {
   "cell_type": "code",
   "execution_count": 419,
   "metadata": {},
   "outputs": [],
   "source": [
    "#### NB: When I dont use the exact B the pdf gives different results:"
   ]
  },
  {
   "cell_type": "code",
   "execution_count": 473,
   "metadata": {},
   "outputs": [
    {
     "data": {
      "text/plain": [
       "[<matplotlib.lines.Line2D at 0x122cc4630>]"
      ]
     },
     "execution_count": 473,
     "metadata": {},
     "output_type": "execute_result"
    },
    {
     "data": {
      "image/png": "[encoded data removed]",
      "text/plain": [
       "<Figure size 432x288 with 1 Axes>"
      ]
     },
     "metadata": {
      "needs_background": "light"
     },
     "output_type": "display_data"
    }
   ],
   "source": [
    "# posterior = b1 + b2\n",
    "f_post_nonnorm = lambda x : beta_pmf(x, y+1, n-y+1, B=1) + beta_pmf(x, c+y-1, c+n-y-1, B=1)\n",
    "const = mc_integrate(f_post_nonnorm)\n",
    "f_post = lambda x : 1/const * f_post_nonnorm(x)\n",
    "# Visualize it\n",
    "u = np.linspace(0,1)\n",
    "plt.plot(u, f_post(u))"
   ]
  },
  {
   "cell_type": "code",
   "execution_count": 474,
   "metadata": {},
   "outputs": [
    {
     "data": {
      "text/plain": [
       "[<matplotlib.lines.Line2D at 0x122d19f60>]"
      ]
     },
     "execution_count": 474,
     "metadata": {},
     "output_type": "execute_result"
    },
    {
     "data": {
      "image/png": "[encoded data removed]",
      "text/plain": [
       "<Figure size 432x288 with 1 Axes>"
      ]
     },
     "metadata": {
      "needs_background": "light"
     },
     "output_type": "display_data"
    }
   ],
   "source": [
    "cdf =  lambda x : mc_integrate(lambda t: (t < x)*f_post(t))\n",
    "# Test CDF\n",
    "plt.plot([cdf(q/10) for q in list(range(10))])"
   ]
  },
  {
   "cell_type": "code",
   "execution_count": 481,
   "metadata": {},
   "outputs": [],
   "source": [
    "mean = mc_integrate(lambda x: x*f_post(x), samples = 100000)\n",
    "stddev = np.sqrt(mc_integrate(lambda x: (x - mean)**2 * f_post(x), samples = 100000))"
   ]
  },
  {
   "cell_type": "code",
   "execution_count": 482,
   "metadata": {},
   "outputs": [
    {
     "name": "stdout",
     "output_type": "stream",
     "text": [
      "mean: 0.44619048595171296\n",
      "std: 0.08088161764102864\n",
      "0.05 quantile: 8.721132808154204e-09\n",
      "0.5 quantile: 0.7385854713004675\n",
      "0.95 quantile: 1.0040423079474903\n"
     ]
    }
   ],
   "source": [
    "print(\"mean: {}\".format( mean))\n",
    "print(\"std: {}\".format( stddev))\n",
    "for q in [0.05,0.5,0.95]:\n",
    "    print(\"{} quantile: {}\".format(q ,cdf(q)))"
   ]
  },
  {
   "cell_type": "code",
   "execution_count": 389,
   "metadata": {},
   "outputs": [],
   "source": [
    "def sample_theta():\n",
    "    return 0.5 if np.random.rand() > 0.5 else np.random.rand()"
   ]
  },
  {
   "cell_type": "code",
   "execution_count": 462,
   "metadata": {},
   "outputs": [],
   "source": [
    "theta = sample_theta()"
   ]
  },
  {
   "cell_type": "code",
   "execution_count": 463,
   "metadata": {},
   "outputs": [],
   "source": [
    "post = theta**y * (1-theta)**(25-10)"
   ]
  },
  {
   "cell_type": "code",
   "execution_count": 464,
   "metadata": {},
   "outputs": [
    {
     "data": {
      "text/plain": [
       "2.9802322387695312e-08"
      ]
     },
     "execution_count": 464,
     "metadata": {},
     "output_type": "execute_result"
    }
   ],
   "source": [
    "post"
   ]
  },
  {
   "cell_type": "code",
   "execution_count": 392,
   "metadata": {},
   "outputs": [],
   "source": [
    "def sample():\n",
    "    theta = sample_theta()\n",
    "    return np.random.binomial(n=25, p = theta, size = 1) == 10"
   ]
  },
  {
   "cell_type": "code",
   "execution_count": 391,
   "metadata": {},
   "outputs": [
    {
     "data": {
      "text/plain": [
       "(array([  60.,   50.,   51.,   53.,   44.,   48.,   51.,   45.,   35.,\n",
       "          51., 1044.,   56.,   52.,   50.,   44.,   68.,   48.,   41.,\n",
       "          62.,   47.]),\n",
       " array([6.53955188e-04, 5.05748443e-02, 1.00495733e-01, 1.50416622e-01,\n",
       "        2.00337512e-01, 2.50258401e-01, 3.00179290e-01, 3.50100179e-01,\n",
       "        4.00021068e-01, 4.49941957e-01, 4.99862846e-01, 5.49783735e-01,\n",
       "        5.99704624e-01, 6.49625514e-01, 6.99546403e-01, 7.49467292e-01,\n",
       "        7.99388181e-01, 8.49309070e-01, 8.99229959e-01, 9.49150848e-01,\n",
       "        9.99071737e-01]),\n",
       " <a list of 20 Patch objects>)"
      ]
     },
     "execution_count": 391,
     "metadata": {},
     "output_type": "execute_result"
    },
    {
     "data": {
      "image/png": "[encoded data removed]",
      "text/plain": [
       "<Figure size 432x288 with 1 Axes>"
      ]
     },
     "metadata": {
      "needs_background": "light"
     },
     "output_type": "display_data"
    }
   ],
   "source": [
    "plt.hist(np.array([sample_theta() for _ in range(2000)]), bins = 20)"
   ]
  },
  {
   "cell_type": "code",
   "execution_count": 396,
   "metadata": {},
   "outputs": [
    {
     "data": {
      "text/plain": [
       "0.02"
      ]
     },
     "execution_count": 396,
     "metadata": {},
     "output_type": "execute_result"
    }
   ],
   "source": [
    "0.5*1/25"
   ]
  },
  {
   "cell_type": "code",
   "execution_count": 395,
   "metadata": {},
   "outputs": [
    {
     "data": {
      "text/plain": [
       "0.0684"
      ]
     },
     "execution_count": 395,
     "metadata": {},
     "output_type": "execute_result"
    }
   ],
   "source": [
    "np.array([sample() for _ in range(10000)]).mean()"
   ]
  },
  {
   "cell_type": "code",
   "execution_count": null,
   "metadata": {},
   "outputs": [],
   "source": [
    "# posterior = b1 + b2\n",
    "f_post_nonnorm = lambda x : beta_pmf(x, y+1, n-y+1) + beta_pmf(x, c+y-1, c+n-y-1)\n"
   ]
  },
  {
   "cell_type": "code",
   "execution_count": null,
   "metadata": {},
   "outputs": [],
   "source": [
    "const = mc_integrate(f_post_nonnorm)\n",
    "f_post = lambda x : 1/const * f_post_nonnorm(x)"
   ]
  },
  {
   "cell_type": "markdown",
   "metadata": {},
   "source": [
    "## a) and b) fully numerical"
   ]
  },
  {
   "cell_type": "code",
   "execution_count": 403,
   "metadata": {},
   "outputs": [],
   "source": [
    "nonnorm_pdf = lambda theta: theta**(c+y-2) * (1-theta)**(n+c-y-2) * 1"
   ]
  },
  {
   "cell_type": "code",
   "execution_count": 404,
   "metadata": {},
   "outputs": [],
   "source": [
    "const = mc_integrate(nonnorm_pdf)\n",
    "norm_pdf = lambda theta: 1/const * nonnorm_pdf(theta)"
   ]
  },
  {
   "cell_type": "code",
   "execution_count": 417,
   "metadata": {},
   "outputs": [
    {
     "data": {
      "text/plain": [
       "0.47790381818843775"
      ]
     },
     "execution_count": 417,
     "metadata": {},
     "output_type": "execute_result"
    }
   ],
   "source": [
    "mc_integrate(lambda x: x*norm_pdf(x))"
   ]
  },
  {
   "cell_type": "code",
   "execution_count": null,
   "metadata": {},
   "outputs": [],
   "source": []
  }
 ],
 "metadata": {
  "kernelspec": {
   "display_name": "Python 3",
   "language": "python",
   "name": "python3"
  },
  "language_info": {
   "codemirror_mode": {
    "name": "ipython",
    "version": 3
   },
   "file_extension": ".py",
   "mimetype": "text/x-python",
   "name": "python",
   "nbconvert_exporter": "python",
   "pygments_lexer": "ipython3",
   "version": "3.7.0"
  }
 },
 "nbformat": 4,
 "nbformat_minor": 2
}
