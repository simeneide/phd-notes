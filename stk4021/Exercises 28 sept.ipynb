{
 "cells": [
  {
   "cell_type": "markdown",
   "metadata": {},
   "source": [
    "## Monte Carlo exercise I: \n",
    "find some data (n=20 observations) here. \n",
    "https://www.uio.no/studier/emner/matnat/math/STK4021/h18/beskjeder/small_data.txt\n",
    "\n",
    "Assume the data come from a normal distribution with unknown mean $\\theta$ and known variance $(\\sigma^2=1)$. Use a normal prior for $\\theta, N(\\mu_0, \\tau_0^2)$, with $\\mu_0=1$ and $\\tau_0=1$. \n",
    "\n",
    "Then we have an explicit posterior, with explicit expressions for all quantities of interest (here: the posterior mean, the posterior standard deviation and the 90% posterior interval for $\\theta$), but we will pretend that we do not know the full posterior, but can only evaluate the unnormalised posterior (prior times likelihood). Compute all three quantities of interest (and the a histogram of posterior draws when possible) using   \n",
    "\n",
    "a) Importance sampling;   \n",
    "b) Rejection sampling and   \n",
    "c) MCMC (use for example a variant of the simple Metropolis scheme we saw in the lecture).   \n",
    "\n",
    "Compare the estimated quantities of interest with the true values (and the histogram of draws with the true posterior density).\n",
    "\n"
   ]
  },
  {
   "cell_type": "code",
   "execution_count": 1,
   "metadata": {},
   "outputs": [
    {
     "data": {
      "text/plain": [
       "(array([3., 3., 3., 4., 1., 4., 1., 0., 0., 1.]),\n",
       " array([1.351894, 1.562976, 1.774058, 1.98514 , 2.196222, 2.407304,\n",
       "        2.618386, 2.829468, 3.04055 , 3.251632, 3.462714]),\n",
       " <a list of 10 Patch objects>)"
      ]
     },
     "execution_count": 1,
     "metadata": {},
     "output_type": "execute_result"
    }
   ],
   "source": [
    "import numpy as np\n",
    "import matplotlib.pyplot as plt\n",
    "import scipy.stats\n",
    "y = np.array([2.056865, 2.067801, 3.462714, 2.272823, 2.478708,\n",
    "1.942217, 1.582034, 2.706005, 2.477326, 2.159151,\n",
    "2.460221, 1.459483, 1.389145, 2.187833, 1.819716,\n",
    "1.733246, 1.587644, 2.54228, 1.876315, 1.351894])\n",
    "\n",
    "n = len(y)\n",
    "plt.hist(y)"
   ]
  },
  {
   "cell_type": "code",
   "execution_count": 2,
   "metadata": {},
   "outputs": [
    {
     "data": {
      "text/plain": [
       "2.08067105"
      ]
     },
     "execution_count": 2,
     "metadata": {},
     "output_type": "execute_result"
    }
   ],
   "source": [
    "np.mean(y)"
   ]
  },
  {
   "cell_type": "markdown",
   "metadata": {},
   "source": [
    "## Exact solution"
   ]
  },
  {
   "cell_type": "code",
   "execution_count": 3,
   "metadata": {},
   "outputs": [
    {
     "name": "stdout",
     "output_type": "stream",
     "text": [
      "2.0292105238095237\n",
      "0.2182178902359924\n",
      "[1.67027404 2.38814701]\n"
     ]
    }
   ],
   "source": [
    "post_prec = 1 + n\n",
    "post_std = 1/np.sqrt(post_prec)\n",
    "post_mu = ( 1 + 20*np.mean(y) ) / (post_prec)\n",
    "print(post_mu)\n",
    "print(post_std)\n",
    "print(post_mu + post_std*np.array(scipy.stats.norm.interval(0.9)))"
   ]
  },
  {
   "cell_type": "markdown",
   "metadata": {},
   "source": [
    "## 0) Numerical Integration (up to normalizing constant)"
   ]
  },
  {
   "cell_type": "code",
   "execution_count": 80,
   "metadata": {},
   "outputs": [],
   "source": [
    "def mc_integrate(f, low = 0, high = 1, samples = 100000):\n",
    "    u = np.random.uniform(low = low, high = high, size=samples)\n",
    "    pmf = f(u)*(high-low)\n",
    "    return np.mean(pmf)"
   ]
  },
  {
   "cell_type": "code",
   "execution_count": 81,
   "metadata": {},
   "outputs": [],
   "source": [
    "def post_nonnorm(theta):\n",
    "    return np.exp(-0.5 *( (theta-1)**2 + np.sum((y-theta)**2)  ))\n",
    "post_nonnorm = np.vectorize(post_nonnorm)"
   ]
  },
  {
   "cell_type": "code",
   "execution_count": 82,
   "metadata": {},
   "outputs": [],
   "source": [
    "const = mc_integrate(post_nonnorm, 0,4, samples = int(1e6))"
   ]
  },
  {
   "cell_type": "code",
   "execution_count": 83,
   "metadata": {},
   "outputs": [
    {
     "data": {
      "text/plain": [
       "[<matplotlib.lines.Line2D at 0x12005a208>]"
      ]
     },
     "execution_count": 83,
     "metadata": {},
     "output_type": "execute_result"
    },
    {
     "data": {
      "image/png": "[encoded data removed]",
      "text/plain": [
       "<Figure size 432x288 with 1 Axes>"
      ]
     },
     "metadata": {
      "needs_background": "light"
     },
     "output_type": "display_data"
    }
   ],
   "source": [
    "post_norm = lambda theta: 1/const * post_nonnorm(theta)\n",
    "x = np.linspace(-5,5,100)\n",
    "pdf = [post_norm(i) for i in x]\n",
    "plt.plot(x,pdf)"
   ]
  },
  {
   "cell_type": "code",
   "execution_count": 84,
   "metadata": {},
   "outputs": [
    {
     "data": {
      "text/plain": [
       "1.0056552897469686"
      ]
     },
     "execution_count": 84,
     "metadata": {},
     "output_type": "execute_result"
    }
   ],
   "source": [
    "mc_integrate(lambda x: post_norm(x), 0,4)"
   ]
  },
  {
   "cell_type": "code",
   "execution_count": 85,
   "metadata": {},
   "outputs": [
    {
     "data": {
      "text/plain": [
       "2.034891862631817"
      ]
     },
     "execution_count": 85,
     "metadata": {},
     "output_type": "execute_result"
    }
   ],
   "source": [
    "# Expected value\n",
    "mu = mc_integrate(lambda x: x*post_norm(x), 0,4)\n",
    "mu"
   ]
  },
  {
   "cell_type": "code",
   "execution_count": 86,
   "metadata": {},
   "outputs": [
    {
     "data": {
      "text/plain": [
       "0.21839854958681143"
      ]
     },
     "execution_count": 86,
     "metadata": {},
     "output_type": "execute_result"
    }
   ],
   "source": [
    "# Variance\n",
    "var = mc_integrate(lambda x: (x-mu)**2 *post_norm(x), 0,4)\n",
    "np.sqrt(var)"
   ]
  },
  {
   "cell_type": "code",
   "execution_count": 87,
   "metadata": {},
   "outputs": [
    {
     "data": {
      "text/plain": [
       "[<matplotlib.lines.Line2D at 0x119c55a20>]"
      ]
     },
     "execution_count": 87,
     "metadata": {},
     "output_type": "execute_result"
    },
    {
     "data": {
      "image/png": "[encoded data removed]",
      "text/plain": [
       "<Figure size 432x288 with 1 Axes>"
      ]
     },
     "metadata": {
      "needs_background": "light"
     },
     "output_type": "display_data"
    }
   ],
   "source": [
    "## Confidence interval\n",
    "X = np.linspace(1,3,30)\n",
    "Q = np.array([mc_integrate(post_norm, 0,x, samples = 5000) for x in X])\n",
    "plt.plot(X,Q)"
   ]
  },
  {
   "cell_type": "code",
   "execution_count": 89,
   "metadata": {},
   "outputs": [
    {
     "name": "stdout",
     "output_type": "stream",
     "text": [
      "1.7586206896551724 2.310344827586207\n"
     ]
    }
   ],
   "source": [
    "print(X[np.argmax(Q > 0.1)], X[np.argmax(Q > 0.9)])"
   ]
  },
  {
   "cell_type": "markdown",
   "metadata": {},
   "source": [
    "## a) Importance sampling\n",
    "We know the "
   ]
  },
  {
   "cell_type": "code",
   "execution_count": 110,
   "metadata": {},
   "outputs": [
    {
     "data": {
      "text/plain": [
       "(array([2.1000e+01, 3.7800e+02, 3.7770e+03, 1.6495e+04, 3.3392e+04,\n",
       "        3.0477e+04, 1.2762e+04, 2.4930e+03, 1.9700e+02, 8.0000e+00]),\n",
       " array([-8.99934839, -7.15987958, -5.32041077, -3.48094196, -1.64147315,\n",
       "         0.19799566,  2.03746447,  3.87693328,  5.71640209,  7.5558709 ,\n",
       "         9.39533971]),\n",
       " <a list of 10 Patch objects>)"
      ]
     },
     "execution_count": 110,
     "metadata": {},
     "output_type": "execute_result"
    },
    {
     "data": {
      "image/png": "[encoded data removed]",
      "text/plain": [
       "<Figure size 432x288 with 1 Axes>"
      ]
     },
     "metadata": {
      "needs_background": "light"
     },
     "output_type": "display_data"
    }
   ],
   "source": [
    "# We still know the nonnormalized posterior:\n",
    "import scipy.stats\n",
    "def post_nonnorm(theta):\n",
    "    return np.exp(-0.5 *( (theta-1)**2 + np.sum((y-theta)**2)  ))\n",
    "post_nonnorm = np.vectorize(post_nonnorm)\n",
    "\n",
    "# Lets choose a N(0,2) as our approximate distribution\n",
    "ttp = scipy.random.normal(0,2, size = 100000)\n",
    "plt.hist(ttp)"
   ]
  },
  {
   "cell_type": "code",
   "execution_count": null,
   "metadata": {},
   "outputs": [],
   "source": []
  },
  {
   "cell_type": "code",
   "execution_count": 151,
   "metadata": {},
   "outputs": [],
   "source": [
    "def importance_sample(f, post_nonnorm, size = 100000):\n",
    "    # Importance sample estimates, using a normal(0,2) as approximate\n",
    "    ttp = scipy.random.normal(2,2, size = size)\n",
    "    weights = post_nonnorm(ttp)/scipy.stats.norm.pdf(ttp, 0,2)\n",
    "    w_tilde = weights/np.sum(weights)\n",
    "    return sum(f(ttp)*w_tilde)"
   ]
  },
  {
   "cell_type": "code",
   "execution_count": 102,
   "metadata": {},
   "outputs": [
    {
     "data": {
      "image/png": "[encoded data removed]",
      "text/plain": [
       "<Figure size 432x288 with 1 Axes>"
      ]
     },
     "metadata": {
      "needs_background": "light"
     },
     "output_type": "display_data"
    }
   ],
   "source": [
    "weights = post_nonnorm(ttp)/scipy.stats.norm.pdf(ttp, 0,2)\n",
    "w_tilde = weights/np.sum(weights)\n",
    "a = plt.hist(weights, bins = 30)"
   ]
  },
  {
   "cell_type": "code",
   "execution_count": 152,
   "metadata": {},
   "outputs": [
    {
     "data": {
      "text/plain": [
       "2.0510399941998823"
      ]
     },
     "execution_count": 152,
     "metadata": {},
     "output_type": "execute_result"
    }
   ],
   "source": [
    "# Expectation\n",
    "mean = importance_sample(lambda x: x, post_nonnorm)\n",
    "mean"
   ]
  },
  {
   "cell_type": "code",
   "execution_count": 153,
   "metadata": {},
   "outputs": [
    {
     "data": {
      "text/plain": [
       "0.2182959967318433"
      ]
     },
     "execution_count": 153,
     "metadata": {},
     "output_type": "execute_result"
    }
   ],
   "source": [
    "## Variance:\n",
    "np.sqrt(importance_sample(lambda x: (x-mean)**2, post_nonnorm))"
   ]
  },
  {
   "cell_type": "code",
   "execution_count": 154,
   "metadata": {},
   "outputs": [],
   "source": [
    "X = np.linspace(1,3,50)"
   ]
  },
  {
   "cell_type": "code",
   "execution_count": 155,
   "metadata": {},
   "outputs": [],
   "source": [
    "Q = np.array([importance_sample(lambda y: y < x, post_nonnorm) for x in X])"
   ]
  },
  {
   "cell_type": "code",
   "execution_count": 156,
   "metadata": {},
   "outputs": [
    {
     "data": {
      "text/plain": [
       "[<matplotlib.lines.Line2D at 0x11966e080>]"
      ]
     },
     "execution_count": 156,
     "metadata": {},
     "output_type": "execute_result"
    },
    {
     "data": {
      "image/png": "[encoded data removed]",
      "text/plain": [
       "<Figure size 432x288 with 1 Axes>"
      ]
     },
     "metadata": {
      "needs_background": "light"
     },
     "output_type": "display_data"
    }
   ],
   "source": [
    "plt.plot(X,Q)"
   ]
  },
  {
   "cell_type": "code",
   "execution_count": 157,
   "metadata": {},
   "outputs": [
    {
     "name": "stdout",
     "output_type": "stream",
     "text": [
      "1.7755102040816326 2.3469387755102042\n"
     ]
    }
   ],
   "source": [
    "print(X[np.argmax(Q >= 0.1)], X[np.argmax(Q >= 0.9)])"
   ]
  },
  {
   "cell_type": "markdown",
   "metadata": {},
   "source": [
    "### b) Rejection sampling"
   ]
  },
  {
   "cell_type": "code",
   "execution_count": 158,
   "metadata": {},
   "outputs": [],
   "source": [
    "# we still got the non-normalized posterior:\n",
    "import scipy.stats\n",
    "def post_nonnorm(theta):\n",
    "    return np.exp(-0.5 *( (theta-1)**2 + np.sum((y-theta)**2)  ))\n",
    "post_nonnorm = np.vectorize(post_nonnorm)\n"
   ]
  },
  {
   "cell_type": "code",
   "execution_count": 211,
   "metadata": {},
   "outputs": [
    {
     "data": {
      "text/plain": [
       "[<matplotlib.lines.Line2D at 0x11c1d0e80>]"
      ]
     },
     "execution_count": 211,
     "metadata": {},
     "output_type": "execute_result"
    },
    {
     "data": {
      "image/png": "[encoded data removed]",
      "text/plain": [
       "<Figure size 432x288 with 1 Axes>"
      ]
     },
     "metadata": {
      "needs_background": "light"
     },
     "output_type": "display_data"
    }
   ],
   "source": [
    "# need a sample density g so that post_nonnorm < M*g for all theta\n",
    "thetas = np.linspace(-10,10,1000)\n",
    "\n",
    "\n",
    "p0 = post_nonnorm(thetas)\n",
    "g = lambda theta : scipy.stats.distributions.norm.pdf(theta, 1,1)*0.3\n",
    "#g = scipy.stats.distributions.norm.pdf(thetas, 1,1)*0.5\n",
    "plt.plot(thetas, p0)\n",
    "plt.plot(thetas, g(thetas))"
   ]
  },
  {
   "cell_type": "code",
   "execution_count": 222,
   "metadata": {},
   "outputs": [],
   "source": [
    "size = int(10e5)\n",
    "theta_candidate = np.random.normal(loc = 1, scale=1, size=size)\n",
    "prob_accept = post_nonnorm(theta_candidate) / g(theta_candidate)\n",
    "keep = prob_accept > np.random.uniform(size = size)\n",
    "theta = theta_candidate[keep]"
   ]
  },
  {
   "cell_type": "code",
   "execution_count": 235,
   "metadata": {},
   "outputs": [
    {
     "data": {
      "text/plain": [
       "2.0284895192599106"
      ]
     },
     "execution_count": 235,
     "metadata": {},
     "output_type": "execute_result"
    }
   ],
   "source": [
    "mean = theta.mean()\n",
    "mean"
   ]
  },
  {
   "cell_type": "code",
   "execution_count": 234,
   "metadata": {},
   "outputs": [
    {
     "data": {
      "text/plain": [
       "0.2176833528917823"
      ]
     },
     "execution_count": 234,
     "metadata": {},
     "output_type": "execute_result"
    }
   ],
   "source": [
    "std = np.sqrt(np.mean((theta- mean)**2))\n",
    "std"
   ]
  },
  {
   "cell_type": "code",
   "execution_count": 240,
   "metadata": {},
   "outputs": [
    {
     "name": "stdout",
     "output_type": "stream",
     "text": [
      "1.7755102040816326 2.3469387755102042\n"
     ]
    },
    {
     "data": {
      "image/png": "[encoded data removed]",
      "text/plain": [
       "<Figure size 432x288 with 1 Axes>"
      ]
     },
     "metadata": {
      "needs_background": "light"
     },
     "output_type": "display_data"
    }
   ],
   "source": [
    "X = np.linspace(1,3,50)\n",
    "Q = np.array([np.mean(theta < x) for x in X])\n",
    "plt.plot(X,Q)\n",
    "print(X[np.argmax(Q >= 0.1)], X[np.argmax(Q >= 0.9)])"
   ]
  },
  {
   "cell_type": "markdown",
   "metadata": {},
   "source": [
    "### c) MCMC (use for example a variant of the simple Metropolis scheme we saw in the lecture).   \n"
   ]
  },
  {
   "cell_type": "code",
   "execution_count": 241,
   "metadata": {},
   "outputs": [],
   "source": [
    "# we STILL know the non-normalized posterior:\n",
    "import scipy.stats\n",
    "def post_nonnorm(theta):\n",
    "    return np.exp(-0.5 *( (theta-1)**2 + np.sum((y-theta)**2)  ))\n",
    "post_nonnorm = np.vectorize(post_nonnorm)\n"
   ]
  },
  {
   "cell_type": "code",
   "execution_count": 314,
   "metadata": {},
   "outputs": [],
   "source": [
    "size = int(1e5)\n",
    "theta = np.zeros(size)#+1.5"
   ]
  },
  {
   "cell_type": "code",
   "execution_count": 319,
   "metadata": {},
   "outputs": [],
   "source": [
    "for i in range(1,size):\n",
    "    theta_candidate = theta[i-1] + (np.random.uniform()-0.5)*0.1\n",
    "    prob_accept = min(1, post_nonnorm(theta_candidate)/post_nonnorm(theta[i-1]))\n",
    "    \n",
    "    accept = np.random.uniform() < prob_accept\n",
    "\n",
    "    theta[i] = theta_candidate if accept else theta[i-1]"
   ]
  },
  {
   "cell_type": "code",
   "execution_count": 320,
   "metadata": {},
   "outputs": [
    {
     "data": {
      "text/plain": [
       "[<matplotlib.lines.Line2D at 0x12c4ef8d0>]"
      ]
     },
     "execution_count": 320,
     "metadata": {},
     "output_type": "execute_result"
    },
    {
     "data": {
      "image/png": "[encoded data removed]",
      "text/plain": [
       "<Figure size 432x288 with 1 Axes>"
      ]
     },
     "metadata": {
      "needs_background": "light"
     },
     "output_type": "display_data"
    }
   ],
   "source": [
    "plt.plot(theta)"
   ]
  },
  {
   "cell_type": "code",
   "execution_count": 322,
   "metadata": {},
   "outputs": [],
   "source": [
    "psample = theta[int(size/2):]"
   ]
  },
  {
   "cell_type": "code",
   "execution_count": 323,
   "metadata": {},
   "outputs": [
    {
     "data": {
      "text/plain": [
       "2.026884671898471"
      ]
     },
     "execution_count": 323,
     "metadata": {},
     "output_type": "execute_result"
    }
   ],
   "source": [
    "mean = np.mean(psample)\n",
    "mean"
   ]
  },
  {
   "cell_type": "code",
   "execution_count": 325,
   "metadata": {},
   "outputs": [
    {
     "data": {
      "text/plain": [
       "0.23403429972041936"
      ]
     },
     "execution_count": 325,
     "metadata": {},
     "output_type": "execute_result"
    }
   ],
   "source": [
    "std = np.sqrt(np.mean ( (psample-mean)**2))\n",
    "std"
   ]
  },
  {
   "cell_type": "code",
   "execution_count": 326,
   "metadata": {},
   "outputs": [
    {
     "name": "stdout",
     "output_type": "stream",
     "text": [
      "1.7346938775510203 2.3469387755102042\n"
     ]
    },
    {
     "data": {
      "image/png": "[encoded data removed]",
      "text/plain": [
       "<Figure size 432x288 with 1 Axes>"
      ]
     },
     "metadata": {
      "needs_background": "light"
     },
     "output_type": "display_data"
    }
   ],
   "source": [
    "X = np.linspace(1,3,50)\n",
    "Q = np.array([np.mean(psample < x) for x in X])\n",
    "plt.plot(X,Q)\n",
    "print(X[np.argmax(Q >= 0.1)], X[np.argmax(Q >= 0.9)])"
   ]
  },
  {
   "cell_type": "markdown",
   "metadata": {},
   "source": [
    "\n",
    "## Monte Carlo exercise II: \n",
    "use the same data as above, but assume a different model for the data, a t-distribution with 3 degrees of freedom instead: y_i = \\theta + \\sigma/sqrt(3)*\\esp_i, where \\eps_i \\sim t_3. The variance is still assumed known (\\sigma=1). Use the same prior as before, and compute the same quantities as in the previous exercise with the three different Monte Carlo methods (but here we cannot easily compare against the true values like in the previous exercise).\n",
    "MCMC exercise: attempt to set up an MCMC to simulate from the target density of type p(theta) = 0.25*exp(-abs(theta-a0)) + 0.25*exp(-abs(theta+a0)) with a0 = 2.00. Do this by proposals theta[i+1] being a uniform on [theta[i] - b0, theta[i] + b0], where you try out a decent b0."
   ]
  },
  {
   "cell_type": "code",
   "execution_count": null,
   "metadata": {},
   "outputs": [],
   "source": []
  }
 ],
 "metadata": {
  "kernelspec": {
   "display_name": "Python 3",
   "language": "python",
   "name": "python3"
  },
  "language_info": {
   "codemirror_mode": {
    "name": "ipython",
    "version": 3
   },
   "file_extension": ".py",
   "mimetype": "text/x-python",
   "name": "python",
   "nbconvert_exporter": "python",
   "pygments_lexer": "ipython3",
   "version": "3.7.0"
  }
 },
 "nbformat": 4,
 "nbformat_minor": 2
}
