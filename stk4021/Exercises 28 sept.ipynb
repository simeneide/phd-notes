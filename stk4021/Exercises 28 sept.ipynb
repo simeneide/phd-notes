{
 "cells": [
  {
   "cell_type": "markdown",
   "metadata": {},
   "source": [
    "## Monte Carlo exercise I: \n",
    "find some data (n=20 observations) here. \n",
    "https://www.uio.no/studier/emner/matnat/math/STK4021/h18/beskjeder/small_data.txt\n",
    "\n",
    "Assume the data come from a normal distribution with unknown mean $\\theta$ and known variance $(\\sigma^2=1)$. Use a normal prior for $\\theta, N(\\mu_0, \\tau_0^2)$, with $\\mu_0=1$ and $\\tau_0=1$. \n",
    "\n",
    "Then we have an explicit posterior, with explicit expressions for all quantities of interest (here: the posterior mean, the posterior standard deviation and the 90% posterior interval for $\\theta$), but we will pretend that we do not know the full posterior, but can only evaluate the unnormalised posterior (prior times likelihood). Compute all three quantities of interest (and the a histogram of posterior draws when possible) using   \n",
    "\n",
    "a) Importance sampling;   \n",
    "b) Rejection sampling and   \n",
    "c) MCMC (use for example a variant of the simple Metropolis scheme we saw in the lecture).   \n",
    "\n",
    "Compare the estimated quantities of interest with the true values (and the histogram of draws with the true posterior density).\n",
    "\n"
   ]
  },
  {
   "cell_type": "code",
   "execution_count": 1,
   "metadata": {},
   "outputs": [
    {
     "data": {
      "text/plain": [
       "(array([3., 3., 3., 4., 1., 4., 1., 0., 0., 1.]),\n",
       " array([1.351894, 1.562976, 1.774058, 1.98514 , 2.196222, 2.407304,\n",
       "        2.618386, 2.829468, 3.04055 , 3.251632, 3.462714]),\n",
       " <a list of 10 Patch objects>)"
      ]
     },
     "execution_count": 1,
     "metadata": {},
     "output_type": "execute_result"
    }
   ],
   "source": [
    "import numpy as np\n",
    "import matplotlib.pyplot as plt\n",
    "import scipy.stats\n",
    "y = np.array([2.056865, 2.067801, 3.462714, 2.272823, 2.478708,\n",
    "1.942217, 1.582034, 2.706005, 2.477326, 2.159151,\n",
    "2.460221, 1.459483, 1.389145, 2.187833, 1.819716,\n",
    "1.733246, 1.587644, 2.54228, 1.876315, 1.351894])\n",
    "\n",
    "n = len(y)\n",
    "plt.hist(y)"
   ]
  },
  {
   "cell_type": "code",
   "execution_count": 2,
   "metadata": {},
   "outputs": [
    {
     "data": {
      "text/plain": [
       "2.08067105"
      ]
     },
     "execution_count": 2,
     "metadata": {},
     "output_type": "execute_result"
    }
   ],
   "source": [
    "np.mean(y)"
   ]
  },
  {
   "cell_type": "markdown",
   "metadata": {},
   "source": [
    "## Exact solution"
   ]
  },
  {
   "cell_type": "markdown",
   "metadata": {},
   "source": [
    "![\"title\"](assets/ex28sept-posterior_calc.png)"
   ]
  },
  {
   "cell_type": "code",
   "execution_count": 3,
   "metadata": {},
   "outputs": [
    {
     "name": "stdout",
     "output_type": "stream",
     "text": [
      "2.0292105238095237\n",
      "0.2182178902359924\n",
      "[1.67027404 2.38814701]\n"
     ]
    }
   ],
   "source": [
    "post_prec = 1 + n\n",
    "post_std = 1/np.sqrt(post_prec)\n",
    "post_mu = ( 1 + 20*np.mean(y) ) / (post_prec)\n",
    "print(post_mu)\n",
    "print(post_std)\n",
    "print(post_mu + post_std*np.array(scipy.stats.norm.interval(0.9)))"
   ]
  },
  {
   "cell_type": "markdown",
   "metadata": {},
   "source": [
    "## 0) Numerical Integration (up to normalizing constant)"
   ]
  },
  {
   "cell_type": "code",
   "execution_count": 4,
   "metadata": {},
   "outputs": [],
   "source": [
    "def mc_integrate(f, low = 0, high = 1, samples = 100000):\n",
    "    u = np.random.uniform(low = low, high = high, size=samples)\n",
    "    pmf = f(u)*(high-low)\n",
    "    return np.mean(pmf)"
   ]
  },
  {
   "cell_type": "code",
   "execution_count": 5,
   "metadata": {},
   "outputs": [],
   "source": [
    "def post_nonnorm(theta):\n",
    "    return np.exp(-0.5 *( (theta-1)**2 + np.sum((y-theta)**2)  ))\n",
    "post_nonnorm = np.vectorize(post_nonnorm)"
   ]
  },
  {
   "cell_type": "code",
   "execution_count": 6,
   "metadata": {},
   "outputs": [],
   "source": [
    "const = mc_integrate(post_nonnorm, 0,4, samples = int(1e6))"
   ]
  },
  {
   "cell_type": "code",
   "execution_count": 7,
   "metadata": {},
   "outputs": [
    {
     "data": {
      "text/plain": [
       "[<matplotlib.lines.Line2D at 0x11d765ba8>]"
      ]
     },
     "execution_count": 7,
     "metadata": {},
     "output_type": "execute_result"
    },
    {
     "data": {
      "image/png": "[encoded data removed]",
      "text/plain": [
       "<Figure size 432x288 with 1 Axes>"
      ]
     },
     "metadata": {
      "needs_background": "light"
     },
     "output_type": "display_data"
    }
   ],
   "source": [
    "post_norm = lambda theta: 1/const * post_nonnorm(theta)\n",
    "x = np.linspace(-5,5,100)\n",
    "pdf = [post_norm(i) for i in x]\n",
    "plt.plot(x,pdf)"
   ]
  },
  {
   "cell_type": "code",
   "execution_count": 8,
   "metadata": {},
   "outputs": [
    {
     "data": {
      "text/plain": [
       "1.0000339535385525"
      ]
     },
     "execution_count": 8,
     "metadata": {},
     "output_type": "execute_result"
    }
   ],
   "source": [
    "mc_integrate(lambda x: post_norm(x), 0,4)"
   ]
  },
  {
   "cell_type": "code",
   "execution_count": 9,
   "metadata": {},
   "outputs": [
    {
     "data": {
      "text/plain": [
       "2.034693338291385"
      ]
     },
     "execution_count": 9,
     "metadata": {},
     "output_type": "execute_result"
    }
   ],
   "source": [
    "# Expected value\n",
    "mu = mc_integrate(lambda x: x*post_norm(x), 0,4)\n",
    "mu"
   ]
  },
  {
   "cell_type": "code",
   "execution_count": 10,
   "metadata": {},
   "outputs": [
    {
     "data": {
      "text/plain": [
       "0.21949735281383007"
      ]
     },
     "execution_count": 10,
     "metadata": {},
     "output_type": "execute_result"
    }
   ],
   "source": [
    "# Variance\n",
    "var = mc_integrate(lambda x: (x-mu)**2 *post_norm(x), 0,4)\n",
    "np.sqrt(var)"
   ]
  },
  {
   "cell_type": "code",
   "execution_count": 11,
   "metadata": {},
   "outputs": [
    {
     "data": {
      "text/plain": [
       "[<matplotlib.lines.Line2D at 0x11e6e3e80>]"
      ]
     },
     "execution_count": 11,
     "metadata": {},
     "output_type": "execute_result"
    },
    {
     "data": {
      "image/png": "[encoded data removed]",
      "text/plain": [
       "<Figure size 432x288 with 1 Axes>"
      ]
     },
     "metadata": {
      "needs_background": "light"
     },
     "output_type": "display_data"
    }
   ],
   "source": [
    "## Confidence interval\n",
    "X = np.linspace(1,3,30)\n",
    "Q = np.array([mc_integrate(post_norm, 0,x, samples = 5000) for x in X])\n",
    "plt.plot(X,Q)"
   ]
  },
  {
   "cell_type": "code",
   "execution_count": 15,
   "metadata": {},
   "outputs": [
    {
     "name": "stdout",
     "output_type": "stream",
     "text": [
      "1.6896551724137931 2.4482758620689653\n"
     ]
    }
   ],
   "source": [
    "print(X[np.argmax(Q > 0.05)], X[np.argmax(Q > 0.95)])"
   ]
  },
  {
   "cell_type": "markdown",
   "metadata": {},
   "source": [
    "## a) Importance sampling\n",
    "We know the "
   ]
  },
  {
   "cell_type": "code",
   "execution_count": 16,
   "metadata": {},
   "outputs": [
    {
     "data": {
      "text/plain": [
       "(array([1.5000e+01, 3.3500e+02, 3.0170e+03, 1.3349e+04, 2.8776e+04,\n",
       "        3.1593e+04, 1.7396e+04, 4.8300e+03, 6.6000e+02, 2.9000e+01]),\n",
       " array([-8.79388807, -7.07851552, -5.36314297, -3.64777042, -1.93239787,\n",
       "        -0.21702532,  1.49834723,  3.21371978,  4.92909233,  6.64446488,\n",
       "         8.35983743]),\n",
       " <a list of 10 Patch objects>)"
      ]
     },
     "execution_count": 16,
     "metadata": {},
     "output_type": "execute_result"
    },
    {
     "data": {
      "image/png": "[encoded data removed]",
      "text/plain": [
       "<Figure size 432x288 with 1 Axes>"
      ]
     },
     "metadata": {
      "needs_background": "light"
     },
     "output_type": "display_data"
    }
   ],
   "source": [
    "# We still know the nonnormalized posterior:\n",
    "import scipy.stats\n",
    "def post_nonnorm(theta):\n",
    "    return np.exp(-0.5 *( (theta-1)**2 + np.sum((y-theta)**2)  ))\n",
    "post_nonnorm = np.vectorize(post_nonnorm)\n",
    "\n",
    "# Lets choose a N(0,2) as our approximate distribution\n",
    "ttp = scipy.random.normal(0,2, size = 100000)\n",
    "plt.hist(ttp)"
   ]
  },
  {
   "cell_type": "code",
   "execution_count": 17,
   "metadata": {},
   "outputs": [],
   "source": [
    "def importance_sample(f, post_nonnorm, size = 100000):\n",
    "    # Importance sample estimates, using a normal(0,2) as approximate\n",
    "    ttp = scipy.random.normal(2,2, size = size)\n",
    "    weights = post_nonnorm(ttp)/scipy.stats.norm.pdf(ttp, 0,2)\n",
    "    w_tilde = weights/np.sum(weights)\n",
    "    return sum(f(ttp)*w_tilde)"
   ]
  },
  {
   "cell_type": "code",
   "execution_count": 18,
   "metadata": {},
   "outputs": [
    {
     "data": {
      "image/png": "[encoded data removed]",
      "text/plain": [
       "<Figure size 432x288 with 1 Axes>"
      ]
     },
     "metadata": {
      "needs_background": "light"
     },
     "output_type": "display_data"
    }
   ],
   "source": [
    "weights = post_nonnorm(ttp)/scipy.stats.norm.pdf(ttp, 0,2)\n",
    "w_tilde = weights/np.sum(weights)\n",
    "a = plt.hist(weights, bins = 30)"
   ]
  },
  {
   "cell_type": "code",
   "execution_count": 19,
   "metadata": {},
   "outputs": [
    {
     "data": {
      "text/plain": [
       "2.0525499068693334"
      ]
     },
     "execution_count": 19,
     "metadata": {},
     "output_type": "execute_result"
    }
   ],
   "source": [
    "# Expectation\n",
    "mean = importance_sample(lambda x: x, post_nonnorm)\n",
    "mean"
   ]
  },
  {
   "cell_type": "code",
   "execution_count": 20,
   "metadata": {},
   "outputs": [
    {
     "data": {
      "text/plain": [
       "0.21798968795849646"
      ]
     },
     "execution_count": 20,
     "metadata": {},
     "output_type": "execute_result"
    }
   ],
   "source": [
    "## Variance:\n",
    "np.sqrt(importance_sample(lambda x: (x-mean)**2, post_nonnorm))"
   ]
  },
  {
   "cell_type": "code",
   "execution_count": 21,
   "metadata": {},
   "outputs": [],
   "source": [
    "X = np.linspace(1,3,50)"
   ]
  },
  {
   "cell_type": "code",
   "execution_count": 22,
   "metadata": {},
   "outputs": [],
   "source": [
    "Q = np.array([importance_sample(lambda y: y < x, post_nonnorm) for x in X])"
   ]
  },
  {
   "cell_type": "code",
   "execution_count": 23,
   "metadata": {},
   "outputs": [
    {
     "data": {
      "text/plain": [
       "[<matplotlib.lines.Line2D at 0x11edb8470>]"
      ]
     },
     "execution_count": 23,
     "metadata": {},
     "output_type": "execute_result"
    },
    {
     "data": {
      "image/png": "[encoded data removed]",
      "text/plain": [
       "<Figure size 432x288 with 1 Axes>"
      ]
     },
     "metadata": {
      "needs_background": "light"
     },
     "output_type": "display_data"
    }
   ],
   "source": [
    "plt.plot(X,Q)"
   ]
  },
  {
   "cell_type": "code",
   "execution_count": 27,
   "metadata": {},
   "outputs": [
    {
     "name": "stdout",
     "output_type": "stream",
     "text": [
      "1.7346938775510203 2.4285714285714284\n"
     ]
    }
   ],
   "source": [
    "print(X[np.argmax(Q > 0.05)], X[np.argmax(Q > 0.95)])"
   ]
  },
  {
   "cell_type": "markdown",
   "metadata": {},
   "source": [
    "\n",
    "### b) Rejection sampling"
   ]
  },
  {
   "cell_type": "code",
   "execution_count": 28,
   "metadata": {},
   "outputs": [],
   "source": [
    "# we still got the non-normalized posterior:\n",
    "import scipy.stats\n",
    "def post_nonnorm(theta):\n",
    "    return np.exp(-0.5 *( (theta-1)**2 + np.sum((y-theta)**2)  ))\n",
    "post_nonnorm = np.vectorize(post_nonnorm)\n"
   ]
  },
  {
   "cell_type": "code",
   "execution_count": 29,
   "metadata": {},
   "outputs": [
    {
     "data": {
      "text/plain": [
       "[<matplotlib.lines.Line2D at 0x11e091400>]"
      ]
     },
     "execution_count": 29,
     "metadata": {},
     "output_type": "execute_result"
    },
    {
     "data": {
      "image/png": "[encoded data removed]",
      "text/plain": [
       "<Figure size 432x288 with 1 Axes>"
      ]
     },
     "metadata": {
      "needs_background": "light"
     },
     "output_type": "display_data"
    }
   ],
   "source": [
    "# need a sample density g so that post_nonnorm < M*g for all theta\n",
    "thetas = np.linspace(-10,10,1000)\n",
    "\n",
    "\n",
    "p0 = post_nonnorm(thetas)\n",
    "g = lambda theta : scipy.stats.distributions.norm.pdf(theta, 1,1)*0.3\n",
    "#g = scipy.stats.distributions.norm.pdf(thetas, 1,1)*0.5\n",
    "plt.plot(thetas, p0)\n",
    "plt.plot(thetas, g(thetas))"
   ]
  },
  {
   "cell_type": "code",
   "execution_count": 30,
   "metadata": {},
   "outputs": [],
   "source": [
    "size = int(10e5)\n",
    "theta_candidate = np.random.normal(loc = 1, scale=1, size=size)\n",
    "prob_accept = post_nonnorm(theta_candidate) / g(theta_candidate)\n",
    "keep = prob_accept > np.random.uniform(size = size)\n",
    "theta = theta_candidate[keep]"
   ]
  },
  {
   "cell_type": "code",
   "execution_count": 31,
   "metadata": {},
   "outputs": [
    {
     "data": {
      "text/plain": [
       "2.0296642290342306"
      ]
     },
     "execution_count": 31,
     "metadata": {},
     "output_type": "execute_result"
    }
   ],
   "source": [
    "mean = theta.mean()\n",
    "mean"
   ]
  },
  {
   "cell_type": "code",
   "execution_count": 32,
   "metadata": {},
   "outputs": [
    {
     "data": {
      "text/plain": [
       "0.21707260599425152"
      ]
     },
     "execution_count": 32,
     "metadata": {},
     "output_type": "execute_result"
    }
   ],
   "source": [
    "std = np.sqrt(np.mean((theta- mean)**2))\n",
    "std"
   ]
  },
  {
   "cell_type": "code",
   "execution_count": 34,
   "metadata": {},
   "outputs": [
    {
     "name": "stdout",
     "output_type": "stream",
     "text": [
      "1.693877551020408 2.387755102040816\n"
     ]
    },
    {
     "data": {
      "image/png": "[encoded data removed]",
      "text/plain": [
       "<Figure size 432x288 with 1 Axes>"
      ]
     },
     "metadata": {
      "needs_background": "light"
     },
     "output_type": "display_data"
    }
   ],
   "source": [
    "X = np.linspace(1,3,50)\n",
    "Q = np.array([np.mean(theta < x) for x in X])\n",
    "plt.plot(X,Q)\n",
    "print(X[np.argmax(Q > 0.05)], X[np.argmax(Q > 0.95)])"
   ]
  },
  {
   "cell_type": "markdown",
   "metadata": {},
   "source": [
    "### c) MCMC (use for example a variant of the simple Metropolis scheme we saw in the lecture).   \n"
   ]
  },
  {
   "cell_type": "code",
   "execution_count": 35,
   "metadata": {},
   "outputs": [],
   "source": [
    "# we STILL know the non-normalized posterior:\n",
    "import scipy.stats\n",
    "def post_nonnorm(theta):\n",
    "    return np.exp(-0.5 *( (theta-1)**2 + np.sum((y-theta)**2)  ))\n",
    "post_nonnorm = np.vectorize(post_nonnorm)\n"
   ]
  },
  {
   "cell_type": "code",
   "execution_count": 36,
   "metadata": {},
   "outputs": [],
   "source": [
    "size = int(1e5)\n",
    "theta = np.zeros(size)#+1.5\n",
    "\n",
    "for i in range(1,size):\n",
    "    theta_candidate = theta[i-1] + (np.random.uniform()-0.5)*0.1\n",
    "    prob_accept = min(1, post_nonnorm(theta_candidate)/post_nonnorm(theta[i-1]))\n",
    "    \n",
    "    accept = np.random.uniform() < prob_accept\n",
    "\n",
    "    theta[i] = theta_candidate if accept else theta[i-1]"
   ]
  },
  {
   "cell_type": "code",
   "execution_count": 37,
   "metadata": {},
   "outputs": [
    {
     "data": {
      "text/plain": [
       "[<matplotlib.lines.Line2D at 0x11e0eda90>]"
      ]
     },
     "execution_count": 37,
     "metadata": {},
     "output_type": "execute_result"
    },
    {
     "data": {
      "image/png": "[encoded data removed]",
      "text/plain": [
       "<Figure size 432x288 with 1 Axes>"
      ]
     },
     "metadata": {
      "needs_background": "light"
     },
     "output_type": "display_data"
    }
   ],
   "source": [
    "plt.plot(theta)"
   ]
  },
  {
   "cell_type": "code",
   "execution_count": 38,
   "metadata": {},
   "outputs": [],
   "source": [
    "psample = theta[int(size/2):]"
   ]
  },
  {
   "cell_type": "code",
   "execution_count": 39,
   "metadata": {},
   "outputs": [
    {
     "data": {
      "text/plain": [
       "2.013379904407437"
      ]
     },
     "execution_count": 39,
     "metadata": {},
     "output_type": "execute_result"
    }
   ],
   "source": [
    "mean = np.mean(psample)\n",
    "mean"
   ]
  },
  {
   "cell_type": "code",
   "execution_count": 40,
   "metadata": {},
   "outputs": [
    {
     "data": {
      "text/plain": [
       "0.20976009991502514"
      ]
     },
     "execution_count": 40,
     "metadata": {},
     "output_type": "execute_result"
    }
   ],
   "source": [
    "std = np.sqrt(np.mean ( (psample-mean)**2))\n",
    "std"
   ]
  },
  {
   "cell_type": "code",
   "execution_count": 41,
   "metadata": {},
   "outputs": [
    {
     "name": "stdout",
     "output_type": "stream",
     "text": [
      "1.693877551020408 2.387755102040816\n"
     ]
    },
    {
     "data": {
      "image/png": "[encoded data removed]",
      "text/plain": [
       "<Figure size 432x288 with 1 Axes>"
      ]
     },
     "metadata": {
      "needs_background": "light"
     },
     "output_type": "display_data"
    }
   ],
   "source": [
    "X = np.linspace(1,3,50)\n",
    "Q = np.array([np.mean(psample < x) for x in X])\n",
    "plt.plot(X,Q)\n",
    "print(X[np.argmax(Q > 0.05)], X[np.argmax(Q > 0.95)])"
   ]
  },
  {
   "cell_type": "markdown",
   "metadata": {},
   "source": [
    "\n",
    "## Monte Carlo exercise II: \n",
    "use the same data as above, but assume a different model for the data, a t-distribution with 3 degrees of freedom instead: \n",
    "\n",
    "$y_i = \\theta + \\sigma/\\sqrt{3}* \\epsilon_i$, where $\\epsilon_i \\sim t_3$. \n",
    "\n",
    "The variance is still assumed known ($\\sigma=1$). \n",
    "Use the same prior as before, and compute the same quantities as in the previous exercise with the three different Monte Carlo methods \n",
    "(but here we cannot easily compare against the true values like in the previous exercise).\n",
    "\n",
    "\n",
    "#### solution\n",
    "since $y_i$ is a function of t:\n",
    "\n",
    "$$ weights = exp(\n",
    "    log(dnorm(ttp,1,1) \n",
    "    + log( t.pdf( (ttp-y_hat)*sqrt(n)/sigma, freedoms=3)*sqrt(n)/sigma)\n",
    "    - log(dnorm(ttp, 0, 3))\n",
    "    )\n",
    "$$"
   ]
  },
  {
   "cell_type": "code",
   "execution_count": 43,
   "metadata": {},
   "outputs": [
    {
     "data": {
      "text/plain": [
       "\u001b[0;31mSignature:\u001b[0m \u001b[0mscipy\u001b[0m\u001b[0;34m.\u001b[0m\u001b[0mstats\u001b[0m\u001b[0;34m.\u001b[0m\u001b[0mdistributions\u001b[0m\u001b[0;34m.\u001b[0m\u001b[0mt\u001b[0m\u001b[0;34m.\u001b[0m\u001b[0mpdf\u001b[0m\u001b[0;34m(\u001b[0m\u001b[0mx\u001b[0m\u001b[0;34m,\u001b[0m \u001b[0;34m*\u001b[0m\u001b[0margs\u001b[0m\u001b[0;34m,\u001b[0m \u001b[0;34m**\u001b[0m\u001b[0mkwds\u001b[0m\u001b[0;34m)\u001b[0m\u001b[0;34m\u001b[0m\u001b[0m\n",
       "\u001b[0;31mDocstring:\u001b[0m\n",
       "Probability density function at x of the given RV.\n",
       "\n",
       "Parameters\n",
       "----------\n",
       "x : array_like\n",
       "    quantiles\n",
       "arg1, arg2, arg3,... : array_like\n",
       "    The shape parameter(s) for the distribution (see docstring of the\n",
       "    instance object for more information)\n",
       "loc : array_like, optional\n",
       "    location parameter (default=0)\n",
       "scale : array_like, optional\n",
       "    scale parameter (default=1)\n",
       "\n",
       "Returns\n",
       "-------\n",
       "pdf : ndarray\n",
       "    Probability density function evaluated at x\n",
       "\u001b[0;31mFile:\u001b[0m      /usr/local/lib/python3.7/site-packages/scipy/stats/_distn_infrastructure.py\n",
       "\u001b[0;31mType:\u001b[0m      method\n"
      ]
     },
     "metadata": {},
     "output_type": "display_data"
    }
   ],
   "source": [
    "# This is the same, but with t pdf:\n",
    "scipy.stats.distributions.t.pdf()\n",
    "\n",
    "y_i"
   ]
  },
  {
   "cell_type": "markdown",
   "metadata": {},
   "source": [
    "## MCMC exercise: \n",
    "attempt to set up an MCMC to simulate from the target density of type p(theta) = 0.25*exp(-abs(theta-a0)) + 0.25*exp(-abs(theta+a0)) with a0 = 2.00. Do this by proposals theta[i+1] being a uniform on [theta[i] - b0, theta[i] + b0], where you try out a decent b0."
   ]
  },
  {
   "cell_type": "code",
   "execution_count": 350,
   "metadata": {},
   "outputs": [],
   "source": [
    "def distr(theta, a0 = 2.0):\n",
    "    return 0.25*np.exp(-np.abs(theta-a0)) + 0.25*np.exp(-np.abs(theta+a0))"
   ]
  },
  {
   "cell_type": "code",
   "execution_count": 368,
   "metadata": {},
   "outputs": [],
   "source": [
    "def MCMC(distr, step_size = 0.1, size = int(1e5), theta0= 0):\n",
    "    theta = np.zeros(size)+theta0\n",
    "\n",
    "    for i in range(1,size):\n",
    "        theta_candidate = theta[i-1] + (np.random.uniform()-0.5)*step_size\n",
    "        prob_accept = min(1, distr(theta_candidate)/distr(theta[i-1]))\n",
    "\n",
    "        accept = np.random.uniform() < prob_accept\n",
    "\n",
    "        theta[i] = theta_candidate if accept else theta[i-1]\n",
    "        \n",
    "    return theta"
   ]
  },
  {
   "cell_type": "code",
   "execution_count": 367,
   "metadata": {},
   "outputs": [
    {
     "data": {
      "text/plain": [
       "(array([  304.,  1001.,   890.,  1757.,  5063.,  7846.,  9521.,  6911.,\n",
       "         3160.,  1806.,  3610., 10194., 12184., 10113.,  8405.,  6124.,\n",
       "         4592.,  4144.,  1663.,   712.]),\n",
       " array([-6.28081016, -5.64815   , -5.01548985, -4.38282969, -3.75016953,\n",
       "        -3.11750937, -2.48484921, -1.85218905, -1.21952889, -0.58686873,\n",
       "         0.04579143,  0.67845159,  1.31111175,  1.94377191,  2.57643207,\n",
       "         3.20909223,  3.84175238,  4.47441254,  5.1070727 ,  5.73973286,\n",
       "         6.37239302]),\n",
       " <a list of 20 Patch objects>)"
      ]
     },
     "execution_count": 367,
     "metadata": {},
     "output_type": "execute_result"
    },
    {
     "data": {
      "image/png": "[encoded data removed]",
      "text/plain": [
       "<Figure size 432x288 with 1 Axes>"
      ]
     },
     "metadata": {
      "needs_background": "light"
     },
     "output_type": "display_data"
    }
   ],
   "source": [
    "plt.hist(MCMC(distr), bins = 20)"
   ]
  },
  {
   "cell_type": "code",
   "execution_count": 362,
   "metadata": {},
   "outputs": [
    {
     "data": {
      "text/plain": [
       "[<matplotlib.lines.Line2D at 0x131350400>]"
      ]
     },
     "execution_count": 362,
     "metadata": {},
     "output_type": "execute_result"
    },
    {
     "data": {
      "image/png": "[encoded data removed]",
      "text/plain": [
       "<Figure size 432x288 with 1 Axes>"
      ]
     },
     "metadata": {
      "needs_background": "light"
     },
     "output_type": "display_data"
    }
   ],
   "source": [
    "plt.plot(MCMC(distr))"
   ]
  },
  {
   "cell_type": "code",
   "execution_count": 361,
   "metadata": {},
   "outputs": [
    {
     "data": {
      "text/plain": [
       "[<matplotlib.lines.Line2D at 0x12d17ff28>]"
      ]
     },
     "execution_count": 361,
     "metadata": {},
     "output_type": "execute_result"
    },
    {
     "data": {
      "image/png": "[encoded data removed]",
      "text/plain": [
       "<Figure size 432x288 with 1 Axes>"
      ]
     },
     "metadata": {
      "needs_background": "light"
     },
     "output_type": "display_data"
    }
   ],
   "source": [
    "plt.plot((theta[20000:]))"
   ]
  },
  {
   "cell_type": "code",
   "execution_count": 356,
   "metadata": {},
   "outputs": [
    {
     "data": {
      "text/plain": [
       "(array([  123.,   226.,  1225.,  1771.,  1713.,  3393.,  7469., 10678.,\n",
       "        14864., 16408.,  7647.,  2768.,  2639.,  1831.,  1801.,  1349.,\n",
       "          985.,  1502.,  1238.,   370.]),\n",
       " array([-1.86365965, -1.440228  , -1.01679635, -0.5933647 , -0.16993305,\n",
       "         0.2534986 ,  0.67693024,  1.10036189,  1.52379354,  1.94722519,\n",
       "         2.37065684,  2.79408849,  3.21752014,  3.64095179,  4.06438344,\n",
       "         4.48781508,  4.91124673,  5.33467838,  5.75811003,  6.18154168,\n",
       "         6.60497333]),\n",
       " <a list of 20 Patch objects>)"
      ]
     },
     "execution_count": 356,
     "metadata": {},
     "output_type": "execute_result"
    },
    {
     "data": {
      "image/png": "[encoded data removed]",
      "text/plain": [
       "<Figure size 432x288 with 1 Axes>"
      ]
     },
     "metadata": {
      "needs_background": "light"
     },
     "output_type": "display_data"
    }
   ],
   "source": [
    "plt.hist(theta[20000:], bins = 20)"
   ]
  }
 ],
 "metadata": {
  "kernelspec": {
   "display_name": "Python 3",
   "language": "python",
   "name": "python3"
  },
  "language_info": {
   "codemirror_mode": {
    "name": "ipython",
    "version": 3
   },
   "file_extension": ".py",
   "mimetype": "text/x-python",
   "name": "python",
   "nbconvert_exporter": "python",
   "pygments_lexer": "ipython3",
   "version": "3.7.0"
  }
 },
 "nbformat": 4,
 "nbformat_minor": 2
}
