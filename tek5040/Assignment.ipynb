{
 "metadata": {
  "language_info": {
   "codemirror_mode": {
    "name": "ipython",
    "version": 3
   },
   "file_extension": ".py",
   "mimetype": "text/x-python",
   "name": "python",
   "nbconvert_exporter": "python",
   "pygments_lexer": "ipython3",
   "version": "3.7.4-final"
  },
  "orig_nbformat": 2,
  "kernelspec": {
   "name": "python_defaultSpec_1599676471030",
   "display_name": "Python 3.7.4 64-bit ('anaconda3': virtualenv)"
  }
 },
 "nbformat": 4,
 "nbformat_minor": 2,
 "cells": [
  {
   "cell_type": "markdown",
   "metadata": {},
   "source": [
    "# Mandatory Assignment 1 in tek5040.\n",
    "### Student: Simen Eide "
   ]
  },
  {
   "cell_type": "markdown",
   "metadata": {},
   "source": [
    "## Q 2.1-2.3 \n",
    "in train.py\n",
    "\n",
    "> You may observe that the accuracy is quite high already after one epoch, what is the main reason for this? \n",
    "\n",
    "We have two classes: Road and no road. A random model would have an accuracy of 50% already if the classes are spread evenly. In this case, probably 80% of the pixels are \"no road\".\n",
    "\n",
    "> The training loss should be decreasing from the start, but it might take some time before the accuacy increases after the first epoch, why do you think this is.\n",
    "\n",
    "The parameters are arranged randomly, and the misclassified items may produce scores that are far away from the decision boundary. However, the likelihood will increase as the parameter reconfigure to reduce that \"gap\".\n",
    "\n"
   ]
  },
  {
   "cell_type": "markdown",
   "metadata": {},
   "source": [
    "## Q 2.4\n",
    "There are 12 epochs, 810 steps and 60 steps per epoch."
   ]
  },
  {
   "cell_type": "markdown",
   "metadata": {},
   "source": [
    "Best training/validation loss: 0.251 / 0.245  \n",
    "Best training/validation accuracy: 87% / 89%"
   ]
  },
  {
   "cell_type": "markdown",
   "metadata": {},
   "source": [
    "## Q 2.6 - U-net\n",
    "\n",
    "> How many trainable parameters do your model have?\n",
    "\n",
    "We have 368k parameters.\n",
    "\n",
    "```\n",
    "Model: \"functional_1\"\n",
    "__________________________________________________________________________________________________\n",
    "Layer (type)                    Output Shape         Param #     Connected to                     \n",
    "==================================================================================================\n",
    "input_1 (InputLayer)            [(None, 256, 256, 3) 0                                            \n",
    "__________________________________________________________________________________________________\n",
    "conv2d (Conv2D)                 (None, 256, 256, 8)  224         input_1[0][0]                    \n",
    "__________________________________________________________________________________________________\n",
    "max_pooling2d (MaxPooling2D)    (None, 128, 128, 8)  0           conv2d[0][0]                     \n",
    "__________________________________________________________________________________________________\n",
    "conv2d_1 (Conv2D)               (None, 128, 128, 16) 1168        max_pooling2d[0][0]              \n",
    "__________________________________________________________________________________________________\n",
    "max_pooling2d_1 (MaxPooling2D)  (None, 64, 64, 16)   0           conv2d_1[0][0]                   \n",
    "__________________________________________________________________________________________________\n",
    "conv2d_2 (Conv2D)               (None, 64, 64, 32)   4640        max_pooling2d_1[0][0]            \n",
    "__________________________________________________________________________________________________\n",
    "max_pooling2d_2 (MaxPooling2D)  (None, 32, 32, 32)   0           conv2d_2[0][0]                   \n",
    "__________________________________________________________________________________________________\n",
    "conv2d_3 (Conv2D)               (None, 32, 32, 64)   18496       max_pooling2d_2[0][0]            \n",
    "__________________________________________________________________________________________________\n",
    "max_pooling2d_3 (MaxPooling2D)  (None, 16, 16, 64)   0           conv2d_3[0][0]                   \n",
    "__________________________________________________________________________________________________\n",
    "conv2d_4 (Conv2D)               (None, 16, 16, 128)  73856       max_pooling2d_3[0][0]            \n",
    "__________________________________________________________________________________________________\n",
    "max_pooling2d_4 (MaxPooling2D)  (None, 8, 8, 128)    0           conv2d_4[0][0]                   \n",
    "__________________________________________________________________________________________________\n",
    "conv2d_5 (Conv2D)               (None, 8, 8, 128)    147584      max_pooling2d_4[0][0]            \n",
    "__________________________________________________________________________________________________\n",
    "conv2d_transpose (Conv2DTranspo (None, 16, 16, 64)   73792       conv2d_5[0][0]                   \n",
    "__________________________________________________________________________________________________\n",
    "concatenate (Concatenate)       (None, 16, 16, 128)  0           conv2d_transpose[0][0]           \n",
    "                                                                 max_pooling2d_3[0][0]            \n",
    "__________________________________________________________________________________________________\n",
    "conv2d_transpose_1 (Conv2DTrans (None, 32, 32, 32)   36896       concatenate[0][0]                \n",
    "__________________________________________________________________________________________________\n",
    "concatenate_1 (Concatenate)     (None, 32, 32, 64)   0           conv2d_transpose_1[0][0]         \n",
    "                                                                 max_pooling2d_2[0][0]            \n",
    "__________________________________________________________________________________________________\n",
    "conv2d_transpose_2 (Conv2DTrans (None, 64, 64, 16)   9232        concatenate_1[0][0]              \n",
    "__________________________________________________________________________________________________\n",
    "concatenate_2 (Concatenate)     (None, 64, 64, 32)   0           conv2d_transpose_2[0][0]         \n",
    "                                                                 max_pooling2d_1[0][0]            \n",
    "__________________________________________________________________________________________________\n",
    "conv2d_transpose_3 (Conv2DTrans (None, 128, 128, 8)  2312        concatenate_2[0][0]              \n",
    "__________________________________________________________________________________________________\n",
    "concatenate_3 (Concatenate)     (None, 128, 128, 16) 0           conv2d_transpose_3[0][0]         \n",
    "                                                                 max_pooling2d[0][0]              \n",
    "__________________________________________________________________________________________________\n",
    "conv2d_transpose_4 (Conv2DTrans (None, 256, 256, 1)  145         concatenate_3[0][0]              \n",
    "__________________________________________________________________________________________________\n",
    "conv2d_6 (Conv2D)               (None, 256, 256, 1)  2           conv2d_transpose_4[0][0]         \n",
    "==================================================================================================\n",
    "Total params: 368,347\n",
    "Trainable params: 368,347\n",
    "Non-trainable params: 0\n",
    "```\n"
   ]
  },
  {
   "cell_type": "markdown",
   "metadata": {},
   "source": [
    "> Do your model have different behaviour under training and test?\n",
    "\n",
    "The unet does not seem to overfit too much. fairly similary behaviour for both training and valid dataset.\n",
    "\n",
    "Unet is however significantly better than the previous model, and obtains a 95% accuracy on both datasets, and a loss around 0.13 instead of the previous models 0.25."
   ]
  },
  {
   "cell_type": "code",
   "execution_count": null,
   "metadata": {},
   "outputs": [],
   "source": []
  }
 ]
}