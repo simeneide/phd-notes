{
 "cells": [
  {
   "cell_type": "markdown",
   "metadata": {},
   "source": [
    "# Bayesian Probabilistic Matrix Factorization using MCMC"
   ]
  },
  {
   "cell_type": "code",
   "execution_count": 1,
   "metadata": {},
   "outputs": [],
   "source": [
    "import pyro\n",
    "import spotlight\n",
    "import pandas as pd\n",
    "import seaborn\n",
    "from spotlight.cross_validation import random_train_test_split\n",
    "from spotlight.datasets.movielens import get_movielens_dataset\n",
    "from spotlight.evaluation import rmse_score\n",
    "from spotlight.factorization.explicit import ExplicitFactorizationModel\n",
    "import torch\n",
    "from scipy.stats import wishart\n",
    "import numpy as np\n",
    "import matplotlib.pyplot as plt\n",
    "d = 5"
   ]
  },
  {
   "cell_type": "markdown",
   "metadata": {},
   "source": [
    "## Load data"
   ]
  },
  {
   "cell_type": "code",
   "execution_count": 52,
   "metadata": {},
   "outputs": [],
   "source": []
  },
  {
   "cell_type": "code",
   "execution_count": 39,
   "metadata": {},
   "outputs": [
    {
     "name": "stderr",
     "output_type": "stream",
     "text": [
      "/usr/local/lib/python3.7/site-packages/scipy/stats/stats.py:1713: FutureWarning: Using a non-tuple sequence for multidimensional indexing is deprecated; use `arr[tuple(seq)]` instead of `arr[seq]`. In the future this will be interpreted as an array index, `arr[np.array(seq)]`, which will result either in an error or a different result.\n",
      "  return np.add.reduce(sorted[indexer] * weights, axis=axis) / sumval\n"
     ]
    },
    {
     "name": "stdout",
     "output_type": "stream",
     "text": [
      "Total length of dataset 1000209\n",
      "num users: 6041, num items: 3707\n"
     ]
    },
    {
     "data": {
      "image/png": "[encoded data removed]",
      "text/plain": [
       "<Figure size 432x288 with 1 Axes>"
      ]
     },
     "metadata": {
      "needs_background": "light"
     },
     "output_type": "display_data"
    }
   ],
   "source": [
    "ds = get_movielens_dataset(variant='1M')\n",
    "\n",
    "items = pd.read_csv(\"movies.dat\", delimiter=\"::\", header=None, engine = \"python\")\n",
    "items.columns = ['itemId', 'name','genre']\n",
    "ind2item = {row.itemId : row.name for row in items.itertuples()}\n",
    "\n",
    "train, test = random_train_test_split(ds)\n",
    "\n",
    "_ =seaborn.distplot(ds.ratings)\n",
    "print(f\"Total length of dataset {len(ds.ratings)}\")\n",
    "print(f\"num users: {ds.num_users}, num items: {ds.num_items}\")\n",
    "\n",
    "\n"
   ]
  },
  {
   "cell_type": "markdown",
   "metadata": {},
   "source": [
    "## Explicit Matrix Factorization\n",
    "Train an explicit model to kickstart the mcmc optimization.\n",
    "Using spotlight's explicit mf model to do so. The BilinearNet is a modification from the original with no bias."
   ]
  },
  {
   "cell_type": "code",
   "execution_count": 3,
   "metadata": {},
   "outputs": [],
   "source": [
    "import torch.nn as nn\n",
    "\n",
    "from spotlight.layers import ScaledEmbedding, ZeroEmbedding\n",
    "\n",
    "\n",
    "class BilinearNet(nn.Module):\n",
    "    \"\"\"\n",
    "    Bilinear factorization representation.\n",
    "    Encodes both users and items as an embedding layer; the score\n",
    "    for a user-item pair is given by the dot product of the item\n",
    "    and user latent vectors.\n",
    "    Parameters\n",
    "    ----------\n",
    "    num_users: int\n",
    "        Number of users in the model.\n",
    "    num_items: int\n",
    "        Number of items in the model.\n",
    "    embedding_dim: int, optional\n",
    "        Dimensionality of the latent representations.\n",
    "    user_embedding_layer: an embedding layer, optional\n",
    "        If supplied, will be used as the user embedding layer\n",
    "        of the network.\n",
    "    item_embedding_layer: an embedding layer, optional\n",
    "        If supplied, will be used as the item embedding layer\n",
    "        of the network.\n",
    "    sparse: boolean, optional\n",
    "        Use sparse gradients.\n",
    "    \"\"\"\n",
    "\n",
    "    def __init__(self, num_users, num_items, embedding_dim=32,\n",
    "                 user_embedding_layer=None, item_embedding_layer=None, sparse=False):\n",
    "\n",
    "        super(BilinearNet, self).__init__()\n",
    "\n",
    "        self.embedding_dim = embedding_dim\n",
    "\n",
    "        if user_embedding_layer is not None:\n",
    "            self.user_embeddings = user_embedding_layer\n",
    "        else:\n",
    "            self.user_embeddings = ScaledEmbedding(num_users, embedding_dim,\n",
    "                                                   sparse=sparse)\n",
    "\n",
    "        if item_embedding_layer is not None:\n",
    "            self.item_embeddings = item_embedding_layer\n",
    "        else:\n",
    "            self.item_embeddings = ScaledEmbedding(num_items, embedding_dim,\n",
    "                                                   sparse=sparse)\n",
    "\n",
    "        #self.user_biases = ZeroEmbedding(num_users, 1, sparse=sparse)\n",
    "        #self.item_biases = ZeroEmbedding(num_items, 1, sparse=sparse)\n",
    "\n",
    "    def forward(self, user_ids, item_ids):\n",
    "        \"\"\"\n",
    "        Compute the forward pass of the representation.\n",
    "        Parameters\n",
    "        ----------\n",
    "        user_ids: tensor\n",
    "            Tensor of user indices.\n",
    "        item_ids: tensor\n",
    "            Tensor of item indices.\n",
    "        Returns\n",
    "        -------\n",
    "        predictions: tensor\n",
    "            Tensor of predictions.\n",
    "        \"\"\"\n",
    "\n",
    "        user_embedding = self.user_embeddings(user_ids)\n",
    "        item_embedding = self.item_embeddings(item_ids)\n",
    "\n",
    "        user_embedding = user_embedding.squeeze()\n",
    "        item_embedding = item_embedding.squeeze()\n",
    "\n",
    "        #user_bias = self.user_biases(user_ids).squeeze()\n",
    "        #item_bias = self.item_biases(item_ids).squeeze()\n",
    "\n",
    "        dot = (user_embedding * item_embedding).sum(1)\n",
    "\n",
    "        return dot #+ user_bias + item_bias"
   ]
  },
  {
   "cell_type": "code",
   "execution_count": 4,
   "metadata": {},
   "outputs": [],
   "source": [
    "network = BilinearNet(num_users = ds.num_users,\n",
    "           num_items = ds.num_items,\n",
    "           embedding_dim = d)\n",
    "\n",
    "model = ExplicitFactorizationModel(n_iter=1, embedding_dim=d, representation=network)\n"
   ]
  },
  {
   "cell_type": "code",
   "execution_count": 5,
   "metadata": {},
   "outputs": [
    {
     "name": "stdout",
     "output_type": "stream",
     "text": [
      "step: 0 \t rmse train: 0.95, test: 0.97\n",
      "step: 1 \t rmse train: 0.92, test: 0.95\n",
      "step: 2 \t rmse train: 0.90, test: 0.94\n",
      "step: 3 \t rmse train: 0.89, test: 0.93\n",
      "step: 4 \t rmse train: 0.88, test: 0.93\n",
      "step: 5 \t rmse train: 0.88, test: 0.93\n",
      "step: 6 \t rmse train: 0.88, test: 0.93\n",
      "step: 7 \t rmse train: 0.88, test: 0.93\n",
      "step: 8 \t rmse train: 0.87, test: 0.92\n",
      "step: 9 \t rmse train: 0.87, test: 0.92\n",
      "step: 10 \t rmse train: 0.87, test: 0.93\n",
      "step: 11 \t rmse train: 0.87, test: 0.92\n",
      "step: 12 \t rmse train: 0.87, test: 0.92\n",
      "step: 13 \t rmse train: 0.87, test: 0.92\n",
      "step: 14 \t rmse train: 0.87, test: 0.92\n",
      "step: 15 \t rmse train: 0.87, test: 0.92\n",
      "step: 16 \t rmse train: 0.87, test: 0.92\n",
      "step: 17 \t rmse train: 0.86, test: 0.92\n",
      "step: 18 \t rmse train: 0.86, test: 0.92\n",
      "step: 19 \t rmse train: 0.86, test: 0.92\n",
      "CPU times: user 1min 39s, sys: 1.58 s, total: 1min 41s\n",
      "Wall time: 1min 44s\n"
     ]
    }
   ],
   "source": [
    "%%time\n",
    "for t in range(20):\n",
    "    model.fit(train)\n",
    "    rmse_test = rmse_score(model, test)\n",
    "    rmse_train = rmse_score(model, train)\n",
    "    print(f'step: {t} \\t rmse train: {rmse_train:.2f}, test: {rmse_test:.2f}')"
   ]
  },
  {
   "cell_type": "markdown",
   "metadata": {},
   "source": [
    "## Bayesian mf MCMC"
   ]
  },
  {
   "cell_type": "code",
   "execution_count": 6,
   "metadata": {},
   "outputs": [
    {
     "data": {
      "text/plain": [
       "BayesianMF()"
      ]
     },
     "execution_count": 6,
     "metadata": {},
     "output_type": "execute_result"
    }
   ],
   "source": [
    "from torch.distributions import MultivariateNormal as MNorm\n",
    "import torch.nn as nn\n",
    "class BayesianMF(nn.Module):\n",
    "    def __init__(self, train, \n",
    "                 test,\n",
    "                 num_users, \n",
    "                 num_items,\n",
    "                 embedding_dim,\n",
    "                 alpha = 2,\n",
    "                 beta0 = 2\n",
    "                ):\n",
    "        \n",
    "        super(BayesianMF, self).__init__()\n",
    "        self.train = train\n",
    "        if test:\n",
    "            self.test = test\n",
    "        self.num_items = num_items\n",
    "        self.num_users = num_users\n",
    "        self.embedding_dim = embedding_dim\n",
    "        self.alpha = alpha\n",
    "        self.beta0 = beta0\n",
    "        self.mu0 = torch.zeros(embedding_dim).view(-1,1) # defined in 3.1. think this actually is a vector, but can be treated as scalar due to broadcasting\n",
    "        self.W0_inv = torch.eye(embedding_dim).inverse() # defined in 3.1\n",
    "        \n",
    "        self.U = torch.zeros(self.num_users, self.embedding_dim) # torch.randn((ds.num_users,d))\n",
    "        self.V = torch.zeros(self.num_items, self.embedding_dim) #torch.randn((ds.num_items,d))\n",
    "        \n",
    "    def sample_hyperparam(self, M):\n",
    "        K = M.size()[0] #  NUM_USERS/NUM_ITEMS\n",
    "        df0_star = self.embedding_dim + K # eq 14\n",
    "        beta0_star = self.beta0 + K # eq 14\n",
    "        M_avg = M.mean(0).view(-1,1)\n",
    "        mu0_star = (beta0_star*self.mu0 + K * M_avg) / (beta0_star) # eq 14\n",
    "        mu0_star = mu0_star.double().view(-1)\n",
    "\n",
    "        S_avg = M.transpose(0,1).mm(M)/K # eq 14\n",
    "\n",
    "        W0_star_inv =  self.W0_inv + K*S_avg + self.beta0*K/(beta0_star) * ((self.mu0-M_avg) * (self.mu0 - M_avg).transpose(0,1)) # eq 14\n",
    "        W0_star = W0_star_inv.inverse()\n",
    "\n",
    "        lambda_M = wishart.rvs(df = df0_star, scale = W0_star)\n",
    "        lambda_M = torch.tensor(lambda_M).double()\n",
    "        #print(mu0_star[:2])\n",
    "\n",
    "        covar = (lambda_M*beta0_star).inverse()\n",
    "\n",
    "        mulvarNormal = MNorm(mu0_star, covariance_matrix=covar)\n",
    "\n",
    "\n",
    "        mu_M = mulvarNormal.sample()\n",
    "        return mu_M.float().view(-1,1), lambda_M.float()\n",
    "\n",
    "    \n",
    "    def get_vector_params(self, idx, mode, mu_K, lambda_K):\n",
    "        if mode == \"user\":\n",
    "            O = self.V\n",
    "            data_idx = self.train.user_ids==idx\n",
    "            vec = self.U[idx]\n",
    "            other_obj = self.train.item_ids[data_idx]\n",
    "        if mode == \"item\":\n",
    "            O = self.U\n",
    "            data_idx = self.train.item_ids==idx\n",
    "            vec = self.V[idx]\n",
    "            other_obj = self.train.user_ids[data_idx]\n",
    "\n",
    "        Oj = O[other_obj,]\n",
    "        r = self.train.ratings[data_idx]\n",
    "        r = torch.tensor(r).view(-1,1)\n",
    "        \n",
    "        if len(r) == 0: # if no data return hyperparameters\n",
    "            return mu_K, lambda_K\n",
    "        ratings_for_idx = (vec * Oj).sum(1)\n",
    "\n",
    "        # Calc lambda i star (eq 12)\n",
    "        lambda_istar =  lambda_K + self.alpha*(Oj.transpose(0,1).mm(Oj))\n",
    "        covar = lambda_istar.inverse()\n",
    "\n",
    "        # Calc mu i star (eq 13)\n",
    "        scoresum = self.alpha*(Oj*r).sum(0).view(-1,1)\n",
    "        mu_istar = covar.mm(scoresum + lambda_K.mm(mu_K))\n",
    "        return mu_istar, lambda_istar\n",
    "\n",
    "    def sample_useritem_vector(self, idx, mode, mu_K, lambda_K):\n",
    "        mu, prec = self.get_vector_params(idx, mode, mu_K, lambda_K)\n",
    "        mulvarNormal = MNorm(mu.view(-1), precision_matrix=prec)\n",
    "        return mulvarNormal.sample()\n",
    "    \n",
    "    def step_mcmc(self):\n",
    "        mu_v, lambda_v = self.sample_hyperparam(self.V)\n",
    "        mu_u, lambda_u = self.sample_hyperparam(self.U)\n",
    "        \n",
    "        for idx in range(self.num_users):\n",
    "            self.U[idx,] = self.sample_useritem_vector(idx, \"user\", mu_u, lambda_u)\n",
    "            \n",
    "        for idx in range(self.num_items):\n",
    "            self.V[idx,] = self.sample_useritem_vector(idx, \"item\", mu_v, lambda_v)\n",
    "            \n",
    "    def posterior_given_object(self, idx, mode):\n",
    "        if mode == \"user\":\n",
    "            mu_u, lambda_u = self.sample_hyperparam(self.U)\n",
    "            return self.sample_useritem_vector(idx, \"user\", mu_u, lambda_u)\n",
    "        if mode == \"item\":\n",
    "            mu_v, lambda_v = self.sample_hyperparam(self.V)\n",
    "            return self.sample_useritem_vector(idx, \"item\", mu_v, lambda_v)\n",
    "        \n",
    "    def posterior_score(self, userId, itemId, samples = 500):\n",
    "        uservecs = torch.zeros((samples,self.embedding_dim))\n",
    "        itemvecs = torch.zeros((samples,self.embedding_dim))\n",
    "        \n",
    "        for k in range(samples):\n",
    "            uservecs[k] = self.posterior_given_object(userId, \"user\")\n",
    "            itemvecs[k] = self.posterior_given_object(itemId, \"item\")\n",
    "            \n",
    "        scores = (uservecs*itemvecs).sum(1)\n",
    "        return scores, uservecs, itemvecs\n",
    "        \n",
    "    def predict(self, user_ids, item_ids):\n",
    "        uservec = self.U[user_ids]\n",
    "        itemvec = self.V[item_ids]\n",
    "        return (uservec * itemvec).sum(1)\n",
    "    \n",
    "    def fit(self, num_epochs, report_int=1):\n",
    "        for t in range(num_epochs):\n",
    "            self.step_mcmc()\n",
    "                \n",
    "            ## REPORTING ###\n",
    "            if t%report_int == 0:\n",
    "                rmse_train = rmse_score(self, self.train)\n",
    "                rmse_test = rmse_score(self, self.test)\n",
    "                print(f'step: {t} \\t rmse train: {rmse_train:.2f}, test: {rmse_test:.2f}')\n",
    "    \n",
    "bayesmodel = BayesianMF(train=train, \n",
    "                        test = test,\n",
    "                        num_items=ds.num_items,\n",
    "                        num_users = ds.num_users,\n",
    "                        embedding_dim = d)\n",
    "\n",
    "bayesmodel"
   ]
  },
  {
   "cell_type": "code",
   "execution_count": 7,
   "metadata": {},
   "outputs": [
    {
     "name": "stdout",
     "output_type": "stream",
     "text": [
      "step: 0 \t rmse train: 3.75, test: 3.75\n",
      "step: 1 \t rmse train: 3.75, test: 3.75\n",
      "step: 2 \t rmse train: 3.75, test: 3.75\n",
      "step: 3 \t rmse train: 3.75, test: 3.75\n",
      "step: 4 \t rmse train: 3.19, test: 3.20\n",
      "step: 5 \t rmse train: 0.98, test: 1.00\n",
      "step: 6 \t rmse train: 0.91, test: 0.92\n",
      "step: 7 \t rmse train: 0.90, test: 0.92\n",
      "step: 8 \t rmse train: 0.90, test: 0.92\n",
      "step: 9 \t rmse train: 0.90, test: 0.92\n",
      "step: 10 \t rmse train: 0.90, test: 0.92\n",
      "step: 11 \t rmse train: 0.90, test: 0.92\n",
      "step: 12 \t rmse train: 0.90, test: 0.92\n",
      "step: 13 \t rmse train: 0.90, test: 0.92\n",
      "step: 14 \t rmse train: 0.90, test: 0.92\n",
      "step: 15 \t rmse train: 0.90, test: 0.92\n",
      "step: 16 \t rmse train: 0.90, test: 0.92\n",
      "step: 17 \t rmse train: 0.90, test: 0.92\n",
      "step: 18 \t rmse train: 0.90, test: 0.92\n",
      "step: 19 \t rmse train: 0.90, test: 0.92\n",
      "CPU times: user 2min 58s, sys: 6.79 s, total: 3min 5s\n",
      "Wall time: 3min 5s\n"
     ]
    }
   ],
   "source": [
    "%%time\n",
    "bayesmodel.fit(20)"
   ]
  },
  {
   "cell_type": "markdown",
   "metadata": {},
   "source": [
    "## Analysis"
   ]
  },
  {
   "cell_type": "markdown",
   "metadata": {},
   "source": [
    "### Distribution of some random user item combinations"
   ]
  },
  {
   "cell_type": "code",
   "execution_count": 8,
   "metadata": {},
   "outputs": [
    {
     "data": {
      "image/png": "[encoded data removed]",
      "text/plain": [
       "<Figure size 432x288 with 1 Axes>"
      ]
     },
     "metadata": {
      "needs_background": "light"
     },
     "output_type": "display_data"
    }
   ],
   "source": [
    "users = np.random.randint(low=0,high=bayesmodel.num_users, size = 5)\n",
    "items = np.random.randint(0,bayesmodel.num_items, size = 5)\n",
    "for u,i in zip(users,items):\n",
    "    score, uvec, ivec = bayesmodel.posterior_score(userId=u, itemId=i)\n",
    "    _ = plt.hist(score.numpy(), alpha = 0.5)"
   ]
  },
  {
   "cell_type": "markdown",
   "metadata": {},
   "source": [
    "## Posterior score distribution in user item pairs with with lots of data vs little data\n",
    "Guess which distribution is from what pair..."
   ]
  },
  {
   "cell_type": "code",
   "execution_count": 9,
   "metadata": {},
   "outputs": [
    {
     "name": "stdout",
     "output_type": "stream",
     "text": [
      "least pop item: 1806\n",
      "most pop item: 105\n",
      "least pop users: 3897\n",
      "most pop users: 4169\n"
     ]
    },
    {
     "data": {
      "image/png": "[encoded data removed]",
      "text/plain": [
       "<Figure size 432x288 with 1 Axes>"
      ]
     },
     "metadata": {
      "needs_background": "light"
     },
     "output_type": "display_data"
    }
   ],
   "source": [
    "items, counts = np.unique(train.item_ids, return_counts=True)\n",
    "item_min = items[counts == counts.min()][0]\n",
    "item_max = items[counts == counts.max()][0]\n",
    "print(\"least pop item: {}\".format(item_min))\n",
    "print(\"most pop item: {}\".format(item_max))\n",
    "\n",
    "users, counts = np.unique(train.user_ids, return_counts=True)\n",
    "user_min = users[counts == counts.min()][0]\n",
    "user_max = users[counts == counts.max()][0]\n",
    "print(\"least pop users: {}\".format(user_min))\n",
    "print(\"most pop users: {}\".format(user_max))\n",
    "\n",
    "score, uvec, ivec = bayesmodel.posterior_score(userId=user_min, itemId=item_min)\n",
    "_ = plt.hist(score.numpy(), alpha = 0.5)\n",
    "\n",
    "score, uvec, ivec = bayesmodel.posterior_score(userId=user_max, itemId=item_max)\n",
    "_ = plt.hist(score.numpy(), alpha = 0.5)"
   ]
  },
  {
   "cell_type": "markdown",
   "metadata": {},
   "source": [
    "#### Posterior vectors from least and most active objects\n",
    "Plot of posterior user and item vectors for the user item pairs with most and least data (guess which is which)."
   ]
  },
  {
   "cell_type": "code",
   "execution_count": 10,
   "metadata": {},
   "outputs": [
    {
     "data": {
      "image/png": "[encoded data removed]",
      "text/plain": [
       "<Figure size 432x288 with 1 Axes>"
      ]
     },
     "metadata": {
      "needs_background": "light"
     },
     "output_type": "display_data"
    }
   ],
   "source": [
    "score, uvec, ivec = bayesmodel.posterior_score(userId=user_min, itemId=item_min)\n",
    "uvec, ivec = uvec.numpy(), ivec.numpy()\n",
    "_ = plt.plot(uvec[:,0], uvec[:,1], \"o\")\n",
    "_ = plt.plot(ivec[:,0], ivec[:,1], \"o\")\n",
    "score, uvec, ivec = bayesmodel.posterior_score(userId=user_max, itemId=item_max)\n",
    "uvec, ivec = uvec.numpy(), ivec.numpy()\n",
    "_ = plt.plot(uvec[:,0], uvec[:,1], \"o\")\n",
    "_ = plt.plot(ivec[:,0], ivec[:,1], \"o\")"
   ]
  },
  {
   "cell_type": "markdown",
   "metadata": {},
   "source": [
    "## Variations in topK predictions\n",
    "Given two different users (the maximum and minimum user), how does their recommendations spread qualitatively?\n",
    "For each user we sample five different posteriors and fetch top 5 movies for each posterior sample."
   ]
  },
  {
   "cell_type": "code",
   "execution_count": 76,
   "metadata": {},
   "outputs": [
    {
     "name": "stdout",
     "output_type": "stream",
     "text": [
      "Outlaw Josey Wales, The (1976) \t | Volunteers (1985) \t | In Old California (1942) \t | Blood Spattered Bride, The (La Novia Ensangrentada) (1972) \t | Joe Gould's Secret (2000)\n",
      "Marathon Man (1976) \t | Man Bites Dog (C'est arriv� pr�s de chez vous) (1992) \t | Shanghai Noon (2000) \t | Wirey Spindell (1999) \t | Running Man, The (1987)\n",
      "White Christmas (1954) \t | Light Years (1988) \t | Joe Gould's Secret (2000) \t | Pandora and the Flying Dutchman (1951) \t | Freedom for Us (� nous la libert� ) (1931)\n",
      "Outlaw Josey Wales, The (1976) \t | Night Visitor, The (1970) \t | Last September, The (1999) \t | Moonraker (1979) \t | Hellhounds on My Trail (1999)\n",
      "Airplane! (1980) \t | Quatermass and the Pit (1967) \t | Volunteers (1985) \t | Keeping the Faith (2000) \t | Man Bites Dog (C'est arriv� pr�s de chez vous) (1992)\n"
     ]
    }
   ],
   "source": [
    "u = user_max\n",
    "for k in range(5):\n",
    "    bayesmodel.step_mcmc()\n",
    "    preds = bayesmodel.predict(u,torch.arange(0,bayesmodel.num_items))\n",
    "    scores, sorts = preds.sort(descending=True)\n",
    "    print(\" \\t | \".join([ ind2item[int(i)] for i in sorts[:5]]))"
   ]
  },
  {
   "cell_type": "code",
   "execution_count": 77,
   "metadata": {},
   "outputs": [
    {
     "name": "stdout",
     "output_type": "stream",
     "text": [
      "Moonraker (1979) \t | Hamlet (2000) \t | Anna and the King (1999) \t | Porky's (1981) \t | <UNK>\n",
      "Porky's (1981) \t | White Christmas (1954) \t | Pandora and the Flying Dutchman (1951) \t | Anna and the King (1999) \t | Dying Young (1991)\n",
      "Blood Spattered Bride, The (La Novia Ensangrentada) (1972) \t | Hellhounds on My Trail (1999) \t | Seven Days in May (1964) \t | Running Man, The (1987) \t | Last Picture Show, The (1971)\n",
      "Brother from Another Planet, The (1984) \t | Blow-Out (La Grande Bouffe) (1973) \t | Porky's (1981) \t | Quatermass and the Pit (1967) \t | Running Man, The (1987)\n",
      "Running Man, The (1987) \t | Hamlet (2000) \t | Where the Heart Is (2000) \t | Marathon Man (1976) \t | Cool as Ice (1991)\n"
     ]
    }
   ],
   "source": [
    "u = user_min\n",
    "for k in range(5):\n",
    "    bayesmodel.step_mcmc()\n",
    "    preds = bayesmodel.predict(u,torch.arange(0,bayesmodel.num_items))\n",
    "    scores, sorts = preds.sort(descending=True)\n",
    "    print(\" \\t | \".join([ ind2item[int(i)] for i in sorts[:5]]))"
   ]
  }
 ],
 "metadata": {
  "kernelspec": {
   "display_name": "Python 3",
   "language": "python",
   "name": "python3"
  },
  "language_info": {
   "codemirror_mode": {
    "name": "ipython",
    "version": 3
   },
   "file_extension": ".py",
   "mimetype": "text/x-python",
   "name": "python",
   "nbconvert_exporter": "python",
   "pygments_lexer": "ipython3",
   "version": "3.7.1"
  }
 },
 "nbformat": 4,
 "nbformat_minor": 2
}
