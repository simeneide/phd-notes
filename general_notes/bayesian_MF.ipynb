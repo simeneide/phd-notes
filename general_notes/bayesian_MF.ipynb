{
 "cells": [
  {
   "cell_type": "markdown",
   "metadata": {},
   "source": [
    "# Bayesian Probabilistic Matrix Factorization using MCMC\n",
    "\n",
    "Current status: Does not converge nicely.  \n",
    "Possible next steps is to compare code to apparent converging version here:  \n",
    "https://github.com/LoryPack/BPMF/blob/master/Data_analysis.ipynb"
   ]
  },
  {
   "cell_type": "code",
   "execution_count": 1,
   "metadata": {},
   "outputs": [],
   "source": [
    "import pyro\n",
    "import spotlight\n",
    "import pandas as pd\n",
    "import seaborn\n",
    "from spotlight.cross_validation import random_train_test_split\n",
    "from spotlight.datasets.movielens import get_movielens_dataset\n",
    "from spotlight.evaluation import rmse_score\n",
    "from spotlight.factorization.explicit import ExplicitFactorizationModel\n",
    "import torch\n",
    "from scipy.stats import wishart\n",
    "import numpy as np\n",
    "import matplotlib.pyplot as plt\n",
    "d = 5"
   ]
  },
  {
   "cell_type": "markdown",
   "metadata": {},
   "source": [
    "## Load data"
   ]
  },
  {
   "cell_type": "code",
   "execution_count": 2,
   "metadata": {},
   "outputs": [
    {
     "name": "stderr",
     "output_type": "stream",
     "text": [
      "/usr/local/lib/python3.7/site-packages/scipy/stats/stats.py:1713: FutureWarning: Using a non-tuple sequence for multidimensional indexing is deprecated; use `arr[tuple(seq)]` instead of `arr[seq]`. In the future this will be interpreted as an array index, `arr[np.array(seq)]`, which will result either in an error or a different result.\n",
      "  return np.add.reduce(sorted[indexer] * weights, axis=axis) / sumval\n"
     ]
    },
    {
     "name": "stdout",
     "output_type": "stream",
     "text": [
      "Total length of dataset 100000\n",
      "num users: 944, num items: 1683\n"
     ]
    },
    {
     "data": {
      "image/png": "[encoded data removed]",
      "text/plain": [
       "<Figure size 432x288 with 1 Axes>"
      ]
     },
     "metadata": {
      "needs_background": "light"
     },
     "output_type": "display_data"
    }
   ],
   "source": [
    "ds = get_movielens_dataset(variant='100K')\n",
    "#ds.ratings = ds.ratings/5\n",
    "train, test = random_train_test_split(ds)\n",
    "\n",
    "_ =seaborn.distplot(ds.ratings)\n",
    "print(f\"Total length of dataset {len(ds.ratings)}\")\n",
    "print(f\"num users: {ds.num_users}, num items: {ds.num_items}\")"
   ]
  },
  {
   "cell_type": "markdown",
   "metadata": {},
   "source": [
    "## Explicit Matrix Factorization\n",
    "Train an explicit model to kickstart the mcmc optimization.\n",
    "Using spotlight's explicit mf model to do so. The BilinearNet is a modification from the original with no bias."
   ]
  },
  {
   "cell_type": "code",
   "execution_count": 3,
   "metadata": {},
   "outputs": [],
   "source": [
    "import torch.nn as nn\n",
    "\n",
    "from spotlight.layers import ScaledEmbedding, ZeroEmbedding\n",
    "\n",
    "\n",
    "class BilinearNet(nn.Module):\n",
    "    \"\"\"\n",
    "    Bilinear factorization representation.\n",
    "    Encodes both users and items as an embedding layer; the score\n",
    "    for a user-item pair is given by the dot product of the item\n",
    "    and user latent vectors.\n",
    "    Parameters\n",
    "    ----------\n",
    "    num_users: int\n",
    "        Number of users in the model.\n",
    "    num_items: int\n",
    "        Number of items in the model.\n",
    "    embedding_dim: int, optional\n",
    "        Dimensionality of the latent representations.\n",
    "    user_embedding_layer: an embedding layer, optional\n",
    "        If supplied, will be used as the user embedding layer\n",
    "        of the network.\n",
    "    item_embedding_layer: an embedding layer, optional\n",
    "        If supplied, will be used as the item embedding layer\n",
    "        of the network.\n",
    "    sparse: boolean, optional\n",
    "        Use sparse gradients.\n",
    "    \"\"\"\n",
    "\n",
    "    def __init__(self, num_users, num_items, embedding_dim=32,\n",
    "                 user_embedding_layer=None, item_embedding_layer=None, sparse=False):\n",
    "\n",
    "        super(BilinearNet, self).__init__()\n",
    "\n",
    "        self.embedding_dim = embedding_dim\n",
    "\n",
    "        if user_embedding_layer is not None:\n",
    "            self.user_embeddings = user_embedding_layer\n",
    "        else:\n",
    "            self.user_embeddings = ScaledEmbedding(num_users, embedding_dim,\n",
    "                                                   sparse=sparse)\n",
    "\n",
    "        if item_embedding_layer is not None:\n",
    "            self.item_embeddings = item_embedding_layer\n",
    "        else:\n",
    "            self.item_embeddings = ScaledEmbedding(num_items, embedding_dim,\n",
    "                                                   sparse=sparse)\n",
    "\n",
    "        #self.user_biases = ZeroEmbedding(num_users, 1, sparse=sparse)\n",
    "        #self.item_biases = ZeroEmbedding(num_items, 1, sparse=sparse)\n",
    "\n",
    "    def forward(self, user_ids, item_ids):\n",
    "        \"\"\"\n",
    "        Compute the forward pass of the representation.\n",
    "        Parameters\n",
    "        ----------\n",
    "        user_ids: tensor\n",
    "            Tensor of user indices.\n",
    "        item_ids: tensor\n",
    "            Tensor of item indices.\n",
    "        Returns\n",
    "        -------\n",
    "        predictions: tensor\n",
    "            Tensor of predictions.\n",
    "        \"\"\"\n",
    "\n",
    "        user_embedding = self.user_embeddings(user_ids)\n",
    "        item_embedding = self.item_embeddings(item_ids)\n",
    "\n",
    "        user_embedding = user_embedding.squeeze()\n",
    "        item_embedding = item_embedding.squeeze()\n",
    "\n",
    "        #user_bias = self.user_biases(user_ids).squeeze()\n",
    "        #item_bias = self.item_biases(item_ids).squeeze()\n",
    "\n",
    "        dot = (user_embedding * item_embedding).sum(1)\n",
    "\n",
    "        return dot #+ user_bias + item_bias"
   ]
  },
  {
   "cell_type": "code",
   "execution_count": 4,
   "metadata": {},
   "outputs": [
    {
     "name": "stdout",
     "output_type": "stream",
     "text": [
      "0.7999398 0.9853967\n"
     ]
    }
   ],
   "source": [
    "network = BilinearNet(num_users = ds.num_users,\n",
    "           num_items = ds.num_items,\n",
    "           embedding_dim = d)\n",
    "\n",
    "model = ExplicitFactorizationModel(n_iter=30, embedding_dim=d, representation=network)\n",
    "model.fit(train)\n",
    "\n",
    "rmse_test = rmse_score(model, test)\n",
    "rmse_train = rmse_score(model, train)\n",
    "print(rmse_train, rmse_test)"
   ]
  },
  {
   "cell_type": "code",
   "execution_count": 115,
   "metadata": {},
   "outputs": [
    {
     "data": {
      "text/plain": [
       "(1683,)"
      ]
     },
     "execution_count": 115,
     "metadata": {},
     "output_type": "execute_result"
    }
   ],
   "source": [
    "model.predict(2).shape"
   ]
  },
  {
   "cell_type": "markdown",
   "metadata": {},
   "source": [
    "## Bayesian MF - one layer\n",
    "Pretrain model with a standard mf to kickstart mcmc. Then use these weights for further training.."
   ]
  },
  {
   "cell_type": "code",
   "execution_count": 5,
   "metadata": {},
   "outputs": [],
   "source": [
    "# Reuse \"network module to store parameters\"\n",
    "bayesnetwork = BilinearNet(num_users = ds.num_users,\n",
    "           num_items = ds.num_items,\n",
    "           embedding_dim = d)\n",
    "bayesmodel = ExplicitFactorizationModel(n_iter=0, embedding_dim=d, representation=bayesnetwork)\n",
    "bayesmodel.fit(train)\n",
    "\n",
    "\n",
    "U = bayesnetwork.user_embeddings.weight.data\n",
    "V = bayesnetwork.item_embeddings.weight.data\n",
    "# Initialize vectors\n",
    "#U = model._net.user_embeddings.weight.data = torch.zeros((ds.num_users,d)) # torch.randn((ds.num_users,d))\n",
    "#V = model._net.item_embeddings.weight.data = torch.zeros((ds.num_items,d)) #torch.randn((ds.num_items,d))"
   ]
  },
  {
   "cell_type": "code",
   "execution_count": 7,
   "metadata": {},
   "outputs": [],
   "source": [
    "# M = either U or V.\n",
    "# K = num_users/num_items (could probably have be inferred by M)\n",
    "\n",
    "def sample_hyperparam(M):\n",
    "    K = M.size()[0] #  NUM_USERS/NUM_ITEMS\n",
    "    df0_star = d + K # eq 14\n",
    "    beta0_star = beta0 + K # eq 14\n",
    "    M_avg = M.mean(0).view(-1,1)\n",
    "    mu0_star = (beta0_star*mu0 + K * M_avg) / (beta0_star) # eq 14\n",
    "    mu0_star = mu0_star.double().view(-1)\n",
    "\n",
    "    S_avg = U.transpose(0,1).mm(U)/K #(M.unsqueeze(2) * M.unsqueeze(1)).mean(0) # eq 14\n",
    "\n",
    "    W0_star_inv =  W0_inv + K*S_avg + beta0*K/(beta0_star) * ((mu0-M_avg) * (mu0 - M_avg).transpose(0,1)) # eq 14\n",
    "    W0_star = W0_star_inv.inverse()\n",
    "\n",
    "    lambda_M = wishart.rvs(df = df0_star, scale = W0_star)\n",
    "    lambda_M = torch.tensor(lambda_M).double()\n",
    "    #print(mu0_star[:2])\n",
    "    \n",
    "    #print(lambda_M.size())\n",
    "    covar = (lambda_M*beta0_star).inverse()\n",
    "    \n",
    "    mulvarNormal = torch.distributions.MultivariateNormal(mu0_star, \n",
    "                                                          covariance_matrix=covar)\n",
    "    \n",
    "    \n",
    "    mu_M = mulvarNormal.sample()\n",
    "    return mu_M.float().view(-1,1), lambda_M.float()\n",
    "\n",
    "#P( U_i | R, V, mu_U, lambda_U, alpha) (11)\n",
    "def get_vector_params(idx, mode, O, mu_K, lambda_K):\n",
    "    if mode == \"user\":\n",
    "        data_idx = train.user_ids==i\n",
    "        vec = U[i]\n",
    "        other_obj = train.item_ids[data_idx]\n",
    "    if mode == \"item\":\n",
    "        data_idx = train.item_ids==i\n",
    "        vec = V[i]\n",
    "        other_obj = train.user_ids[data_idx]\n",
    "\n",
    "    Oj = O[other_obj,]\n",
    "    r = train.ratings[data_idx]\n",
    "    r = torch.tensor(r).view(-1,1)\n",
    "    if len(r) == 0: # if no data\n",
    "        return mu_K, lambda_K\n",
    "    ratings_for_idx = (vec * Oj).sum(1)\n",
    "\n",
    "    # Calc lambda i star (eq 12)\n",
    "    lambda_istar =  lambda_K + alpha*(Oj.transpose(0,1).mm(Oj))# (Oj.unsqueeze(2)*Oj.unsqueeze(1)).sum(0)\n",
    "    covar = lambda_istar.inverse()\n",
    "\n",
    "    # Calc mu i star (eq 13)\n",
    "    scoresum = alpha*(Oj*r).sum(0).view(-1,1)\n",
    "    mu_istar = covar.mm(scoresum + lambda_K.mm(mu_K))\n",
    "    return mu_istar, lambda_istar\n",
    "\n",
    "def sample_useritem_vector(idx, mode, O, mu_K, lambda_K):\n",
    "    mu, prec = get_vector_params(idx, mode, O, mu_K, lambda_K)\n",
    "    mulvarNormal = torch.distributions.MultivariateNormal(mu.view(-1), precision_matrix=prec)\n",
    "    return mulvarNormal.sample()"
   ]
  },
  {
   "cell_type": "code",
   "execution_count": 8,
   "metadata": {},
   "outputs": [],
   "source": [
    "## HYPERPRIORS\n",
    "beta0 = 2 # Some constant we dont really know\n",
    "mu0 = torch.zeros(d).view(-1,1) # defined in 3.1. think this actually is a vector, but can be treated as scalar due to broadcasting\n",
    "W0_inv = torch.eye(d).inverse() # defined in 3.1\n",
    "alpha = 2\n",
    "report_int = 1"
   ]
  },
  {
   "cell_type": "code",
   "execution_count": 9,
   "metadata": {},
   "outputs": [
    {
     "name": "stdout",
     "output_type": "stream",
     "text": [
      "step: 0 \t rmse train: 2.61, test: 2.70 \t Size user 1.94, item 0.06 \t avg.score: -0.00\n"
     ]
    },
    {
     "data": {
      "image/png": "[encoded data removed]",
      "text/plain": [
       "<Figure size 432x288 with 1 Axes>"
      ]
     },
     "metadata": {
      "needs_background": "light"
     },
     "output_type": "display_data"
    },
    {
     "name": "stdout",
     "output_type": "stream",
     "text": [
      "step: 1 \t rmse train: 0.89, test: 1.04 \t Size user 2.83, item 0.38 \t avg.score: 0.47\n",
      "step: 2 \t rmse train: 0.85, test: 1.01 \t Size user 3.01, item 0.38 \t avg.score: 2.98\n",
      "step: 3 \t rmse train: 0.84, test: 1.04 \t Size user 3.10, item 0.39 \t avg.score: 2.94\n",
      "step: 4 \t rmse train: 0.83, test: 1.03 \t Size user 3.14, item 0.38 \t avg.score: 2.96\n",
      "step: 5 \t rmse train: 0.83, test: 1.03 \t Size user 3.15, item 0.38 \t avg.score: 2.60\n",
      "step: 6 \t rmse train: 0.83, test: 1.02 \t Size user 3.15, item 0.39 \t avg.score: 2.69\n",
      "step: 7 \t rmse train: 0.83, test: 1.02 \t Size user 3.15, item 0.39 \t avg.score: 3.33\n",
      "step: 8 \t rmse train: 0.82, test: 1.09 \t Size user 3.15, item 0.40 \t avg.score: 3.28\n",
      "step: 9 \t rmse train: 0.82, test: 1.04 \t Size user 3.15, item 0.40 \t avg.score: 3.32\n",
      "step: 10 \t rmse train: 0.82, test: 1.05 \t Size user 3.13, item 0.40 \t avg.score: 3.06\n",
      "step: 11 \t rmse train: 0.82, test: 1.04 \t Size user 3.09, item 0.40 \t avg.score: 2.87\n",
      "step: 12 \t rmse train: 0.82, test: 0.99 \t Size user 3.07, item 0.39 \t avg.score: 2.83\n",
      "step: 13 \t rmse train: 0.82, test: 1.04 \t Size user 3.08, item 0.40 \t avg.score: 3.56\n",
      "step: 14 \t rmse train: 0.82, test: 1.02 \t Size user 3.11, item 0.40 \t avg.score: 2.88\n",
      "step: 15 \t rmse train: 0.82, test: 1.03 \t Size user 3.10, item 0.41 \t avg.score: 3.72\n",
      "step: 16 \t rmse train: 0.82, test: 1.01 \t Size user 3.06, item 0.41 \t avg.score: 3.15\n",
      "step: 17 \t rmse train: 0.82, test: 1.05 \t Size user 3.05, item 0.42 \t avg.score: 3.15\n",
      "step: 18 \t rmse train: 0.82, test: 1.04 \t Size user 3.06, item 0.42 \t avg.score: 3.38\n",
      "step: 19 \t rmse train: 0.82, test: 1.02 \t Size user 3.03, item 0.40 \t avg.score: 2.97\n",
      "step: 20 \t rmse train: 0.82, test: 1.00 \t Size user 3.04, item 0.40 \t avg.score: 3.47\n",
      "step: 21 \t rmse train: 0.82, test: 1.03 \t Size user 3.05, item 0.42 \t avg.score: 3.14\n",
      "step: 30 \t rmse train: 0.82, test: 1.00 \t Size user 2.97, item 0.42 \t avg.score: 3.13\n",
      "step: 40 \t rmse train: 0.82, test: 1.00 \t Size user 2.87, item 0.44 \t avg.score: 3.06\n",
      "step: 50 \t rmse train: 0.82, test: 1.03 \t Size user 2.74, item 0.46 \t avg.score: 2.79\n",
      "step: 60 \t rmse train: 0.82, test: 1.04 \t Size user 2.66, item 0.48 \t avg.score: 3.28\n"
     ]
    },
    {
     "data": {
      "image/png": "[encoded data removed]",
      "text/plain": [
       "<Figure size 432x288 with 1 Axes>"
      ]
     },
     "metadata": {
      "needs_background": "light"
     },
     "output_type": "display_data"
    },
    {
     "name": "stdout",
     "output_type": "stream",
     "text": [
      "step: 70 \t rmse train: 0.82, test: 1.01 \t Size user 2.57, item 0.48 \t avg.score: 3.06\n",
      "step: 80 \t rmse train: 0.82, test: 1.00 \t Size user 2.49, item 0.49 \t avg.score: 3.76\n",
      "step: 90 \t rmse train: 0.82, test: 1.02 \t Size user 2.38, item 0.49 \t avg.score: 3.19\n",
      "step: 100 \t rmse train: 0.82, test: 1.00 \t Size user 2.30, item 0.50 \t avg.score: 2.93\n",
      "step: 150 \t rmse train: 0.82, test: 0.96 \t Size user 1.91, item 0.54 \t avg.score: 3.14\n"
     ]
    }
   ],
   "source": [
    "for t in range(201):\n",
    "    ### SAMPLE HYPERPARAMETERS ###\n",
    "    mu_V, lambda_V = sample_hyperparam(M = V)\n",
    "    mu_U, lambda_U = sample_hyperparam(M = U)\n",
    "\n",
    "    ### SAMPLE ITEMS ###\n",
    "    for i in range(1, ds.num_items):\n",
    "        V[i,] = sample_useritem_vector(i, mode = \"item\", O=U, mu_K = mu_V, lambda_K=lambda_V)\n",
    "\n",
    "    ### SAMPLE USERS ###\n",
    "    for i in range(1, ds.num_users):\n",
    "        U[i,] = sample_useritem_vector(i, mode = \"user\", O=V, mu_K = mu_U, lambda_K=lambda_U)\n",
    "        \n",
    "    ### JUST LOGGING AFTER THIS: ###\n",
    "    if t%report_int == 0:\n",
    "        rmse_train = rmse_score(bayesmodel, train)\n",
    "        rmse_test = rmse_score(bayesmodel, test)\n",
    "        print(f'step: {t} \\t rmse train: {rmse_train:.2f}, test: {rmse_test:.2f} \\t \\\n",
    "Size user {torch.mean(U**2):.2f}, item {torch.mean(V**2):.2f} \\t \\\n",
    "avg.score: {(mu_U*mu_V).sum():.2f}')\n",
    "    if t%(report_int+50) == 0:\n",
    "        seaborn.distplot((U[ds.user_ids,]*V[ds.item_ids,]).sum(1).numpy())\n",
    "        plt.show()\n",
    "        \n",
    "    if t > 20:\n",
    "        report_int = 10\n",
    "    if t > 100:\n",
    "        report_int = 50"
   ]
  },
  {
   "cell_type": "markdown",
   "metadata": {},
   "source": [
    "## Analysis"
   ]
  },
  {
   "cell_type": "code",
   "execution_count": 72,
   "metadata": {},
   "outputs": [
    {
     "name": "stdout",
     "output_type": "stream",
     "text": [
      "tensor(4.2072)\n",
      "tensor(3.3722)\n",
      "tensor(2.4801)\n",
      "tensor(3.9104)\n",
      "tensor(3.8903)\n"
     ]
    },
    {
     "data": {
      "image/png": "[encoded data removed]",
      "text/plain": [
       "<Figure size 432x288 with 1 Axes>"
      ]
     },
     "metadata": {
      "needs_background": "light"
     },
     "output_type": "display_data"
    }
   ],
   "source": [
    "def plot_posterior_score(userId, itemId, samples = 500):\n",
    "    post_uservec = torch.zeros(samples, d)\n",
    "    post_itemvec = torch.zeros(samples, d)\n",
    "    ### SAMPLE USERS ###\n",
    "    for j in range(samples):\n",
    "        mu_V, lambda_V = sample_hyperparam(M = V)\n",
    "        mu_U, lambda_U = sample_hyperparam(M = U)\n",
    "        post_uservec[j,] = sample_useritem_vector(userId, mode = \"user\", O=V, mu_K = mu_U, lambda_K=lambda_U)\n",
    "        post_itemvec[j,] = sample_useritem_vector(itemId, mode = \"item\", O=U, mu_K = mu_V, lambda_K=lambda_V)\n",
    "        \n",
    "    score = (post_uservec *post_itemvec).sum(1)\n",
    "    img = plt.hist(score.numpy())\n",
    "    print(score.mean())\n",
    "    return img, post_uservec, post_itemvec\n",
    "\n",
    "\n",
    "size = 5\n",
    "usersample = np.random.randint(low = 0, high=100, size=size)\n",
    "itemsample = np.random.randint(low = 0, high=100, size=size)\n",
    "\n",
    "for u,i in zip(usersample, itemsample):\n",
    "    img, _, _ = plot_posterior_score(u,i)\n",
    "    img"
   ]
  }
 ],
 "metadata": {
  "kernelspec": {
   "display_name": "Python 3",
   "language": "python",
   "name": "python3"
  },
  "language_info": {
   "codemirror_mode": {
    "name": "ipython",
    "version": 3
   },
   "file_extension": ".py",
   "mimetype": "text/x-python",
   "name": "python",
   "nbconvert_exporter": "python",
   "pygments_lexer": "ipython3",
   "version": "3.7.1"
  }
 },
 "nbformat": 4,
 "nbformat_minor": 2
}
