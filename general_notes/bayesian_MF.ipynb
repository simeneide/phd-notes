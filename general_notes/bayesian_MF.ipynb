{
 "cells": [
  {
   "cell_type": "code",
   "execution_count": 57,
   "metadata": {},
   "outputs": [],
   "source": [
    "import pyro\n",
    "import spotlight\n",
    "import pandas as pd\n",
    "import seaborn\n",
    "from spotlight.cross_validation import random_train_test_split\n",
    "from spotlight.datasets.movielens import get_movielens_dataset\n",
    "from spotlight.evaluation import rmse_score\n",
    "from spotlight.factorization.explicit import ExplicitFactorizationModel\n",
    "import torch\n",
    "d = 10"
   ]
  },
  {
   "cell_type": "markdown",
   "metadata": {},
   "source": [
    "## Load data"
   ]
  },
  {
   "cell_type": "code",
   "execution_count": 58,
   "metadata": {},
   "outputs": [
    {
     "name": "stderr",
     "output_type": "stream",
     "text": [
      "/usr/local/lib/python3.7/site-packages/scipy/stats/stats.py:1713: FutureWarning: Using a non-tuple sequence for multidimensional indexing is deprecated; use `arr[tuple(seq)]` instead of `arr[seq]`. In the future this will be interpreted as an array index, `arr[np.array(seq)]`, which will result either in an error or a different result.\n",
      "  return np.add.reduce(sorted[indexer] * weights, axis=axis) / sumval\n"
     ]
    },
    {
     "name": "stdout",
     "output_type": "stream",
     "text": [
      "Total length of dataset 100000\n",
      "num users: 944, num items: 1683\n"
     ]
    },
    {
     "data": {
      "image/png": "[encoded data removed]",
      "text/plain": [
       "<Figure size 432x288 with 1 Axes>"
      ]
     },
     "metadata": {
      "needs_background": "light"
     },
     "output_type": "display_data"
    }
   ],
   "source": [
    "ds = get_movielens_dataset(variant='100K')\n",
    "ds.ratings = ds.ratings/5\n",
    "train, test = random_train_test_split(ds)\n",
    "\n",
    "_ =seaborn.distplot(ds.ratings)\n",
    "print(f\"Total length of dataset {len(ds.ratings)}\")\n",
    "print(f\"num users: {ds.num_users}, num items: {ds.num_items}\")"
   ]
  },
  {
   "cell_type": "markdown",
   "metadata": {},
   "source": [
    "## Explicit Matrix Factorization"
   ]
  },
  {
   "cell_type": "code",
   "execution_count": 101,
   "metadata": {},
   "outputs": [],
   "source": [
    "import torch.nn as nn\n",
    "\n",
    "from spotlight.layers import ScaledEmbedding, ZeroEmbedding\n",
    "\n",
    "\n",
    "class BilinearNet(nn.Module):\n",
    "    \"\"\"\n",
    "    Bilinear factorization representation.\n",
    "    Encodes both users and items as an embedding layer; the score\n",
    "    for a user-item pair is given by the dot product of the item\n",
    "    and user latent vectors.\n",
    "    Parameters\n",
    "    ----------\n",
    "    num_users: int\n",
    "        Number of users in the model.\n",
    "    num_items: int\n",
    "        Number of items in the model.\n",
    "    embedding_dim: int, optional\n",
    "        Dimensionality of the latent representations.\n",
    "    user_embedding_layer: an embedding layer, optional\n",
    "        If supplied, will be used as the user embedding layer\n",
    "        of the network.\n",
    "    item_embedding_layer: an embedding layer, optional\n",
    "        If supplied, will be used as the item embedding layer\n",
    "        of the network.\n",
    "    sparse: boolean, optional\n",
    "        Use sparse gradients.\n",
    "    \"\"\"\n",
    "\n",
    "    def __init__(self, num_users, num_items, embedding_dim=32,\n",
    "                 user_embedding_layer=None, item_embedding_layer=None, sparse=False):\n",
    "\n",
    "        super(BilinearNet, self).__init__()\n",
    "\n",
    "        self.embedding_dim = embedding_dim\n",
    "\n",
    "        if user_embedding_layer is not None:\n",
    "            self.user_embeddings = user_embedding_layer\n",
    "        else:\n",
    "            self.user_embeddings = ScaledEmbedding(num_users, embedding_dim,\n",
    "                                                   sparse=sparse)\n",
    "\n",
    "        if item_embedding_layer is not None:\n",
    "            self.item_embeddings = item_embedding_layer\n",
    "        else:\n",
    "            self.item_embeddings = ScaledEmbedding(num_items, embedding_dim,\n",
    "                                                   sparse=sparse)\n",
    "\n",
    "        #self.user_biases = ZeroEmbedding(num_users, 1, sparse=sparse)\n",
    "        #self.item_biases = ZeroEmbedding(num_items, 1, sparse=sparse)\n",
    "\n",
    "    def forward(self, user_ids, item_ids):\n",
    "        \"\"\"\n",
    "        Compute the forward pass of the representation.\n",
    "        Parameters\n",
    "        ----------\n",
    "        user_ids: tensor\n",
    "            Tensor of user indices.\n",
    "        item_ids: tensor\n",
    "            Tensor of item indices.\n",
    "        Returns\n",
    "        -------\n",
    "        predictions: tensor\n",
    "            Tensor of predictions.\n",
    "        \"\"\"\n",
    "\n",
    "        user_embedding = self.user_embeddings(user_ids)\n",
    "        item_embedding = self.item_embeddings(item_ids)\n",
    "\n",
    "        user_embedding = user_embedding.squeeze()\n",
    "        item_embedding = item_embedding.squeeze()\n",
    "\n",
    "        #user_bias = self.user_biases(user_ids).squeeze()\n",
    "        #item_bias = self.item_biases(item_ids).squeeze()\n",
    "\n",
    "        dot = (user_embedding * item_embedding).sum(1)\n",
    "\n",
    "        return dot #+ user_bias + item_bias"
   ]
  },
  {
   "cell_type": "code",
   "execution_count": 102,
   "metadata": {},
   "outputs": [],
   "source": []
  },
  {
   "cell_type": "code",
   "execution_count": 111,
   "metadata": {},
   "outputs": [
    {
     "name": "stdout",
     "output_type": "stream",
     "text": [
      "3214.147\n"
     ]
    }
   ],
   "source": []
  },
  {
   "cell_type": "code",
   "execution_count": 115,
   "metadata": {},
   "outputs": [
    {
     "name": "stdout",
     "output_type": "stream",
     "text": [
      "3214.147\n"
     ]
    }
   ],
   "source": [
    "print(rmse)"
   ]
  },
  {
   "cell_type": "markdown",
   "metadata": {},
   "source": [
    "## Bayesian MF - one layer\n",
    "Set hyperpriors to a constant value for simplicity."
   ]
  },
  {
   "cell_type": "code",
   "execution_count": 120,
   "metadata": {},
   "outputs": [
    {
     "name": "stdout",
     "output_type": "stream",
     "text": [
      "0.20557135\n"
     ]
    }
   ],
   "source": [
    "network = BilinearNet(num_users = ds.num_users,\n",
    "           num_items = ds.num_items,\n",
    "           embedding_dim = d)\n",
    "\n",
    "model = ExplicitFactorizationModel(n_iter=3, embedding_dim=d, representation=network)\n",
    "model.fit(train)\n",
    "\n",
    "rmse = rmse_score(model, test)\n",
    "print(rmse)"
   ]
  },
  {
   "cell_type": "code",
   "execution_count": 121,
   "metadata": {},
   "outputs": [],
   "source": [
    "# set priors \n",
    "# Set hyperparameters as fixed:\n",
    "mu_U = mu_V = torch.zeros((d,1))\n",
    "lambda_U = lambda_V = torch.eye(d)*10\n",
    "invLambda_V = invLambda_U = lambda_U.inverse()\n",
    "alpha = 0.1"
   ]
  },
  {
   "cell_type": "code",
   "execution_count": 122,
   "metadata": {},
   "outputs": [],
   "source": [
    "# Initialize vectors\n",
    "#U = torch.randn((ds.num_users,d))/100\n",
    "#V = torch.randn((ds.num_items,d))/100\n",
    "#model = ExplicitFactorizationModel(n_iter=1, embedding_dim=d)\n",
    "#model.fit(train)\n",
    "U = model._net.user_embeddings.weight.data\n",
    "V = model._net.item_embeddings.weight.data\n",
    "\n",
    "# Update a user vector of user i\n",
    "#P( U_i | R, V, mu_U, lambda_U, alpha) (11)\n",
    "\n",
    "def get_user_moments(userIdx, V, lambda_U, invLambda_V, alpha, ds):\n",
    "    \"\"\"\n",
    "    Calculates equation 12 and 13\n",
    "    \"\"\"\n",
    "    data_idx = ds.user_ids==userIdx\n",
    "    r = ds.ratings[data_idx]\n",
    "    item_idx = ds.item_ids[data_idx]\n",
    "    V_j = V[item_idx]\n",
    "    \n",
    "    # get precision vec\n",
    "    lambda_istar =  lambda_U + alpha*(V_j.unsqueeze(2)*V_j.unsqueeze(1)).sum(0)\n",
    "    covar = lambda_istar.inverse()\n",
    "    \n",
    "    # Get mean vector\n",
    "    ratings = (V_j*U[userIdx,])\n",
    "    pvec = alpha*(V_j*ratings).sum(0).unsqueeze(-1) + lambda_U.mm(mu_U)\n",
    "    mu_istar = covar.mm(pvec)\n",
    "    return mu_istar, lambda_istar\n",
    "\n",
    "def get_item_moments(itemIdx, U, lambda_V, invLambda_U, alpha, ds):\n",
    "    data_idx = ds.item_ids==itemIdx\n",
    "    r = ds.ratings[data_idx]\n",
    "    user_idx = ds.user_ids[data_idx]\n",
    "    U_j = U[user_idx]\n",
    "    \n",
    "    lambda_istar =  lambda_V + alpha*(U_j.unsqueeze(2)*U_j.unsqueeze(1)).sum(0)\n",
    "    covar = lambda_istar.inverse()\n",
    "    # Get mean vector\n",
    "    ratings = (U_j*V[itemIdx,])\n",
    "    pvec = alpha*(U_j*ratings).sum(0).unsqueeze(-1) + lambda_V.mm(mu_V)\n",
    "    mu_istar = covar.mm(pvec)\n",
    "    return mu_istar, lambda_istar"
   ]
  },
  {
   "cell_type": "code",
   "execution_count": 123,
   "metadata": {},
   "outputs": [
    {
     "name": "stdout",
     "output_type": "stream",
     "text": [
      " step: 0 \t rmse: 0.7834973335266113 \t user size 0.09343194216489792 \t item size 0.09816313534975052\n",
      " step: 1 \t rmse: 0.7942079305648804 \t user size 0.09356163442134857 \t item size 0.09625588357448578\n",
      " step: 2 \t rmse: 0.7949645519256592 \t user size 0.09081415086984634 \t item size 0.09730895608663559\n",
      " step: 3 \t rmse: 0.7922292351722717 \t user size 0.09400449693202972 \t item size 0.0950855240225792\n",
      " step: 4 \t rmse: 0.7919198870658875 \t user size 0.0919126346707344 \t item size 0.09541264921426773\n",
      " step: 5 \t rmse: 0.7918428778648376 \t user size 0.09162883460521698 \t item size 0.09581952542066574\n",
      " step: 6 \t rmse: 0.7909765243530273 \t user size 0.09232033044099808 \t item size 0.09728484600782394\n",
      " step: 7 \t rmse: 0.7928699851036072 \t user size 0.09243365377187729 \t item size 0.0960916131734848\n",
      " step: 8 \t rmse: 0.7918943762779236 \t user size 0.0916334018111229 \t item size 0.09487642347812653\n",
      " step: 9 \t rmse: 0.7913197875022888 \t user size 0.09024614095687866 \t item size 0.09740480780601501\n",
      " step: 10 \t rmse: 0.7934567928314209 \t user size 0.09347570687532425 \t item size 0.09622659534215927\n",
      " step: 11 \t rmse: 0.7900885343551636 \t user size 0.09029540419578552 \t item size 0.09649992734193802\n",
      " step: 12 \t rmse: 0.7919209003448486 \t user size 0.09271697700023651 \t item size 0.0962468683719635\n",
      " step: 13 \t rmse: 0.7932929396629333 \t user size 0.09395009279251099 \t item size 0.0955108180642128\n",
      " step: 14 \t rmse: 0.7919827699661255 \t user size 0.09143774956464767 \t item size 0.09419888257980347\n",
      " step: 15 \t rmse: 0.7886253595352173 \t user size 0.09156931936740875 \t item size 0.09594596922397614\n",
      " step: 16 \t rmse: 0.7885212302207947 \t user size 0.09245331585407257 \t item size 0.09388943016529083\n",
      " step: 17 \t rmse: 0.792593777179718 \t user size 0.09246445447206497 \t item size 0.09591738134622574\n",
      " step: 18 \t rmse: 0.7935705780982971 \t user size 0.09118017554283142 \t item size 0.09815361350774765\n",
      " step: 19 \t rmse: 0.7924812436103821 \t user size 0.09341415762901306 \t item size 0.09776893258094788\n"
     ]
    }
   ],
   "source": [
    "for t in range(20):\n",
    "    # SAMPLE ITEMS\n",
    "    for i in range(1, ds.num_items):\n",
    "        mu, covar = get_item_moments(i, U, lambda_V, invLambda_U, alpha, ds)\n",
    "        mulvarNormal = torch.distributions.MultivariateNormal(mu.view(-1), precision_matrix=covar)\n",
    "        V[i,] = mulvarNormal.sample()\n",
    "\n",
    "    # SAMPLE USERS\n",
    "    for i in range(1, ds.num_users):\n",
    "        mu, covar = get_user_moments(i, V, lambda_U, invLambda_V, alpha, ds)\n",
    "        mulvarNormal = torch.distributions.MultivariateNormal(mu.view(-1), precision_matrix=covar)\n",
    "        U[i,] = mulvarNormal.sample()\n",
    "        \n",
    "        \n",
    "    rmse = rmse_score(model, test)\n",
    "    print(f\" step: {t} \\t rmse: {rmse} \\t user size {torch.mean(U**2)} \\t item size {torch.mean(V**2)}\")"
   ]
  },
  {
   "cell_type": "code",
   "execution_count": null,
   "metadata": {},
   "outputs": [],
   "source": []
  }
 ],
 "metadata": {
  "kernelspec": {
   "display_name": "Python 3",
   "language": "python",
   "name": "python3"
  },
  "language_info": {
   "codemirror_mode": {
    "name": "ipython",
    "version": 3
   },
   "file_extension": ".py",
   "mimetype": "text/x-python",
   "name": "python",
   "nbconvert_exporter": "python",
   "pygments_lexer": "ipython3",
   "version": "3.7.1"
  }
 },
 "nbformat": 4,
 "nbformat_minor": 2
}
