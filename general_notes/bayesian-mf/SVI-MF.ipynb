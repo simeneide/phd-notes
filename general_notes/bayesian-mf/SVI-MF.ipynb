{
 "cells": [
  {
   "cell_type": "code",
   "execution_count": 1,
   "metadata": {},
   "outputs": [],
   "source": [
    "import pyro\n",
    "import spotlight\n",
    "import pandas as pd\n",
    "import seaborn\n",
    "from spotlight.cross_validation import random_train_test_split\n",
    "from spotlight.datasets.movielens import get_movielens_dataset\n",
    "from spotlight.evaluation import rmse_score\n",
    "from spotlight.factorization.explicit import ExplicitFactorizationModel\n",
    "import torch\n",
    "\n",
    "import numpy as np\n",
    "import matplotlib.pyplot as plt\n",
    "import math\n",
    "import os\n",
    "import torch\n",
    "import torch.distributions.constraints as constraints\n",
    "import pyro\n",
    "from pyro.optim import Adam\n",
    "from pyro.infer import SVI, Trace_ELBO\n",
    "import pyro.distributions as dist\n",
    "from pyro import plate\n",
    "import matplotlib.pyplot as plt\n",
    "\n",
    "\n",
    "from torch import nn\n",
    "class SVI_recommender(nn.Module):\n",
    "    def __init__(self, U, V):\n",
    "        super(SVI_recommender, self).__init__()\n",
    "        self.U = U\n",
    "        self.V = V\n",
    "\n",
    "    def predict(self, user_ids, item_ids):\n",
    "        uservec = self.U[user_ids]\n",
    "        itemvec = self.V[item_ids]\n",
    "        preds = (uservec * itemvec).sum(1)\n",
    "        return preds.numpy()\n",
    "d = 5"
   ]
  },
  {
   "cell_type": "code",
   "execution_count": 2,
   "metadata": {},
   "outputs": [
    {
     "name": "stderr",
     "output_type": "stream",
     "text": [
      "/usr/local/lib/python3.7/site-packages/scipy/stats/stats.py:1713: FutureWarning: Using a non-tuple sequence for multidimensional indexing is deprecated; use `arr[tuple(seq)]` instead of `arr[seq]`. In the future this will be interpreted as an array index, `arr[np.array(seq)]`, which will result either in an error or a different result.\n",
      "  return np.add.reduce(sorted[indexer] * weights, axis=axis) / sumval\n"
     ]
    },
    {
     "name": "stdout",
     "output_type": "stream",
     "text": [
      "Total length of dataset 100000\n",
      "num users: 944, num items: 1683\n"
     ]
    },
    {
     "data": {
      "image/png": "[encoded data removed]",
      "text/plain": [
       "<Figure size 432x288 with 1 Axes>"
      ]
     },
     "metadata": {
      "needs_background": "light"
     },
     "output_type": "display_data"
    }
   ],
   "source": [
    "ds = get_movielens_dataset(variant='100K')\n",
    "\n",
    "items = pd.read_csv(\"movies.dat\", delimiter=\"::\", header=None, engine = \"python\")\n",
    "items.columns = ['itemId', 'name','genre']\n",
    "ind2item = {row.itemId : row.name for row in items.itertuples()}\n",
    "\n",
    "train, test = random_train_test_split(ds)\n",
    "\n",
    "_ =seaborn.distplot(ds.ratings)\n",
    "print(f\"Total length of dataset {len(ds.ratings)}\")\n",
    "print(f\"num users: {ds.num_users}, num items: {ds.num_items}\")"
   ]
  },
  {
   "cell_type": "markdown",
   "metadata": {},
   "source": [
    "## pyro implementation"
   ]
  },
  {
   "cell_type": "code",
   "execution_count": 3,
   "metadata": {},
   "outputs": [],
   "source": [
    "pyro.clear_param_store()\n",
    "def model(dat):\n",
    "    mu0 = torch.zeros(d)\n",
    "    var0 = torch.diag(torch.ones(d))*0.2\n",
    "\n",
    "    muU = pyro.sample(\"muU\", dist.MultivariateNormal(loc = mu0, covariance_matrix= var0))\n",
    "    muV = pyro.sample(\"muV\", dist.MultivariateNormal(loc = mu0, covariance_matrix= var0))\n",
    "    varU = varV = var0\n",
    "    obsvar = pyro.sample(\"obsvar\", dist.Exponential(rate= 10.0))\n",
    "    \n",
    "    with plate(\"user_loop\", dat.num_users) as i:\n",
    "        U = pyro.sample(f\"u_\", dist.MultivariateNormal(muU, varU))\n",
    "        \n",
    "    with plate(\"item_loop\", dat.num_items) as i:\n",
    "        V = pyro.sample(f\"i_\", dist.MultivariateNormal(muV, varV))\n",
    "    \n",
    "    \n",
    "    with plate(\"data_loop\", size = len(dat.ratings)) as k:\n",
    "        u = U[dat.user_ids[k]]\n",
    "        v = V[dat.item_ids[k]]\n",
    "        score = u.mul(v).sum(1)\n",
    "        r = torch.tensor(dat.ratings[k])\n",
    "        pyro.sample(f\"obs\", dist.Normal(loc = score, scale = 1.0), obs=r)"
   ]
  },
  {
   "cell_type": "code",
   "execution_count": 4,
   "metadata": {},
   "outputs": [],
   "source": [
    "def guide(dat):\n",
    "    obsvar_rate = pyro.param(\"obsvar_rate\", torch.tensor(10.0), constraint = constraints.positive)\n",
    "    obsvar = pyro.sample(\"obsvar\", dist.Exponential(obsvar_rate))\n",
    "    \n",
    "    varU = pyro.param(\"varU\", torch.ones(d), constraint = constraints.positive)\n",
    "    covarU = torch.diag(varU)\n",
    "    varV = pyro.param(\"varV\", torch.ones(d), constraint = constraints.positive)\n",
    "    covarV = torch.diag(varV)\n",
    "    \n",
    "    muUpar = pyro.param(\"muUpar\", torch.rand(d)-0.5)\n",
    "    muVpar = pyro.param(\"muVpar\", torch.rand(d)-0.5)\n",
    "\n",
    "    # Global vars:\n",
    "    muU = pyro.sample(\"muU\", dist.MultivariateNormal(loc = muUpar, covariance_matrix= covarU))\n",
    "    muV = pyro.sample(\"muV\", dist.MultivariateNormal(loc = muVpar, covariance_matrix= covarV))\n",
    "\n",
    "    ## user latent vectors\n",
    "    U = pyro.param(\"user_mat\", torch.rand(dat.num_items, d)-0.5)\n",
    "    V = pyro.param(\"item_mat\", torch.rand(dat.num_items, d)-0.5)\n",
    "\n",
    "    with plate(\"user_loop\", dat.num_users) as i:\n",
    "        U = pyro.sample(f\"u_\", dist.MultivariateNormal(U[i,], covarU))\n",
    "        \n",
    "\n",
    "    ## item latent vectors\n",
    "    with plate(\"item_loop\", dat.num_items) as i:\n",
    "        U = pyro.sample(f\"i_\", dist.MultivariateNormal(V[i,], covarV))\n",
    "\n"
   ]
  },
  {
   "cell_type": "code",
   "execution_count": 5,
   "metadata": {},
   "outputs": [
    {
     "name": "stdout",
     "output_type": "stream",
     "text": [
      "step: 0 \t loss: 888351 \t test-rmse: 3.70\n",
      "step: 10 \t loss: 722021 \t test-rmse: 3.70\n",
      "step: 20 \t loss: 667124 \t test-rmse: 3.67\n",
      "step: 30 \t loss: 591683 \t test-rmse: 3.42\n",
      "step: 40 \t loss: 339908 \t test-rmse: 2.12\n",
      "step: 50 \t loss: 223459 \t test-rmse: 1.20\n",
      "step: 60 \t loss: 173546 \t test-rmse: 1.03\n",
      "step: 70 \t loss: 168148 \t test-rmse: 1.11\n",
      "step: 80 \t loss: 150370 \t test-rmse: 0.99\n",
      "step: 90 \t loss: 141328 \t test-rmse: 0.98\n",
      "step: 100 \t loss: 135888 \t test-rmse: 0.98\n",
      "step: 110 \t loss: 132743 \t test-rmse: 0.98\n",
      "step: 120 \t loss: 131327 \t test-rmse: 0.97\n",
      "step: 130 \t loss: 132299 \t test-rmse: 0.97\n",
      "step: 140 \t loss: 129682 \t test-rmse: 0.97\n",
      "step: 150 \t loss: 128180 \t test-rmse: 0.96\n",
      "step: 160 \t loss: 125140 \t test-rmse: 0.96\n",
      "step: 170 \t loss: 125685 \t test-rmse: 0.96\n",
      "step: 180 \t loss: 123702 \t test-rmse: 0.96\n",
      "step: 190 \t loss: 124601 \t test-rmse: 0.96\n",
      "step: 200 \t loss: 124216 \t test-rmse: 0.96\n",
      "step: 210 \t loss: 124529 \t test-rmse: 0.95\n",
      "step: 220 \t loss: 121613 \t test-rmse: 0.95\n",
      "step: 230 \t loss: 121483 \t test-rmse: 0.95\n",
      "step: 240 \t loss: 123245 \t test-rmse: 0.95\n",
      "step: 250 \t loss: 121803 \t test-rmse: 0.94\n",
      "step: 260 \t loss: 122131 \t test-rmse: 0.94\n",
      "step: 270 \t loss: 121365 \t test-rmse: 0.94\n",
      "step: 280 \t loss: 122864 \t test-rmse: 0.94\n",
      "step: 290 \t loss: 121034 \t test-rmse: 0.94\n",
      "step: 300 \t loss: 120419 \t test-rmse: 0.93\n",
      "step: 310 \t loss: 120055 \t test-rmse: 0.93\n",
      "step: 320 \t loss: 119007 \t test-rmse: 0.93\n",
      "step: 330 \t loss: 119533 \t test-rmse: 0.93\n",
      "step: 340 \t loss: 119028 \t test-rmse: 0.93\n",
      "step: 350 \t loss: 118804 \t test-rmse: 0.92\n",
      "step: 360 \t loss: 118125 \t test-rmse: 0.93\n",
      "step: 370 \t loss: 118754 \t test-rmse: 0.93\n",
      "step: 380 \t loss: 118909 \t test-rmse: 0.93\n",
      "step: 390 \t loss: 118728 \t test-rmse: 0.92\n",
      "step: 400 \t loss: 118107 \t test-rmse: 0.92\n",
      "step: 410 \t loss: 118051 \t test-rmse: 0.92\n",
      "step: 420 \t loss: 118587 \t test-rmse: 0.93\n",
      "step: 430 \t loss: 117818 \t test-rmse: 0.92\n",
      "step: 440 \t loss: 118119 \t test-rmse: 0.92\n",
      "step: 450 \t loss: 118023 \t test-rmse: 0.92\n",
      "step: 460 \t loss: 118219 \t test-rmse: 0.92\n",
      "step: 470 \t loss: 119502 \t test-rmse: 0.92\n",
      "step: 480 \t loss: 117976 \t test-rmse: 0.92\n",
      "step: 490 \t loss: 118281 \t test-rmse: 0.92\n",
      "CPU times: user 1min 44s, sys: 2.35 s, total: 1min 47s\n",
      "Wall time: 1min 47s\n"
     ]
    }
   ],
   "source": [
    "%%time\n",
    "n_steps = 500\n",
    "pyro.clear_param_store()\n",
    "\n",
    "# set up the optimizer\n",
    "adam_params = {\"lr\": 0.05}\n",
    "optimizer = Adam(adam_params)\n",
    "\n",
    "# setup the inference algorithm\n",
    "svi = SVI(model, guide, optimizer, loss=Trace_ELBO())\n",
    "svi.step(train)\n",
    "\n",
    "# do gradient steps\n",
    "for step in range(n_steps):\n",
    "    loss = svi.step(train)\n",
    "\n",
    "    if step%10== 0:\n",
    "        # RMSE\n",
    "        svimodel = SVI_recommender(U = pyro.param(\"user_mat\").detach(), \n",
    "                   V = pyro.param(\"item_mat\").detach())\n",
    "        rmse_test = rmse_score(svimodel, test)\n",
    "        print(f\"step: {step} \\t loss: {loss:.0f} \\t test-rmse: {rmse_test:.2f}\")"
   ]
  },
  {
   "cell_type": "code",
   "execution_count": null,
   "metadata": {},
   "outputs": [],
   "source": []
  }
 ],
 "metadata": {
  "kernelspec": {
   "display_name": "Python 3",
   "language": "python",
   "name": "python3"
  },
  "language_info": {
   "codemirror_mode": {
    "name": "ipython",
    "version": 3
   },
   "file_extension": ".py",
   "mimetype": "text/x-python",
   "name": "python",
   "nbconvert_exporter": "python",
   "pygments_lexer": "ipython3",
   "version": "3.7.1"
  }
 },
 "nbformat": 4,
 "nbformat_minor": 2
}
