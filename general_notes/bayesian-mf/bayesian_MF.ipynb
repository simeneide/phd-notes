{
 "cells": [
  {
   "cell_type": "markdown",
   "metadata": {},
   "source": [
    "# Bayesian Probabilistic Matrix Factorization using MCMC"
   ]
  },
  {
   "cell_type": "code",
   "execution_count": 1,
   "metadata": {},
   "outputs": [],
   "source": [
    "import pyro\n",
    "import spotlight\n",
    "import pandas as pd\n",
    "import seaborn\n",
    "from spotlight.cross_validation import random_train_test_split\n",
    "from spotlight.datasets.movielens import get_movielens_dataset\n",
    "from spotlight.evaluation import rmse_score\n",
    "from spotlight.factorization.explicit import ExplicitFactorizationModel\n",
    "import torch\n",
    "\n",
    "import numpy as np\n",
    "import matplotlib.pyplot as plt\n",
    "d = 5"
   ]
  },
  {
   "cell_type": "markdown",
   "metadata": {},
   "source": [
    "## Load data"
   ]
  },
  {
   "cell_type": "code",
   "execution_count": 2,
   "metadata": {},
   "outputs": [
    {
     "name": "stderr",
     "output_type": "stream",
     "text": [
      "/usr/local/lib/python3.7/site-packages/scipy/stats/stats.py:1713: FutureWarning: Using a non-tuple sequence for multidimensional indexing is deprecated; use `arr[tuple(seq)]` instead of `arr[seq]`. In the future this will be interpreted as an array index, `arr[np.array(seq)]`, which will result either in an error or a different result.\n",
      "  return np.add.reduce(sorted[indexer] * weights, axis=axis) / sumval\n"
     ]
    },
    {
     "name": "stdout",
     "output_type": "stream",
     "text": [
      "Total length of dataset 100000\n",
      "num users: 944, num items: 1683\n"
     ]
    },
    {
     "data": {
      "image/png": "[encoded data removed]",
      "text/plain": [
       "<Figure size 432x288 with 1 Axes>"
      ]
     },
     "metadata": {
      "needs_background": "light"
     },
     "output_type": "display_data"
    }
   ],
   "source": [
    "ds = get_movielens_dataset(variant='100K')\n",
    "\n",
    "items = pd.read_csv(\"movies.dat\", delimiter=\"::\", header=None, engine = \"python\")\n",
    "items.columns = ['itemId', 'name','genre']\n",
    "ind2item = {row.itemId : row.name for row in items.itertuples()}\n",
    "\n",
    "train, test = random_train_test_split(ds)\n",
    "\n",
    "_ =seaborn.distplot(ds.ratings)\n",
    "print(f\"Total length of dataset {len(ds.ratings)}\")\n",
    "print(f\"num users: {ds.num_users}, num items: {ds.num_items}\")"
   ]
  },
  {
   "cell_type": "markdown",
   "metadata": {},
   "source": [
    "## Explicit Matrix Factorization\n",
    "Train an explicit model to kickstart the mcmc optimization.\n",
    "Using spotlight's explicit mf model to do so. The BilinearNet is a modification from the original with no bias."
   ]
  },
  {
   "cell_type": "code",
   "execution_count": 3,
   "metadata": {},
   "outputs": [],
   "source": [
    "import torch.nn as nn\n",
    "\n",
    "from spotlight.layers import ScaledEmbedding, ZeroEmbedding\n",
    "\n",
    "\n",
    "class BilinearNet(nn.Module):\n",
    "    \"\"\"\n",
    "    Bilinear factorization representation.\n",
    "    Encodes both users and items as an embedding layer; the score\n",
    "    for a user-item pair is given by the dot product of the item\n",
    "    and user latent vectors.\n",
    "    Parameters\n",
    "    ----------\n",
    "    num_users: int\n",
    "        Number of users in the model.\n",
    "    num_items: int\n",
    "        Number of items in the model.\n",
    "    embedding_dim: int, optional\n",
    "        Dimensionality of the latent representations.\n",
    "    user_embedding_layer: an embedding layer, optional\n",
    "        If supplied, will be used as the user embedding layer\n",
    "        of the network.\n",
    "    item_embedding_layer: an embedding layer, optional\n",
    "        If supplied, will be used as the item embedding layer\n",
    "        of the network.\n",
    "    sparse: boolean, optional\n",
    "        Use sparse gradients.\n",
    "    \"\"\"\n",
    "\n",
    "    def __init__(self, num_users, num_items, embedding_dim=32,\n",
    "                 user_embedding_layer=None, item_embedding_layer=None, sparse=False):\n",
    "\n",
    "        super(BilinearNet, self).__init__()\n",
    "\n",
    "        self.embedding_dim = embedding_dim\n",
    "\n",
    "        if user_embedding_layer is not None:\n",
    "            self.user_embeddings = user_embedding_layer\n",
    "        else:\n",
    "            self.user_embeddings = ScaledEmbedding(num_users, embedding_dim,\n",
    "                                                   sparse=sparse)\n",
    "\n",
    "        if item_embedding_layer is not None:\n",
    "            self.item_embeddings = item_embedding_layer\n",
    "        else:\n",
    "            self.item_embeddings = ScaledEmbedding(num_items, embedding_dim,\n",
    "                                                   sparse=sparse)\n",
    "\n",
    "        #self.user_biases = ZeroEmbedding(num_users, 1, sparse=sparse)\n",
    "        #self.item_biases = ZeroEmbedding(num_items, 1, sparse=sparse)\n",
    "\n",
    "    def forward(self, user_ids, item_ids):\n",
    "        \"\"\"\n",
    "        Compute the forward pass of the representation.\n",
    "        Parameters\n",
    "        ----------\n",
    "        user_ids: tensor\n",
    "            Tensor of user indices.\n",
    "        item_ids: tensor\n",
    "            Tensor of item indices.\n",
    "        Returns\n",
    "        -------\n",
    "        predictions: tensor\n",
    "            Tensor of predictions.\n",
    "        \"\"\"\n",
    "\n",
    "        user_embedding = self.user_embeddings(user_ids)\n",
    "        item_embedding = self.item_embeddings(item_ids)\n",
    "\n",
    "        user_embedding = user_embedding.squeeze()\n",
    "        item_embedding = item_embedding.squeeze()\n",
    "\n",
    "        #user_bias = self.user_biases(user_ids).squeeze()\n",
    "        #item_bias = self.item_biases(item_ids).squeeze()\n",
    "\n",
    "        dot = (user_embedding * item_embedding).sum(1)\n",
    "\n",
    "        return dot #+ user_bias + item_bias"
   ]
  },
  {
   "cell_type": "code",
   "execution_count": 4,
   "metadata": {},
   "outputs": [],
   "source": [
    "network = BilinearNet(num_users = ds.num_users,\n",
    "           num_items = ds.num_items,\n",
    "           embedding_dim = d)\n",
    "\n",
    "model = ExplicitFactorizationModel(n_iter=1, embedding_dim=d, representation=network)\n"
   ]
  },
  {
   "cell_type": "code",
   "execution_count": 5,
   "metadata": {},
   "outputs": [
    {
     "name": "stdout",
     "output_type": "stream",
     "text": [
      "step: 0 \t rmse train: 1.18, test: 1.23\n",
      "step: 1 \t rmse train: 0.95, test: 1.00\n",
      "step: 2 \t rmse train: 0.92, test: 0.98\n",
      "step: 3 \t rmse train: 0.91, test: 0.98\n",
      "step: 4 \t rmse train: 0.89, test: 0.97\n",
      "step: 5 \t rmse train: 0.88, test: 0.97\n",
      "step: 6 \t rmse train: 0.87, test: 0.97\n",
      "step: 7 \t rmse train: 0.85, test: 0.97\n",
      "step: 8 \t rmse train: 0.85, test: 0.97\n",
      "step: 9 \t rmse train: 0.84, test: 0.97\n",
      "step: 10 \t rmse train: 0.83, test: 0.97\n",
      "step: 11 \t rmse train: 0.83, test: 0.98\n",
      "step: 12 \t rmse train: 0.82, test: 0.97\n",
      "step: 13 \t rmse train: 0.82, test: 0.97\n",
      "step: 14 \t rmse train: 0.82, test: 0.98\n",
      "step: 15 \t rmse train: 0.82, test: 0.98\n",
      "step: 16 \t rmse train: 0.81, test: 0.98\n",
      "step: 17 \t rmse train: 0.81, test: 0.98\n",
      "step: 18 \t rmse train: 0.81, test: 0.98\n",
      "step: 19 \t rmse train: 0.81, test: 0.98\n",
      "CPU times: user 8.47 s, sys: 125 ms, total: 8.59 s\n",
      "Wall time: 8.7 s\n"
     ]
    }
   ],
   "source": [
    "%%time\n",
    "for t in range(20):\n",
    "    model.fit(train)\n",
    "    rmse_test = rmse_score(model, test)\n",
    "    rmse_train = rmse_score(model, train)\n",
    "    print(f'step: {t} \\t rmse train: {rmse_train:.2f}, test: {rmse_test:.2f}')"
   ]
  },
  {
   "cell_type": "markdown",
   "metadata": {},
   "source": [
    "## Bayesian mf MCMC"
   ]
  },
  {
   "cell_type": "code",
   "execution_count": 6,
   "metadata": {},
   "outputs": [
    {
     "data": {
      "text/plain": [
       "<module 'bayesMF' from '/Users/simeneide/Sync/finn/phd-notes/general_notes/bayesian-mf/bayesMF.py'>"
      ]
     },
     "execution_count": 6,
     "metadata": {},
     "output_type": "execute_result"
    }
   ],
   "source": [
    "import bayesMF\n",
    "from importlib import reload\n",
    "reload(bayesMF)"
   ]
  },
  {
   "cell_type": "code",
   "execution_count": 7,
   "metadata": {},
   "outputs": [
    {
     "data": {
      "text/plain": [
       "BayesianMF()"
      ]
     },
     "execution_count": 7,
     "metadata": {},
     "output_type": "execute_result"
    }
   ],
   "source": [
    "bayesmodel = bayesMF.BayesianMF(train=train, \n",
    "                        test = test,\n",
    "                        num_items=ds.num_items,\n",
    "                        num_users = ds.num_users,\n",
    "                        embedding_dim = d)\n",
    "bayesmodel"
   ]
  },
  {
   "cell_type": "code",
   "execution_count": 8,
   "metadata": {},
   "outputs": [
    {
     "name": "stdout",
     "output_type": "stream",
     "text": [
      "step: 0 \t rmse train: 3.70, test: 3.71\n",
      "step: 1 \t rmse train: 3.70, test: 3.71\n",
      "step: 2 \t rmse train: 3.70, test: 3.70\n",
      "step: 3 \t rmse train: 2.27, test: 2.31\n",
      "step: 4 \t rmse train: 0.95, test: 0.99\n",
      "step: 5 \t rmse train: 0.92, test: 0.97\n",
      "step: 6 \t rmse train: 0.92, test: 0.98\n",
      "step: 7 \t rmse train: 0.92, test: 0.97\n",
      "step: 8 \t rmse train: 0.92, test: 0.96\n",
      "step: 9 \t rmse train: 0.92, test: 0.97\n",
      "step: 10 \t rmse train: 0.92, test: 0.97\n",
      "step: 11 \t rmse train: 0.92, test: 0.97\n",
      "step: 12 \t rmse train: 0.92, test: 0.97\n",
      "step: 13 \t rmse train: 0.92, test: 0.97\n",
      "step: 14 \t rmse train: 0.92, test: 0.97\n",
      "step: 15 \t rmse train: 0.92, test: 0.97\n",
      "step: 16 \t rmse train: 0.92, test: 0.97\n",
      "step: 17 \t rmse train: 0.92, test: 0.97\n",
      "step: 18 \t rmse train: 0.92, test: 0.97\n",
      "step: 19 \t rmse train: 0.92, test: 0.96\n",
      "CPU times: user 19 s, sys: 76.8 ms, total: 19 s\n",
      "Wall time: 19.5 s\n"
     ]
    },
    {
     "data": {
      "text/plain": [
       "(tensor(0.9175), tensor(0.9644))"
      ]
     },
     "execution_count": 8,
     "metadata": {},
     "output_type": "execute_result"
    }
   ],
   "source": [
    "%%time\n",
    "bayesmodel.fit(20)"
   ]
  },
  {
   "cell_type": "markdown",
   "metadata": {},
   "source": [
    "## Analysis"
   ]
  },
  {
   "cell_type": "markdown",
   "metadata": {},
   "source": [
    "### Distribution of some random user item combinations"
   ]
  },
  {
   "cell_type": "code",
   "execution_count": 9,
   "metadata": {},
   "outputs": [
    {
     "data": {
      "image/png": "[encoded data removed]",
      "text/plain": [
       "<Figure size 432x288 with 1 Axes>"
      ]
     },
     "metadata": {
      "needs_background": "light"
     },
     "output_type": "display_data"
    }
   ],
   "source": [
    "users = np.random.randint(low=0, high=bayesmodel.num_users, size = 5)\n",
    "items = np.random.randint(0,bayesmodel.num_items, size = 5)\n",
    "for u,i in zip(users,items):\n",
    "    score, uvec, ivec = bayesmodel.posterior_score(userId=u, itemId=i)\n",
    "    _ = plt.hist(score.numpy(), alpha = 0.5)"
   ]
  },
  {
   "cell_type": "markdown",
   "metadata": {},
   "source": [
    "## Posterior score distribution in user item pairs with with lots of data vs little data\n",
    "Guess which distribution is from what pair..."
   ]
  },
  {
   "cell_type": "code",
   "execution_count": 10,
   "metadata": {},
   "outputs": [
    {
     "name": "stdout",
     "output_type": "stream",
     "text": [
      "least pop item: 442\n",
      "most pop item: 50\n",
      "least pop users: 19\n",
      "most pop users: 405\n"
     ]
    },
    {
     "data": {
      "image/png": "[encoded data removed]",
      "text/plain": [
       "<Figure size 432x288 with 1 Axes>"
      ]
     },
     "metadata": {
      "needs_background": "light"
     },
     "output_type": "display_data"
    }
   ],
   "source": [
    "items, counts = np.unique(train.item_ids, return_counts=True)\n",
    "item_min = items[counts == counts.min()][0]\n",
    "item_max = items[counts == counts.max()][0]\n",
    "print(\"least pop item: {}\".format(item_min))\n",
    "print(\"most pop item: {}\".format(item_max))\n",
    "\n",
    "users, counts = np.unique(train.user_ids, return_counts=True)\n",
    "user_min = users[counts == counts.min()][0]\n",
    "user_max = users[counts == counts.max()][0]\n",
    "print(\"least pop users: {}\".format(user_min))\n",
    "print(\"most pop users: {}\".format(user_max))\n",
    "\n",
    "score, uvec, ivec = bayesmodel.posterior_score(userId=user_min, itemId=item_min)\n",
    "_ = plt.hist(score.numpy(), alpha = 0.5)\n",
    "\n",
    "score, uvec, ivec = bayesmodel.posterior_score(userId=user_max, itemId=item_max)\n",
    "_ = plt.hist(score.numpy(), alpha = 0.5)"
   ]
  },
  {
   "cell_type": "markdown",
   "metadata": {},
   "source": [
    "#### Posterior vectors from least and most active objects\n",
    "Plot of posterior user and item vectors for the user item pairs with most and least data (guess which is which)."
   ]
  },
  {
   "cell_type": "code",
   "execution_count": 11,
   "metadata": {},
   "outputs": [
    {
     "data": {
      "image/png": "[encoded data removed]",
      "text/plain": [
       "<Figure size 432x288 with 1 Axes>"
      ]
     },
     "metadata": {
      "needs_background": "light"
     },
     "output_type": "display_data"
    }
   ],
   "source": [
    "score, uvec, ivec = bayesmodel.posterior_score(userId=user_min, itemId=item_min)\n",
    "uvec, ivec = uvec.numpy(), ivec.numpy()\n",
    "_ = plt.plot(uvec[:,0], uvec[:,1], \"o\")\n",
    "_ = plt.plot(ivec[:,0], ivec[:,1], \"o\")\n",
    "score, uvec, ivec = bayesmodel.posterior_score(userId=user_max, itemId=item_max)\n",
    "uvec, ivec = uvec.numpy(), ivec.numpy()\n",
    "_ = plt.plot(uvec[:,0], uvec[:,1], \"o\")\n",
    "_ = plt.plot(ivec[:,0], ivec[:,1], \"o\")"
   ]
  },
  {
   "cell_type": "markdown",
   "metadata": {},
   "source": [
    "## Variations in topK predictions\n",
    "Given two different users (the maximum and minimum user), how does their recommendations spread qualitatively?\n",
    "For each user we sample five different posteriors and fetch top 5 movies for each posterior sample."
   ]
  },
  {
   "cell_type": "code",
   "execution_count": 12,
   "metadata": {},
   "outputs": [
    {
     "ename": "KeyError",
     "evalue": "0",
     "output_type": "error",
     "traceback": [
      "\u001b[0;31m---------------------------------------------------------------------------\u001b[0m",
      "\u001b[0;31mKeyError\u001b[0m                                  Traceback (most recent call last)",
      "\u001b[0;32m<ipython-input-12-5aa8d63eca56>\u001b[0m in \u001b[0;36m<module>\u001b[0;34m\u001b[0m\n\u001b[1;32m      4\u001b[0m     \u001b[0mpreds\u001b[0m \u001b[0;34m=\u001b[0m \u001b[0mbayesmodel\u001b[0m\u001b[0;34m.\u001b[0m\u001b[0mpredict\u001b[0m\u001b[0;34m(\u001b[0m\u001b[0mu\u001b[0m\u001b[0;34m,\u001b[0m\u001b[0mtorch\u001b[0m\u001b[0;34m.\u001b[0m\u001b[0marange\u001b[0m\u001b[0;34m(\u001b[0m\u001b[0;36m0\u001b[0m\u001b[0;34m,\u001b[0m\u001b[0mbayesmodel\u001b[0m\u001b[0;34m.\u001b[0m\u001b[0mnum_items\u001b[0m\u001b[0;34m)\u001b[0m\u001b[0;34m)\u001b[0m\u001b[0;34m\u001b[0m\u001b[0;34m\u001b[0m\u001b[0m\n\u001b[1;32m      5\u001b[0m     \u001b[0mscores\u001b[0m\u001b[0;34m,\u001b[0m \u001b[0msorts\u001b[0m \u001b[0;34m=\u001b[0m \u001b[0mpreds\u001b[0m\u001b[0;34m.\u001b[0m\u001b[0msort\u001b[0m\u001b[0;34m(\u001b[0m\u001b[0mdescending\u001b[0m\u001b[0;34m=\u001b[0m\u001b[0;32mTrue\u001b[0m\u001b[0;34m)\u001b[0m\u001b[0;34m\u001b[0m\u001b[0;34m\u001b[0m\u001b[0m\n\u001b[0;32m----> 6\u001b[0;31m     \u001b[0mprint\u001b[0m\u001b[0;34m(\u001b[0m\u001b[0;34m\" \\t | \"\u001b[0m\u001b[0;34m.\u001b[0m\u001b[0mjoin\u001b[0m\u001b[0;34m(\u001b[0m\u001b[0;34m[\u001b[0m \u001b[0mind2item\u001b[0m\u001b[0;34m[\u001b[0m\u001b[0mint\u001b[0m\u001b[0;34m(\u001b[0m\u001b[0mi\u001b[0m\u001b[0;34m)\u001b[0m\u001b[0;34m]\u001b[0m \u001b[0;32mfor\u001b[0m \u001b[0mi\u001b[0m \u001b[0;32min\u001b[0m \u001b[0msorts\u001b[0m\u001b[0;34m[\u001b[0m\u001b[0;34m:\u001b[0m\u001b[0;36m5\u001b[0m\u001b[0;34m]\u001b[0m\u001b[0;34m]\u001b[0m\u001b[0;34m)\u001b[0m\u001b[0;34m)\u001b[0m\u001b[0;34m\u001b[0m\u001b[0;34m\u001b[0m\u001b[0m\n\u001b[0m",
      "\u001b[0;32m<ipython-input-12-5aa8d63eca56>\u001b[0m in \u001b[0;36m<listcomp>\u001b[0;34m(.0)\u001b[0m\n\u001b[1;32m      4\u001b[0m     \u001b[0mpreds\u001b[0m \u001b[0;34m=\u001b[0m \u001b[0mbayesmodel\u001b[0m\u001b[0;34m.\u001b[0m\u001b[0mpredict\u001b[0m\u001b[0;34m(\u001b[0m\u001b[0mu\u001b[0m\u001b[0;34m,\u001b[0m\u001b[0mtorch\u001b[0m\u001b[0;34m.\u001b[0m\u001b[0marange\u001b[0m\u001b[0;34m(\u001b[0m\u001b[0;36m0\u001b[0m\u001b[0;34m,\u001b[0m\u001b[0mbayesmodel\u001b[0m\u001b[0;34m.\u001b[0m\u001b[0mnum_items\u001b[0m\u001b[0;34m)\u001b[0m\u001b[0;34m)\u001b[0m\u001b[0;34m\u001b[0m\u001b[0;34m\u001b[0m\u001b[0m\n\u001b[1;32m      5\u001b[0m     \u001b[0mscores\u001b[0m\u001b[0;34m,\u001b[0m \u001b[0msorts\u001b[0m \u001b[0;34m=\u001b[0m \u001b[0mpreds\u001b[0m\u001b[0;34m.\u001b[0m\u001b[0msort\u001b[0m\u001b[0;34m(\u001b[0m\u001b[0mdescending\u001b[0m\u001b[0;34m=\u001b[0m\u001b[0;32mTrue\u001b[0m\u001b[0;34m)\u001b[0m\u001b[0;34m\u001b[0m\u001b[0;34m\u001b[0m\u001b[0m\n\u001b[0;32m----> 6\u001b[0;31m     \u001b[0mprint\u001b[0m\u001b[0;34m(\u001b[0m\u001b[0;34m\" \\t | \"\u001b[0m\u001b[0;34m.\u001b[0m\u001b[0mjoin\u001b[0m\u001b[0;34m(\u001b[0m\u001b[0;34m[\u001b[0m \u001b[0mind2item\u001b[0m\u001b[0;34m[\u001b[0m\u001b[0mint\u001b[0m\u001b[0;34m(\u001b[0m\u001b[0mi\u001b[0m\u001b[0;34m)\u001b[0m\u001b[0;34m]\u001b[0m \u001b[0;32mfor\u001b[0m \u001b[0mi\u001b[0m \u001b[0;32min\u001b[0m \u001b[0msorts\u001b[0m\u001b[0;34m[\u001b[0m\u001b[0;34m:\u001b[0m\u001b[0;36m5\u001b[0m\u001b[0;34m]\u001b[0m\u001b[0;34m]\u001b[0m\u001b[0;34m)\u001b[0m\u001b[0;34m)\u001b[0m\u001b[0;34m\u001b[0m\u001b[0;34m\u001b[0m\u001b[0m\n\u001b[0m",
      "\u001b[0;31mKeyError\u001b[0m: 0"
     ]
    }
   ],
   "source": [
    "u = user_max\n",
    "for k in range(5):\n",
    "    bayesmodel.step_mcmc()\n",
    "    preds = bayesmodel.predict(u,torch.arange(0,bayesmodel.num_items))\n",
    "    scores, sorts = preds.sort(descending=True)\n",
    "    print(\" \\t | \".join([ ind2item[int(i)] for i in sorts[:5]]))"
   ]
  },
  {
   "cell_type": "code",
   "execution_count": null,
   "metadata": {},
   "outputs": [],
   "source": [
    "u = user_min\n",
    "for k in range(5):\n",
    "    bayesmodel.step_mcmc()\n",
    "    preds = bayesmodel.predict(u,torch.arange(0,bayesmodel.num_items))\n",
    "    scores, sorts = preds.sort(descending=True)\n",
    "    print(\" \\t | \".join([ ind2item[int(i)] for i in sorts[:5]]))"
   ]
  }
 ],
 "metadata": {
  "kernelspec": {
   "display_name": "Python 3",
   "language": "python",
   "name": "python3"
  },
  "language_info": {
   "codemirror_mode": {
    "name": "ipython",
    "version": 3
   },
   "file_extension": ".py",
   "mimetype": "text/x-python",
   "name": "python",
   "nbconvert_exporter": "python",
   "pygments_lexer": "ipython3",
   "version": "3.7.1"
  }
 },
 "nbformat": 4,
 "nbformat_minor": 2
}
