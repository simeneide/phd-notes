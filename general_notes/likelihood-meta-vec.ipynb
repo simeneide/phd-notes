{
 "cells": [
  {
   "cell_type": "markdown",
   "metadata": {
    "toc-hr-collapsed": false
   },
   "source": [
    "# Meta vector model"
   ]
  },
  {
   "cell_type": "markdown",
   "metadata": {
    "toc-hr-collapsed": false
   },
   "source": [
    "## Model"
   ]
  },
  {
   "cell_type": "markdown",
   "metadata": {},
   "source": [
    "We have a dataset of covariates $ (x_u, y_i)$ and a binary response variable $C = [0,1]$.\n",
    "\n",
    "Assume that a user u has a probability $\\theta_{ui}$ to click on a particular item i.\n",
    "\n",
    "$$ \\theta_{ui} = Pr(click | data, par) = Pr(C = c | (x_u, y_i), W) = \\sigma( x_i W y_i) $$\n",
    "\n",
    "where $\\sigma(x) = \\frac{exp(x)}{1+exp(x)}$ is the logit transform, and $W \\in \\Re^{d* d}$ is the model's parameters."
   ]
  },
  {
   "cell_type": "markdown",
   "metadata": {},
   "source": [
    "## Likelihood function\n",
    "\n",
    "The likelihood of one observations is $ P(c_k | W) =  \\theta_k^{c_k} (1-\\theta_k) ^{1-c_k} $.\n",
    "Assuming that each observation is independent, the log likelihood can be written as\n",
    "\n",
    "$$ loglik = \\sum_{i=1}^{n}  c_k ln(\\theta_k) + (1-w_k)ln(1-\\theta_k) $$\n",
    "\n",
    "where $\\theta_k = \\theta_{u,i} = \\sigma( x_i W y_i)$.\n",
    "\n",
    "## Restrictions:\n",
    "- $|Wy_i| = 1$ or $|x_i W| = 1$ in order for normalized dot product to work in production.\n",
    "\n",
    "## Prior\n",
    "We know from before that the product $x_u^T y_i$ is correlated with relevance. \n",
    "Therefore, it is natural to put a prior of 1 on the diagonal and 0 elsewhere.\n",
    "For simplicity, assume all entries in $W$ are independent.\n",
    "\n",
    "$$P(w_{ij}) = N( 1_{i=j}, \\sigma_0)$$\n",
    "\n",
    "where $\\sigma_0$ is some constant. e.g. $\\sigma_0 = 1$"
   ]
  },
  {
   "cell_type": "markdown",
   "metadata": {},
   "source": [
    "## Posterior\n",
    "\n",
    "$$ lnP(W | data) = loglik + \\sum_{i = 0}^d \\sum_{j = i}^d lnP(w_{ij})$$"
   ]
  },
  {
   "cell_type": "code",
   "execution_count": null,
   "metadata": {},
   "outputs": [],
   "source": []
  }
 ],
 "metadata": {
  "kernelspec": {
   "display_name": "Python 3",
   "language": "python",
   "name": "python3"
  },
  "language_info": {
   "codemirror_mode": {
    "name": "ipython",
    "version": 3
   },
   "file_extension": ".py",
   "mimetype": "text/x-python",
   "name": "python",
   "nbconvert_exporter": "python",
   "pygments_lexer": "ipython3",
   "version": "3.7.0"
  },
  "toc-showcode": true,
  "toc-showtags": false
 },
 "nbformat": 4,
 "nbformat_minor": 2
}
