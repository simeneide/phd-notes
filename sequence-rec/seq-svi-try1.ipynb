{
 "cells": [
  {
   "cell_type": "code",
   "execution_count": null,
   "metadata": {},
   "outputs": [],
   "source": [
    "!pip3 install pyro-ppl"
   ]
  },
  {
   "cell_type": "code",
   "execution_count": 2,
   "metadata": {},
   "outputs": [
    {
     "name": "stdout",
     "output_type": "stream",
     "text": [
      "START load data\n",
      "Loaded train set\n",
      "\tEvents: 9999\n",
      "\tSessions: 2337\n",
      "\tItems: 2843\n",
      "\tSpan: 2014-04-01 / 2014-04-08\n",
      "\n",
      "Loaded test set\n",
      "\tEvents: 84\n",
      "\tSessions: 24\n",
      "\tItems: 46\n",
      "\tSpan: 2014-09-29 / 2014-09-30\n",
      "\n",
      "END load data  0.030082000000000164 c /  0.027423620223999023 s\n"
     ]
    }
   ],
   "source": [
    "from preproc import preprocess_rsc15\n",
    "dat, ind2val = preprocess_rsc15(limit_train = 10000, limit_test = 1000)"
   ]
  },
  {
   "cell_type": "code",
   "execution_count": 3,
   "metadata": {},
   "outputs": [],
   "source": [
    "# Transform into sequence interaction object\n",
    "from spotlight.interactions import Interactions, SequenceInteractions\n",
    "dat_seq = {}\n",
    "for name, df in dat.items():\n",
    "    dat_seq[name] = Interactions(user_ids=df.SessionId_idx.values,\n",
    "                item_ids=df.ItemId_idx.values,\n",
    "                timestamps=df.Time.values).to_sequence()"
   ]
  },
  {
   "cell_type": "code",
   "execution_count": 4,
   "metadata": {},
   "outputs": [],
   "source": [
    "import pyro.distributions as dist\n",
    "from pyro import plate\n",
    "from pyro.distributions import Categorical\n",
    "import pyro"
   ]
  },
  {
   "cell_type": "code",
   "execution_count": 5,
   "metadata": {},
   "outputs": [],
   "source": [
    "import torch.nn as nn\n",
    "import torch"
   ]
  },
  {
   "cell_type": "code",
   "execution_count": 6,
   "metadata": {},
   "outputs": [],
   "source": [
    "class LSTMVI(nn.Module):\n",
    "    def __init__(self, num_items, emb_dim, use_cuda = True):\n",
    "        super(LSTMVI, self).__init__()\n",
    "        self.num_items = num_items\n",
    "        self.emb_dim = emb_dim\n",
    "        \n",
    "        #self.V = pyro.param(\"item_mat\", torch.rand(num_items, emb_dim)-0.5)\n",
    "        \n",
    "        \n",
    "        ### LSTM\n",
    "        self.lstm = nn.LSTM(batch_first=True,\n",
    "                                input_size=self.emb_dim,\n",
    "                                hidden_size=self.emb_dim)\n",
    "        \n",
    "        # Need to permute before and after LSTM because LSTM's batch_first is not supported...\n",
    "        self.permute_for_lstm = lambda x: x.permute(1,0,2)\n",
    "        self.permute_back_lstm = lambda x: x.permute(1,0,2)\n",
    "        \n",
    "        ### CUDA\n",
    "        if use_cuda:\n",
    "            # calling cuda() here will put all the parameters of\n",
    "            # the encoder and decoder networks into gpu memory\n",
    "            self.cuda()\n",
    "        self.use_cuda = use_cuda\n",
    "        \n",
    "\n",
    "    \n",
    "    def model(self, x):\n",
    "        pyro.module(\"lstm\", self.lstm)\n",
    "        mu0 = torch.zeros(self.emb_dim).cuda()\n",
    "        var0 = torch.diag(torch.ones(self.emb_dim)).cuda()*1\n",
    "\n",
    "        muV = pyro.sample(\"muV\", dist.MultivariateNormal(loc = mu0, covariance_matrix= var0))\n",
    "        varU = varV = var0\n",
    "\n",
    "        with plate(\"item_loop\", self.num_items):\n",
    "            V = pyro.sample(f\"V\", dist.MultivariateNormal(muV, varV))#.cuda()\n",
    "\n",
    "        with pyro.plate(\"data\", len(x), subsample_size=50) as ind:\n",
    "            x_vecs = V[x[ind,]]\n",
    "            \n",
    "            z, _ = self.lstm(x_vecs)\n",
    "            lprob = z.matmul(V.t())\n",
    "            \n",
    "            data = pyro.sample(\"obs_x\", dist.Categorical(logits=lprob).to_event(2), obs = x[ind,])\n"
   ]
  },
  {
   "cell_type": "code",
   "execution_count": 22,
   "metadata": {},
   "outputs": [
    {
     "name": "stdout",
     "output_type": "stream",
     "text": [
      "Initializing model\n"
     ]
    }
   ],
   "source": [
    "print(\"Initializing model\")\n",
    "pyro.clear_param_store()\n",
    "seq = dat_seq['train'].sequences\n",
    "x = torch.from_numpy(seq[:500,6:]).long().cuda()\n",
    "\n",
    "net = LSTMVI(len(ind2val[\"ItemId\"]), emb_dim = 2)"
   ]
  },
  {
   "cell_type": "code",
   "execution_count": 23,
   "metadata": {},
   "outputs": [],
   "source": [
    "#seq_cuda = torch.from_numpy(seq).long().cuda()"
   ]
  },
  {
   "cell_type": "code",
   "execution_count": 24,
   "metadata": {},
   "outputs": [],
   "source": [
    "net.model(x)"
   ]
  },
  {
   "cell_type": "code",
   "execution_count": 25,
   "metadata": {},
   "outputs": [],
   "source": [
    "from pyro.infer.mcmc import MCMC, NUTS\n",
    "import pyro.optim as optim"
   ]
  },
  {
   "cell_type": "code",
   "execution_count": 35,
   "metadata": {},
   "outputs": [
    {
     "data": {
      "application/vnd.jupyter.widget-view+json": {
       "model_id": "a7e19629395142dda78ed59e10eb86ed",
       "version_major": 2,
       "version_minor": 0
      },
      "text/plain": [
       "HBox(children=(IntProgress(value=0, description='Warmup', max=102, style=ProgressStyle(description_width='init…"
      ]
     },
     "metadata": {},
     "output_type": "display_data"
    },
    {
     "name": "stdout",
     "output_type": "stream",
     "text": [
      "\n"
     ]
    }
   ],
   "source": [
    "nuts_kernel = NUTS(net.model, adapt_step_size=True)\n",
    "\n",
    "hmc_posterior = MCMC(nuts_kernel, num_samples=100, warmup_steps=2) \\\n",
    "    .run(x)"
   ]
  },
  {
   "cell_type": "markdown",
   "metadata": {},
   "source": [
    "Something is not working here. The model is only actually adjusting the weights some times... For example, only the second time the script runs in the same python session..\n",
    "\n",
    "## Test samples\n",
    "Visualize the samples for each item vector"
   ]
  },
  {
   "cell_type": "code",
   "execution_count": 39,
   "metadata": {},
   "outputs": [
    {
     "data": {
      "text/plain": [
       "(100, 1, 2843, 2)"
      ]
     },
     "execution_count": 39,
     "metadata": {},
     "output_type": "execute_result"
    }
   ],
   "source": [
    "from pyro.infer import EmpiricalMarginal, SVI, Trace_ELBO\n",
    "import matplotlib.pyplot as plt\n",
    "sites = [\"V\"]\n",
    "hmc_empirical = EmpiricalMarginal(hmc_posterior, sites=sites)._get_samples_and_weights()[0].cpu().numpy()\n"
   ]
  },
  {
   "cell_type": "code",
   "execution_count": 41,
   "metadata": {},
   "outputs": [
    {
     "data": {
      "image/png": "[encoded data removed]",
      "text/plain": [
       "<Figure size 432x288 with 1 Axes>"
      ]
     },
     "metadata": {
      "needs_background": "light"
     },
     "output_type": "display_data"
    }
   ],
   "source": [
    "for i in range(10):\n",
    "    coord = hmc_empirical.squeeze()[:,i,]\n",
    "    plt.plot(coord[:,0],coord[:,1], \"o\")\n",
    "    #plt.show()"
   ]
  },
  {
   "cell_type": "code",
   "execution_count": 45,
   "metadata": {},
   "outputs": [
    {
     "data": {
      "image/png": "[encoded data removed]",
      "text/plain": [
       "<Figure size 432x288 with 1 Axes>"
      ]
     },
     "metadata": {
      "needs_background": "light"
     },
     "output_type": "display_data"
    }
   ],
   "source": [
    "for i in range(10):\n",
    "    coord = hmc_empirical.squeeze()[:,i,][50:]\n",
    "    plt.plot(coord[:,0],coord[:,1], \"o\")\n",
    "    #plt.show()"
   ]
  },
  {
   "cell_type": "code",
   "execution_count": 42,
   "metadata": {},
   "outputs": [
    {
     "data": {
      "image/png": "[encoded data removed]",
      "text/plain": [
       "<Figure size 432x288 with 1 Axes>"
      ]
     },
     "metadata": {
      "needs_background": "light"
     },
     "output_type": "display_data"
    }
   ],
   "source": [
    "for i in range(1):\n",
    "    coord = hmc_empirical.squeeze()[:,i,]\n",
    "    plt.plot(coord[:,0],coord[:,1], \"o\")\n",
    "    #plt.show()"
   ]
  }
 ],
 "metadata": {
  "kernelspec": {
   "display_name": "Python 3",
   "language": "python",
   "name": "python3"
  },
  "language_info": {
   "codemirror_mode": {
    "name": "ipython",
    "version": 3
   },
   "file_extension": ".py",
   "mimetype": "text/x-python",
   "name": "python",
   "nbconvert_exporter": "python",
   "pygments_lexer": "ipython3",
   "version": "3.6.8"
  }
 },
 "nbformat": 4,
 "nbformat_minor": 2
}
