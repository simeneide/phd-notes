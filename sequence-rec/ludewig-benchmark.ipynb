{
 "cells": [
  {
   "cell_type": "code",
   "execution_count": 1,
   "metadata": {},
   "outputs": [
    {
     "name": "stdout",
     "output_type": "stream",
     "text": [
      "START load data\n",
      "Loaded train set\n",
      "\tEvents: 31637239\n",
      "\tSessions: 7966257\n",
      "\tItems: 37483\n",
      "\tSpan: 2014-04-01 / 2014-09-29\n",
      "\n",
      "Loaded test set\n",
      "\tEvents: 71222\n",
      "\tSessions: 15324\n",
      "\tItems: 6751\n",
      "\tSpan: 2014-09-29 / 2014-09-30\n",
      "\n",
      "END load data  15.717937 c /  15.721532344818115 s\n"
     ]
    }
   ],
   "source": [
    "from preproc import preprocess_rsc15\n",
    "dat, ind2val = preprocess_rsc15()"
   ]
  },
  {
   "cell_type": "markdown",
   "metadata": {},
   "source": [
    "## Spotlight models"
   ]
  },
  {
   "cell_type": "code",
   "execution_count": 5,
   "metadata": {},
   "outputs": [
    {
     "data": {
      "text/html": [
       "<div>\n",
       "<style scoped>\n",
       "    .dataframe tbody tr th:only-of-type {\n",
       "        vertical-align: middle;\n",
       "    }\n",
       "\n",
       "    .dataframe tbody tr th {\n",
       "        vertical-align: top;\n",
       "    }\n",
       "\n",
       "    .dataframe thead th {\n",
       "        text-align: right;\n",
       "    }\n",
       "</style>\n",
       "<table border=\"1\" class=\"dataframe\">\n",
       "  <thead>\n",
       "    <tr style=\"text-align: right;\">\n",
       "      <th></th>\n",
       "      <th>SessionId</th>\n",
       "      <th>ItemId</th>\n",
       "      <th>Time</th>\n",
       "      <th>SessionId_idx</th>\n",
       "      <th>ItemId_idx</th>\n",
       "    </tr>\n",
       "  </thead>\n",
       "  <tbody>\n",
       "    <tr>\n",
       "      <th>0</th>\n",
       "      <td>1</td>\n",
       "      <td>214536502</td>\n",
       "      <td>1.396868e+09</td>\n",
       "      <td>1</td>\n",
       "      <td>1720</td>\n",
       "    </tr>\n",
       "    <tr>\n",
       "      <th>1</th>\n",
       "      <td>1</td>\n",
       "      <td>214536500</td>\n",
       "      <td>1.396868e+09</td>\n",
       "      <td>1</td>\n",
       "      <td>1719</td>\n",
       "    </tr>\n",
       "    <tr>\n",
       "      <th>2</th>\n",
       "      <td>1</td>\n",
       "      <td>214536506</td>\n",
       "      <td>1.396868e+09</td>\n",
       "      <td>1</td>\n",
       "      <td>1721</td>\n",
       "    </tr>\n",
       "    <tr>\n",
       "      <th>3</th>\n",
       "      <td>1</td>\n",
       "      <td>214577561</td>\n",
       "      <td>1.396868e+09</td>\n",
       "      <td>1</td>\n",
       "      <td>7872</td>\n",
       "    </tr>\n",
       "    <tr>\n",
       "      <th>4</th>\n",
       "      <td>2</td>\n",
       "      <td>214662742</td>\n",
       "      <td>1.396879e+09</td>\n",
       "      <td>2</td>\n",
       "      <td>14845</td>\n",
       "    </tr>\n",
       "  </tbody>\n",
       "</table>\n",
       "</div>"
      ],
      "text/plain": [
       "   SessionId     ItemId          Time  SessionId_idx  ItemId_idx\n",
       "0          1  214536502  1.396868e+09              1        1720\n",
       "1          1  214536500  1.396868e+09              1        1719\n",
       "2          1  214536506  1.396868e+09              1        1721\n",
       "3          1  214577561  1.396868e+09              1        7872\n",
       "4          2  214662742  1.396879e+09              2       14845"
      ]
     },
     "execution_count": 5,
     "metadata": {},
     "output_type": "execute_result"
    }
   ],
   "source": [
    "dat['train'].head()"
   ]
  },
  {
   "cell_type": "code",
   "execution_count": 13,
   "metadata": {},
   "outputs": [],
   "source": [
    "# Transform into sequence interaction object\n",
    "from spotlight.interactions import Interactions, SequenceInteractions\n",
    "dat_seq = {}\n",
    "for name, df in dat.items():\n",
    "    dat_seq[name] = Interactions(user_ids=df.SessionId_idx.values,\n",
    "                item_ids=df.ItemId_idx.values,\n",
    "                timestamps=df.Time.values).to_sequence()"
   ]
  },
  {
   "cell_type": "code",
   "execution_count": null,
   "metadata": {},
   "outputs": [],
   "source": [
    "np.random.seed(2)\n",
    "idx = np.random.choice(dat_seq['test'].sequences.shape[0], size=5000, replace=False)\n",
    "smalltest = SequenceInteractions(sequences=dat_seq['test'].sequences[idx])"
   ]
  },
  {
   "cell_type": "code",
   "execution_count": 72,
   "metadata": {},
   "outputs": [
    {
     "name": "stdout",
     "output_type": "stream",
     "text": [
      "Epoch 0: loss 0.03826883341834484\n",
      "Epoch 1: loss 0.027478126867439997\n",
      "Epoch 2: loss 0.026426138140883543\n",
      "loss: pointwise, net: pooling, mrr: 0.23221806320220012\n",
      "Epoch 0: loss 0.04500080469874677\n",
      "Epoch 1: loss 0.033241427644791544\n",
      "Epoch 0: loss 0.08078527066152529\n",
      "Epoch 1: loss 0.06289324530504865\n",
      "Epoch 2: loss 0.04281303559503388\n",
      "loss: pointwise, net: lstm, mrr: 0.028338055202922312\n",
      "Epoch 0: loss 0.08575799986690696\n",
      "Epoch 1: loss 0.07207300414489477\n",
      "Epoch 2: loss 0.0675103946596535\n",
      "loss: pointwise, net: mixture, mrr: 0.004433035005343094\n",
      "Epoch 0: loss 0.038293197370767654\n",
      "Epoch 1: loss 0.027557578657817036\n",
      "Epoch 2: loss 0.026457562711702836\n",
      "loss: bpr, net: pooling, mrr: 0.22839831490281776\n",
      "Epoch 0: loss 0.04473836292980764\n",
      "Epoch 1: loss 0.03316664076560146\n",
      "Epoch 2: loss 0.031379143218974004\n",
      "loss: bpr, net: cnn, mrr: 0.19435913019648582\n",
      "Epoch 0: loss 0.07229191405199552\n",
      "Epoch 1: loss 0.04372591415695019\n",
      "Epoch 2: loss 0.03732955171989026\n",
      "loss: bpr, net: lstm, mrr: 0.045946355262809775\n",
      "Epoch 0: loss 0.08077256334930018\n",
      "Epoch 1: loss 0.06605272359616364\n",
      "Epoch 2: loss 0.06175463700839232\n",
      "loss: bpr, net: mixture, mrr: 0.00701014046743299\n",
      "Epoch 0: loss 0.0382613597047656\n",
      "Epoch 1: loss 0.027462557257684442\n",
      "Epoch 2: loss 0.026392981477296427\n",
      "loss: hinge, net: pooling, mrr: 0.2267853553447113\n",
      "Epoch 0: loss 0.045581214403101804\n",
      "Epoch 1: loss 0.03347613194494328\n",
      "Epoch 2: loss 0.03158122730789624\n",
      "loss: hinge, net: cnn, mrr: 0.1861635391131763\n",
      "Epoch 0: loss 0.0799692114262658\n",
      "Epoch 1: loss 0.051998747224515765\n",
      "Epoch 2: loss 0.038627829847053506\n",
      "loss: hinge, net: lstm, mrr: 0.0423459720540219\n",
      "Epoch 0: loss 0.08738730977938679\n",
      "Epoch 1: loss 0.07407861557296964\n",
      "Epoch 2: loss 0.06914200721264561\n",
      "loss: hinge, net: mixture, mrr: 0.007832624330443122\n",
      "Epoch 0: loss 0.038290933608006394\n",
      "Epoch 1: loss 0.027472115503161487\n",
      "Epoch 2: loss 0.026407296707010492\n",
      "loss: adaptive_hinge, net: pooling, mrr: 0.22219764989562787\n",
      "Epoch 0: loss 0.045319577827848456\n",
      "Epoch 1: loss 0.03327756158185899\n",
      "Epoch 2: loss 0.03150083514223596\n",
      "loss: adaptive_hinge, net: cnn, mrr: 0.2027680189520723\n",
      "Epoch 0: loss 0.07198733294585419\n",
      "Epoch 1: loss 0.04327809007723468\n",
      "Epoch 2: loss 0.03669980886260977\n",
      "loss: adaptive_hinge, net: lstm, mrr: 0.06864232604173942\n",
      "Epoch 1: loss 0.06691258535156222\n",
      "Epoch 2: loss 0.062396690975918184\n",
      "loss: adaptive_hinge, net: mixture, mrr: 0.005922217696706533\n"
     ]
    }
   ],
   "source": [
    "from spotlight.sequence.implicit import ImplicitSequenceModel\n",
    "from spotlight.evaluation import sequence_mrr_score, sequence_precision_recall_score\n",
    "\n",
    "losses = ['pointwise', 'bpr', 'hinge', 'adaptive_hinge']\n",
    "reps = ['pooling', 'cnn', 'lstm', 'mixture']\n",
    "\n",
    "for l in losses:\n",
    "    for net in reps:\n",
    "        model = ImplicitSequenceModel(n_iter=3,\n",
    "                                      representation=net,\n",
    "                                      loss='bpr',\n",
    "                                      use_cuda=True)\n",
    "        model.fit(dat_seq['train'], verbose = True)\n",
    "\n",
    "        mrr_test = sequence_mrr_score(model,smalltest)\n",
    "        print(f\"loss: {l}, net: {net}, mrr: {mrr_test.mean()}\")"
   ]
  },
  {
   "cell_type": "code",
   "execution_count": 22,
   "metadata": {},
   "outputs": [
    {
     "data": {
      "text/plain": [
       "0.18466458649339706"
      ]
     },
     "execution_count": 22,
     "metadata": {},
     "output_type": "execute_result"
    }
   ],
   "source": [
    "mrr_test.mean()"
   ]
  },
  {
   "cell_type": "code",
   "execution_count": null,
   "metadata": {},
   "outputs": [],
   "source": [
    "11"
   ]
  },
  {
   "cell_type": "code",
   "execution_count": null,
   "metadata": {},
   "outputs": [],
   "source": [
    "1"
   ]
  },
  {
   "cell_type": "code",
   "execution_count": null,
   "metadata": {},
   "outputs": [],
   "source": []
  }
 ],
 "metadata": {
  "kernelspec": {
   "display_name": "Python 3",
   "language": "python",
   "name": "python3"
  },
  "language_info": {
   "codemirror_mode": {
    "name": "ipython",
    "version": 3
   },
   "file_extension": ".py",
   "mimetype": "text/x-python",
   "name": "python",
   "nbconvert_exporter": "python",
   "pygments_lexer": "ipython3",
   "version": "3.6.8"
  }
 },
 "nbformat": 4,
 "nbformat_minor": 2
}
