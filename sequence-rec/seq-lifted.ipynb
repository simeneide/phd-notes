{
 "cells": [
  {
   "cell_type": "code",
   "execution_count": 1,
   "metadata": {},
   "outputs": [],
   "source": [
    "#!sudo pip3 install pyro-ppl -q\n",
    "import pyro.distributions as dist\n",
    "from pyro import plate\n",
    "from pyro.distributions import Categorical\n",
    "import pyro\n",
    "import torch.nn as nn\n",
    "import torch\n",
    "import torch.distributions.constraints as constraints\n",
    "from pyro.infer.mcmc import MCMC, NUTS\n",
    "import pyro.optim as optim\n",
    "from pyro.optim import Adam\n",
    "from pyro.infer import SVI, Trace_ELBO\n",
    "from spotlight.evaluation import sequence_mrr_score\n",
    "import matplotlib.pyplot as plt\n",
    "import numpy as np\n",
    "def get_device(device = None):\n",
    "    if device is not None:\n",
    "        return torch.device(device)\n",
    "    if torch.cuda.is_available():\n",
    "        device = torch.device(\"cuda\")\n",
    "    else:\n",
    "        device = torch.device(\"cpu\")\n",
    "    return device\n",
    "device = get_device(\"cuda\")"
   ]
  },
  {
   "cell_type": "code",
   "execution_count": 2,
   "metadata": {},
   "outputs": [
    {
     "name": "stdout",
     "output_type": "stream",
     "text": [
      "START load data\n",
      "Loaded train set\n",
      "\tEvents: 299999\n",
      "\tSessions: 72172\n",
      "\tItems: 14654\n",
      "\tSpan: 2014-04-01 / 2014-04-08\n",
      "\n",
      "Loaded test set\n",
      "\tEvents: 17294\n",
      "\tSessions: 5083\n",
      "\tItems: 3423\n",
      "\tSpan: 2014-09-29 / 2014-09-30\n",
      "\n",
      "END load data  0.40897899999999865 c /  0.4071969985961914 s\n"
     ]
    }
   ],
   "source": [
    "dataset = \"rsc\"\n",
    "if dataset == \"rsc\":\n",
    "    ##RCS DATA##\n",
    "    from preproc import preprocess_rsc15\n",
    "    dat, dat_seq , ind2val = preprocess_rsc15(density_value = None, limit_train = 300000, limit_test = None)\n",
    "        \n",
    "elif dataset == \"generated\":\n",
    "    ## GENERATED DATA ##\n",
    "    from preproc import preprocess_generated\n",
    "    dat, dat_seq, ind2val = preprocess_generated()\n",
    "\n",
    "# GENERATE A SMALLER TRAINING SET FOR METRIC TESTING\n",
    "dat_seq = {name : torch.tensor(dat_seq[name].sequences).long().to(device) for name in ['train','test']}\n",
    "dat_seq['train_small'] = dat_seq['train'][torch.randint(len(dat_seq['train']), (10000,))]"
   ]
  },
  {
   "cell_type": "code",
   "execution_count": 3,
   "metadata": {},
   "outputs": [],
   "source": [
    "class LSTMrec(nn.Module):\n",
    "    def __init__(self, num_items, emb_dim, device):\n",
    "        super(LSTMrec, self).__init__()\n",
    "        self.num_items = num_items\n",
    "        self.emb_dim = emb_dim\n",
    "        \n",
    "        ### CUDA\n",
    "        self.device = device\n",
    "        \n",
    "        # ITEM EMB\n",
    "        #self.V = pyro.param(\"Vpar\", torch.rand(self.num_items, self.emb_dim).to(self.device)-0.5)\n",
    "        self.V = nn.Embedding(embedding_dim= self.emb_dim,\n",
    "                                           num_embeddings = self.num_items)\n",
    "        #self.V = pyro.param(\"V\", V.weight)\n",
    "        \n",
    "        ### LSTM\n",
    "        self.linear = nn.Linear(1,1) #nn.ModuleList(nn.Parameter(torch.zeros((1,))))\n",
    "        self.lstm = nn.LSTM(batch_first=True,\n",
    "                                input_size=self.emb_dim,\n",
    "                                hidden_size=self.emb_dim)\n",
    "        \n",
    "        # Need to permute before and after LSTM because LSTM's batch_first is not supported...\n",
    "        self.permute_for_lstm = lambda x: x.permute(1,0,2)\n",
    "        self.permute_back_lstm = lambda x: x.permute(1,0,2)\n",
    "        \n",
    "        if device.type == \"cuda\":\n",
    "            self.cuda()    \n",
    "    def forward(self, seq):\n",
    "        \"\"\"\n",
    "        seq: a torch array with dimension (batch_size, sequence length).\n",
    "        Needs to be long() and on right device. \n",
    "        \n",
    "        Outputs log probabilities of all items. (todo: Let user specify which items to calc)\n",
    "        \"\"\"\n",
    "        x_vecs = self.V(seq)\n",
    "        z, _ = self.lstm(x_vecs)\n",
    "        \n",
    "        \n",
    "        lprob = self.linear.bias + z.matmul(self.V.weight.t())\n",
    "        return lprob\n",
    "    \n",
    "    def model(self, seq):\n",
    "        bias = dist.Normal(0,1)\n",
    "        mu0 = torch.zeros(self.emb_dim).to(self.device)\n",
    "        var0 = torch.diag(torch.ones(self.emb_dim).to(self.device)*3)\n",
    "\n",
    "        muV = pyro.sample(\"muV\", dist.MultivariateNormal(loc = mu0, covariance_matrix= var0))\n",
    "\n",
    "        with plate(\"item_loop\", self.num_items):\n",
    "            V = pyro.sample(f\"V\", dist.MultivariateNormal(muV, var0))\n",
    "\n",
    "        # LIFT MODULE:\n",
    "        prior = {'linear.bias' : bias,\n",
    "                'V.weight' : Deterministic_distr(V)}\n",
    "        lifted_module = pyro.random_module(\"net\", self, prior= prior)\n",
    "        \n",
    "\n",
    "        lifted_reg_model = lifted_module()\n",
    "        lifted_reg_model.lstm.flatten_parameters()\n",
    "\n",
    "        with pyro.plate(\"data\", len(seq), subsample_size=50) as ind:\n",
    "            batch_seq = seq[ind,]\n",
    "            batch_mask = (batch_seq!=0).float()\n",
    "\n",
    "            lprobs = lifted_reg_model(batch_seq)\n",
    "            data = pyro.sample(\"obs_x\", \n",
    "                               dist.Categorical(logits=lprobs).mask(batch_mask).to_event(2), \n",
    "                               obs = batch_seq)\n",
    "        return lifted_reg_model\n",
    "    \n",
    "    def guide(self, x):\n",
    "                           \n",
    "        bias_loc = pyro.param(\"bias_loc\", torch.tensor(0.0).to(device))\n",
    "        bias_scale = pyro.param(\"bias_scale\", torch.tensor(2.0).to(device), constraint = constraints.positive)\n",
    "        bias = dist.Normal(loc = bias_loc, scale = bias_scale)\n",
    "\n",
    "        \n",
    "        # GLOBAL V:\n",
    "        muV_mean = pyro.param(\"muV_mean\", torch.rand(self.emb_dim).to(self.device))\n",
    "        global_triV = pyro.param(\"triangVpar\", \n",
    "              torch.diag(0.5*torch.ones(self.emb_dim)).to(self.device), \n",
    "              constraint = constraints.lower_cholesky)\n",
    "        muV = pyro.sample(\"muV\", dist.MultivariateNormal(muV_mean, scale_tril=global_triV))\n",
    "        \n",
    "        ### ITEMS RVs ###\n",
    "        # Each item has a factor it multiplies L with on diagonal. Inspiration: covar = L D L^t = (L D^0.5) (L D^0.5)ˆt\n",
    "        # item_var is the D**2\n",
    "        item_var = pyro.param(\"item_var_factor\", (torch.rand(self.num_items)+0.5).to(device),\n",
    "                              constraint = constraints.positive)\n",
    "        D_V = torch.diag(torch.ones(self.emb_dim).to(device)).unsqueeze(0).repeat(len(item_var),1,1)*item_var.unsqueeze(1).unsqueeze(1)\n",
    "        triV = global_triV.matmul(D_V)\n",
    "\n",
    "        V = pyro.param(\"Vpar\", torch.rand(self.num_items, self.emb_dim).to(self.device)-0.5)\n",
    "\n",
    "        ## item latent vectors\n",
    "        with plate(\"item_loop\", self.num_items) as i:\n",
    "            V = pyro.sample(f\"V\", dist.MultivariateNormal(V[i,], scale_tril=triV[i,]))\n",
    "            \n",
    "        posterior = {'linear.bias' : bias,\n",
    "                'V.weight' : Deterministic_distr(V)}\n",
    "        \n",
    "        lifted_module = pyro.random_module(\"net\", self, prior = posterior)\n",
    "        \n",
    "        lifted_reg_model = lifted_module()\n",
    "        lifted_reg_model.lstm.flatten_parameters()\n",
    "        return lifted_reg_model\n",
    "\n",
    "    \n",
    "class Deterministic_distr(pyro.distributions.Distribution):\n",
    "    def __init__(self, V):\n",
    "        self.V = V\n",
    "    def sample(self):\n",
    "        return self.V\n",
    "    def log_prob(self,x):\n",
    "        return torch.zeros(x.size()[0])\n",
    "    "
   ]
  },
  {
   "cell_type": "code",
   "execution_count": 121,
   "metadata": {},
   "outputs": [
    {
     "data": {
      "text/plain": [
       "tensor(0.0068, device='cuda:0', grad_fn=<MinBackward1>)"
      ]
     },
     "execution_count": 121,
     "metadata": {},
     "output_type": "execute_result"
    }
   ],
   "source": [
    "pyro.param(\"item_var_factor\").min()"
   ]
  },
  {
   "cell_type": "code",
   "execution_count": 119,
   "metadata": {},
   "outputs": [
    {
     "data": {
      "text/plain": [
       "tensor([[ 1.2738,  0.8333, -0.4343,  0.2298],\n",
       "        [ 0.8333,  1.3912, -1.0175,  0.4829],\n",
       "        [-0.4343, -1.0175,  4.9211, -1.1583],\n",
       "        [ 0.2298,  0.4829, -1.1583,  1.0699]], device='cuda:0',\n",
       "       grad_fn=<MulBackward0>)"
      ]
     },
     "execution_count": 119,
     "metadata": {},
     "output_type": "execute_result"
    }
   ],
   "source": [
    "pyro.param(\"triangVpar\").matmul(pyro.param(\"triangVpar\").t())*pyro.param(\"item_var_factor\").max()**2"
   ]
  },
  {
   "cell_type": "code",
   "execution_count": 4,
   "metadata": {},
   "outputs": [],
   "source": [
    "def compute_hitrate(seq, num_recs = 20, tau = 6):\n",
    "    posterior_predictive = seqrec.guide(seq)\n",
    "    feature_seq = seq[:,:tau]\n",
    "    test_seq = seq[:,tau:]\n",
    "    \n",
    "    lprob = posterior_predictive(feature_seq)\n",
    "    topK = lprob.argsort(dim=2, descending=True)[:,-1,:num_recs]\n",
    "\n",
    "    hitrate = torch.tensor(0.0)\n",
    "    totrate = torch.tensor(0.0)\n",
    "    for i in range(len(seq)):\n",
    "        hitmatrix = topK[i].unsqueeze(1) == test_seq[i].unsqueeze(0)\n",
    "        hitrate += hitmatrix.sum()\n",
    "        totrate += (test_seq[i] != 0).sum()\n",
    "        \n",
    "    return (hitrate/totrate).item()"
   ]
  },
  {
   "cell_type": "code",
   "execution_count": 5,
   "metadata": {},
   "outputs": [],
   "source": [
    "def torch_unique_ordered(seq, K, device):\n",
    "    return torch.tensor(numpy_unique_ordered(seq.cpu().numpy())[:K]).to(device)\n",
    "\n",
    "def numpy_unique_ordered(seq):\n",
    "    \"\"\"Remove duplicate from a list while keeping order with Numpy.unique\n",
    "    Required:\n",
    "        seq: A list containing all items\n",
    "    Returns:\n",
    "        A list with only unique values. Only the first occurence is kept.\n",
    "    \"\"\"\n",
    "    array_unique = np.unique(seq, return_index=True)\n",
    "    dstack = np.dstack(array_unique)\n",
    "    dstack.dtype = np.dtype([('v', dstack.dtype), ('i', dstack.dtype)])\n",
    "    dstack.sort(order='i', axis=1)\n",
    "    return dstack.flatten()['v']#.tolist()"
   ]
  },
  {
   "cell_type": "code",
   "execution_count": 6,
   "metadata": {},
   "outputs": [],
   "source": [
    "def compute_bayesian_hitrate(seq, num_recs = 20, tau = 6, num_samples = None):\n",
    "    feature_seq = seq[:,:tau]\n",
    "    test_seq = seq[:,tau:]\n",
    "    \n",
    "    if num_samples is None:\n",
    "        num_samples = num_recs\n",
    "    # SAMPLE ALL POSTERIORS\n",
    "    topK_samples = []\n",
    "    for i in range(num_samples):\n",
    "        posterior_predictive = seqrec.guide(feature_seq)\n",
    "        pp = posterior_predictive(feature_seq)[:,-1]\n",
    "        topK = pp.argsort(dim=1, descending=True)[:,:num_recs] # swap with torch.topk\n",
    "        topK_samples.append(topK.unsqueeze(2))\n",
    "\n",
    "    all_recs = torch.cat(topK_samples,2) # dim : (batch, topK, samples)\n",
    "    # sum up across users:\n",
    "    hitrate = torch.tensor(0.0)\n",
    "    totrate = torch.tensor(0.0)\n",
    "    misrate = torch.tensor(0.0)\n",
    "    for i in range(len(seq)):\n",
    "        onerec = all_recs[i,]\n",
    "        recs = torch_unique_ordered(onerec.flatten(), K = num_recs, device = device)\n",
    "        hitmatrix = recs.unsqueeze(1) == test_seq[i].unsqueeze(0)\n",
    "        misrate += num_recs - len(recs)\n",
    "        hitrate += hitmatrix.sum()\n",
    "        totrate += (test_seq[i] != 0).sum() # all that are not the padding index count\n",
    "    if misrate > 0:\n",
    "        print(\"Found positive misrate!\")\n",
    "        print(hitrate, totrate, misrate)\n",
    "    return (hitrate/totrate).item() #, all_recs, test_seq"
   ]
  },
  {
   "cell_type": "code",
   "execution_count": 7,
   "metadata": {},
   "outputs": [
    {
     "name": "stdout",
     "output_type": "stream",
     "text": [
      "Initializing model\n"
     ]
    },
    {
     "data": {
      "text/plain": [
       "LSTMrec(\n",
       "  (V): Embedding(14655, 4)\n",
       "  (linear): Linear(in_features=1, out_features=1, bias=True)\n",
       "  (lstm): LSTM(4, 4, batch_first=True)\n",
       ")"
      ]
     },
     "execution_count": 7,
     "metadata": {},
     "output_type": "execute_result"
    }
   ],
   "source": [
    "print(\"Initializing model\")\n",
    "pyro.clear_param_store()\n",
    "seqrec = LSTMrec(len(ind2val['itemId'])+1, emb_dim = 4, device = device)\n",
    "seqrec"
   ]
  },
  {
   "cell_type": "code",
   "execution_count": 8,
   "metadata": {},
   "outputs": [
    {
     "name": "stdout",
     "output_type": "stream",
     "text": [
      "step: 0 \t loss: 138847853 \t TRAIN hitrate: freq/bayes: 0.010 / 0.002  \t TEST hitrate: freq/bayes: 0.001 / 0.000\n",
      "step: 50 \t loss: 112981715 \t TRAIN hitrate: freq/bayes: 0.042 / 0.042  \t TEST hitrate: freq/bayes: 0.004 / 0.003\n",
      "step: 100 \t loss: 77573118 \t TRAIN hitrate: freq/bayes: 0.055 / 0.058  \t TEST hitrate: freq/bayes: 0.005 / 0.006\n",
      "step: 150 \t loss: 93628561 \t TRAIN hitrate: freq/bayes: 0.062 / 0.060  \t TEST hitrate: freq/bayes: 0.007 / 0.006\n",
      "step: 250 \t loss: 88873320 \t TRAIN hitrate: freq/bayes: 0.057 / 0.060  \t TEST hitrate: freq/bayes: 0.005 / 0.005\n",
      "step: 300 \t loss: 89880137 \t TRAIN hitrate: freq/bayes: 0.064 / 0.064  \t TEST hitrate: freq/bayes: 0.009 / 0.009\n",
      "step: 350 \t loss: 64972137 \t TRAIN hitrate: freq/bayes: 0.061 / 0.062  \t TEST hitrate: freq/bayes: 0.008 / 0.007\n",
      "step: 400 \t loss: 83574982 \t TRAIN hitrate: freq/bayes: 0.066 / 0.063  \t TEST hitrate: freq/bayes: 0.009 / 0.010\n",
      "step: 450 \t loss: 90530953 \t TRAIN hitrate: freq/bayes: 0.064 / 0.063  \t TEST hitrate: freq/bayes: 0.008 / 0.009\n",
      "step: 500 \t loss: 69612765 \t TRAIN hitrate: freq/bayes: 0.066 / 0.065  \t TEST hitrate: freq/bayes: 0.008 / 0.007\n",
      "step: 550 \t loss: 78969345 \t TRAIN hitrate: freq/bayes: 0.062 / 0.061  \t TEST hitrate: freq/bayes: 0.008 / 0.008\n",
      "step: 600 \t loss: 66916570 \t TRAIN hitrate: freq/bayes: 0.066 / 0.064  \t TEST hitrate: freq/bayes: 0.007 / 0.007\n",
      "step: 650 \t loss: 71614528 \t TRAIN hitrate: freq/bayes: 0.065 / 0.063  \t TEST hitrate: freq/bayes: 0.007 / 0.006\n",
      "step: 700 \t loss: 68587803 \t TRAIN hitrate: freq/bayes: 0.067 / 0.068  \t TEST hitrate: freq/bayes: 0.007 / 0.007\n",
      "step: 750 \t loss: 72354863 \t TRAIN hitrate: freq/bayes: 0.069 / 0.068  \t TEST hitrate: freq/bayes: 0.006 / 0.007\n",
      "step: 800 \t loss: 82819010 \t TRAIN hitrate: freq/bayes: 0.056 / 0.057  \t TEST hitrate: freq/bayes: 0.005 / 0.005\n",
      "step: 850 \t loss: 64693740 \t TRAIN hitrate: freq/bayes: 0.061 / 0.063  \t TEST hitrate: freq/bayes: 0.005 / 0.005\n",
      "step: 900 \t loss: 73296834 \t TRAIN hitrate: freq/bayes: 0.062 / 0.061  \t TEST hitrate: freq/bayes: 0.007 / 0.007\n",
      "step: 950 \t loss: 90811579 \t TRAIN hitrate: freq/bayes: 0.062 / 0.059  \t TEST hitrate: freq/bayes: 0.007 / 0.008\n",
      "step: 1000 \t loss: 75607256 \t TRAIN hitrate: freq/bayes: 0.060 / 0.061  \t TEST hitrate: freq/bayes: 0.007 / 0.007\n",
      "CPU times: user 1h 18min 22s, sys: 1min 22s, total: 1h 19min 44s\n",
      "Wall time: 1h 19min 43s\n"
     ]
    }
   ],
   "source": [
    "%%time\n",
    "n_steps = 1001\n",
    "num_recs = 10\n",
    "pyro.clear_param_store()\n",
    "\n",
    "# set up the optimizer\n",
    "adam_params = {\"lr\": 0.1}\n",
    "optimizer = Adam(adam_params)\n",
    "\n",
    "# setup the inference algorithm\n",
    "svi = SVI(seqrec.model, seqrec.guide, optimizer, loss=Trace_ELBO())\n",
    "\n",
    "imgs = []\n",
    "# do gradient steps\n",
    "for step in range(n_steps):\n",
    "    loss = svi.step(dat_seq['train'])\n",
    "\n",
    "    if step%50== 0:\n",
    "        # COMPUTE ALL TYPES OF HITRATES...:\n",
    "        hitrate_train = compute_bayesian_hitrate(dat_seq['train_small'], num_recs = num_recs, num_samples=1)\n",
    "        hitrate_test = compute_bayesian_hitrate(dat_seq['test'], num_recs = num_recs, num_samples=1)\n",
    "        bayeshit_train = compute_bayesian_hitrate(dat_seq['train_small'], num_recs = num_recs, num_samples=3)\n",
    "        bayeshit_test = compute_bayesian_hitrate(dat_seq['test'], num_recs = num_recs, num_samples=3)\n",
    "        print(f\"step: {step} \\t loss: {loss:.0f} \\t TRAIN hitrate: freq/bayes: {hitrate_train:.3f} / {bayeshit_train:.3f}  \\t TEST hitrate: freq/bayes: {hitrate_test:.3f} / {bayeshit_test:.3f}\")\n"
   ]
  },
  {
   "cell_type": "markdown",
   "metadata": {},
   "source": [
    "## Plot distribution of items"
   ]
  },
  {
   "cell_type": "markdown",
   "metadata": {},
   "source": [
    "## Variability in item factor over number of events on the item"
   ]
  },
  {
   "cell_type": "markdown",
   "metadata": {},
   "source": [
    "### All items plotted"
   ]
  },
  {
   "cell_type": "code",
   "execution_count": 143,
   "metadata": {},
   "outputs": [
    {
     "name": "stdout",
     "output_type": "stream",
     "text": [
      "Item activity/uncertainty correlation: -0.10\n"
     ]
    },
    {
     "data": {
      "image/png": "[encoded data removed]",
      "text/plain": [
       "<Figure size 432x288 with 1 Axes>"
      ]
     },
     "metadata": {
      "needs_background": "light"
     },
     "output_type": "display_data"
    }
   ],
   "source": [
    "def get_counts(sequence, num):\n",
    "    ids, id_count = np.unique(sequence, return_counts=True)\n",
    "    counts = np.zeros(num)\n",
    "    counts[ids] = id_count\n",
    "    return counts\n",
    "\n",
    "#user_counts = get_counts(train.user_ids, train.num_users)#[1:]\n",
    "#user_factors = pyro.param(\"user_var_factor\").detach().cpu().numpy()#[1:]\n",
    "#print(f\"User activity/uncertainty correlation: {np.corrcoef(user_factors, user_counts)[1,0]:.2f}\")\n",
    "#_ = plt.plot(user_counts, user_factors, \"o\")\n",
    "#plt.show()\n",
    "\n",
    "item_counts = get_counts(dat_seq['train'].cpu().numpy(), 1+len(ind2val['itemId']))[1:]\n",
    "item_factors = pyro.param(\"item_var_factor\").detach().cpu().numpy()[1:]\n",
    "print(f\"Item activity/uncertainty correlation: {np.corrcoef(item_factors, item_counts)[1,0]:.2f}\")\n",
    "_ = plt.plot(item_counts, item_factors, \"o\")\n",
    "plt.show()"
   ]
  },
  {
   "cell_type": "markdown",
   "metadata": {},
   "source": [
    "### Grouped by item-count"
   ]
  },
  {
   "cell_type": "code",
   "execution_count": 154,
   "metadata": {},
   "outputs": [
    {
     "data": {
      "image/png": "[encoded data removed]",
      "text/plain": [
       "<Figure size 432x288 with 1 Axes>"
      ]
     },
     "metadata": {
      "needs_background": "light"
     },
     "output_type": "display_data"
    }
   ],
   "source": [
    "_ = plt.plot(item_counts, item_factors, \"o\")\n",
    "\n",
    "import pandas as pd\n",
    "item_variability = pd.DataFrame({'item_counts' : item_counts,\n",
    "             'item_factors' : item_factors})\n",
    "per_item_count = item_variability.groupby('item_counts')['item_factors'].median().reset_index()\n",
    "_ = plt.plot(per_item_count.item_counts, per_item_count.item_factors)\n",
    "axes = plt.gca()\n",
    "_ = axes.set_xlim([0,100])\n",
    "_ = axes.set_ylim([0,10])"
   ]
  },
  {
   "cell_type": "code",
   "execution_count": 42,
   "metadata": {},
   "outputs": [
    {
     "name": "stdout",
     "output_type": "stream",
     "text": [
      "Random items:\n"
     ]
    },
    {
     "data": {
      "image/png": "[encoded data removed]",
      "text/plain": [
       "<Figure size 432x288 with 1 Axes>"
      ]
     },
     "metadata": {
      "needs_background": "light"
     },
     "output_type": "display_data"
    },
    {
     "name": "stdout",
     "output_type": "stream",
     "text": [
      "Most and least certain item:\n"
     ]
    },
    {
     "data": {
      "image/png": "[encoded data removed]",
      "text/plain": [
       "<Figure size 432x288 with 1 Axes>"
      ]
     },
     "metadata": {
      "needs_background": "light"
     },
     "output_type": "display_data"
    }
   ],
   "source": [
    "def plot_distr_of_items(items):\n",
    "    sample_weights = []\n",
    "\n",
    "    for _ in range(100):\n",
    "        posterior_predictive = seqrec.guide(dat_seq['train_small'])\n",
    "        sample_weights.append(posterior_predictive.V.weight[items,].unsqueeze(0))\n",
    "    samples = torch.cat(sample_weights, dim = 0).cpu().detach().numpy()\n",
    "    for u in range(len(items)):\n",
    "        plt.plot(samples[:,u,0], samples[:,u,1], \"o\")\n",
    "\n",
    "print(\"Random items:\")\n",
    "items = torch.randint(low=1, high=len(ind2val['itemId']), size = (200,))\n",
    "plot_distr_of_items(items)\n",
    "plt.show()\n",
    "items = np.array([pyro.param(\"item_var_factor\").argmin().item(), pyro.param(\"item_var_factor\").argmax().item()])\n",
    "print(\"Most and least certain item:\")\n",
    "plot_distr_of_items(items)"
   ]
  },
  {
   "cell_type": "code",
   "execution_count": null,
   "metadata": {},
   "outputs": [],
   "source": []
  }
 ],
 "metadata": {
  "kernelspec": {
   "display_name": "Python 3",
   "language": "python",
   "name": "python3"
  },
  "language_info": {
   "codemirror_mode": {
    "name": "ipython",
    "version": 3
   },
   "file_extension": ".py",
   "mimetype": "text/x-python",
   "name": "python",
   "nbconvert_exporter": "python",
   "pygments_lexer": "ipython3",
   "version": "3.6.8"
  }
 },
 "nbformat": 4,
 "nbformat_minor": 2
}
