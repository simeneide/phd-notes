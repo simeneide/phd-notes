{
 "cells": [
  {
   "cell_type": "code",
   "execution_count": 1,
   "metadata": {},
   "outputs": [],
   "source": [
    "#!sudo pip3 install pyro-ppl -q\n",
    "import pyro.distributions as dist\n",
    "from pyro import plate\n",
    "from pyro.distributions import Categorical\n",
    "import pyro\n",
    "import torch.nn as nn\n",
    "import torch\n",
    "import torch.distributions.constraints as constraints\n",
    "import pyro.optim as optim\n",
    "from pyro.optim import Adam\n",
    "from pyro.infer import SVI, Trace_ELBO\n",
    "from spotlight.evaluation import sequence_mrr_score\n",
    "import matplotlib.pyplot as plt\n",
    "import numpy as np\n",
    "\n",
    "import utils\n",
    "import lstmRecTricov\n",
    "import preproc\n",
    "device = utils.get_device(\"cuda\")"
   ]
  },
  {
   "cell_type": "code",
   "execution_count": 2,
   "metadata": {},
   "outputs": [
    {
     "name": "stdout",
     "output_type": "stream",
     "text": [
      "START load data\n",
      "Loaded train set\n",
      "\tEvents: 3164513\n",
      "\tSessions: 796626\n",
      "\tItems: 31882\n",
      "\tSpan: 2014-04-01 / 2014-09-29\n",
      "\n",
      "Loaded test set\n",
      "\tEvents: 7299\n",
      "\tSessions: 1532\n",
      "\tItems: 1705\n",
      "\tSpan: 2014-09-29 / 2014-09-30\n",
      "\n",
      "END load data  1.9352889999999991 c /  1.930995225906372 s\n"
     ]
    }
   ],
   "source": [
    "dataset = \"rsc\"\n",
    "dat, dat_seq, ind2val = preproc.preprocess_data(dataset, device)"
   ]
  },
  {
   "cell_type": "markdown",
   "metadata": {},
   "source": [
    "## MODEL"
   ]
  },
  {
   "cell_type": "code",
   "execution_count": 3,
   "metadata": {},
   "outputs": [],
   "source": [
    "import pyro\n",
    "import torch.nn as nn\n",
    "import torch\n",
    "import torch.distributions.constraints as constraints\n",
    "import pyro.distributions as dist\n",
    "from pyro import plate\n",
    "from pyro.distributions import Categorical\n",
    "\n",
    "\n",
    "class LSTMrec(nn.Module):\n",
    "    def __init__(self, num_items, emb_dim, batch_size, num_negsamples, device):\n",
    "        super(LSTMrec, self).__init__()\n",
    "        self.batch_size = batch_size\n",
    "        self.num_items = num_items\n",
    "        self.emb_dim = emb_dim\n",
    "        self.num_negsamples = num_negsamples # When training, how many negative examples should be sampled\n",
    "        \n",
    "        ### CUDA\n",
    "        self.device = device\n",
    "        \n",
    "        # PRIORS\n",
    "        self.tri0 = torch.cholesky(torch.diag(torch.ones(self.emb_dim).to(self.device)*5))\n",
    "        \n",
    "        # ITEM EMB\n",
    "        self.V = nn.Embedding(embedding_dim= self.emb_dim,\n",
    "                                           num_embeddings = self.num_items)\n",
    "        \n",
    "        ### LSTM\n",
    "        self.linear = nn.Linear(1,1) #nn.ModuleList(nn.Parameter(torch.zeros((1,))))\n",
    "        self.lstm = nn.LSTM(batch_first=True,\n",
    "                                input_size=self.emb_dim,\n",
    "                                hidden_size=self.emb_dim)\n",
    "        \n",
    "        # Need to permute before and after LSTM because LSTM's batch_first is not supported...\n",
    "        self.permute_for_lstm = lambda x: x.permute(1,0,2)\n",
    "        self.permute_back_lstm = lambda x: x.permute(1,0,2)\n",
    "        \n",
    "        if device.type == \"cuda\":\n",
    "            self.cuda()    \n",
    "            \n",
    "    def predict(self, seq, bs = 50):\n",
    "        \"\"\"A minibatch version of forward\"\"\"\n",
    "        preds = []\n",
    "        for i in range(0, len(seq), bs):\n",
    "            pred_batch = self.forward(seq[i:(i+bs)])\n",
    "            preds.append(pred_batch)\n",
    "        preds = torch.cat(preds, dim = 0)\n",
    "        return preds\n",
    "    \n",
    "    def forward(self, seq, targets = None):\n",
    "        \"\"\"\n",
    "        seq: a torch array with dimension (batch_size, sequence length).\n",
    "        Needs to be long() and on right device. \n",
    "        \n",
    "        targets: (batch_size, time steps, probs)\n",
    "        Outputs log probabilities of all items. (todo: Let user specify which items to calc)\n",
    "        \"\"\"\n",
    "        seq = seq.to(self.device)\n",
    "        x_vecs = self.V(seq)\n",
    "        z, _ = self.lstm(x_vecs)\n",
    "        z = z.unsqueeze(2) # unsqueeze to get a dimension for the different items from target.\n",
    "\n",
    "        if targets is None:\n",
    "            ## DEFAULT TO CHECKING ALL ITEMS HERE.. Need to build appropriate matrix...\n",
    "            targets = torch.arange(end=self.num_items).repeat(seq.size() + (1,))\n",
    "            \n",
    "        target_vecs = self.V.weight[targets]\n",
    "\n",
    "        dot = (z * target_vecs).sum(3) # sum vectors\n",
    "        lprob = self.linear.bias + dot\n",
    "        return lprob\n",
    "    \n",
    "    def model(self, seq):\n",
    "        mu0 = torch.zeros(self.emb_dim).to(self.device)\n",
    "        tri0 = self.tri0 # create this when initializing. (takes 4ms each time!)\n",
    "\n",
    "        muV = pyro.sample(\"muV\", dist.MultivariateNormal(loc = mu0, scale_tril=tri0))\n",
    "\n",
    "        with plate(\"item_loop\", self.num_items):\n",
    "            V = pyro.sample(f\"V\", dist.MultivariateNormal(muV, scale_tril=tri0))\n",
    "\n",
    "        # LIFT MODULE:\n",
    "        prior = {'linear.bias' : dist.Normal(0,1),\n",
    "                'V.weight' : Deterministic_distr(V)}\n",
    "        with plate(\"lstm\", self.num_items):\n",
    "            lifted_module = pyro.random_module(\"net\", self, prior= prior)\n",
    "        \n",
    "\n",
    "        lifted_reg_model = lifted_module()\n",
    "        lifted_reg_model.lstm.flatten_parameters()\n",
    "\n",
    "        with pyro.plate(\"data\", len(seq), subsample_size = self.batch_size) as ind:\n",
    "            batch_seq = seq[ind,]#.to(self.device)\n",
    "            x = batch_seq[:,:-1]\n",
    "            y = batch_seq[:,1:]\n",
    "            batch_mask = (y!=0).float()\n",
    "\n",
    "            # Build positive and negative examples:\n",
    "            negs = torch.randint(high=self.num_items, size = y.size() + (self.num_negsamples,) ).to(device)\n",
    "            candidates = torch.cat((y.unsqueeze(2), negs), dim = 2)\n",
    "            lprob = lifted_reg_model(x, targets = candidates)\n",
    "            data = pyro.sample(\"obs_x\", \n",
    "                               dist.Categorical(logits=lprob).mask(batch_mask).to_event(2), \n",
    "                               obs = torch.zeros_like(y))\n",
    "        return lifted_reg_model\n",
    "    \n",
    "    def guide(self, x):\n",
    "                           \n",
    "        bias_loc = pyro.param(\"bias_loc\", torch.tensor(0.0).to(self.device))\n",
    "        bias_scale = pyro.param(\"bias_scale\", torch.tensor(2.0).to(self.device), constraint = constraints.positive)\n",
    "        bias = dist.Normal(loc = bias_loc, scale = bias_scale)\n",
    "\n",
    "        \n",
    "        # GLOBAL V:\n",
    "        muV_mean = pyro.param(\"muV_mean\", torch.rand(self.emb_dim).to(self.device))\n",
    "        global_triV = pyro.param(\"triangVpar\", \n",
    "              torch.diag(0.5*torch.ones(self.emb_dim)).to(self.device), \n",
    "              constraint = constraints.lower_cholesky)\n",
    "        muV = pyro.sample(\"muV\", dist.MultivariateNormal(muV_mean, scale_tril=global_triV))\n",
    "        \n",
    "        ### ITEMS RVs ###\n",
    "        # Each item has a factor it multiplies L with on diagonal. \n",
    "        # Inspiration: covar = L D L^t = (L D^0.5) (L D^0.5)ˆt\n",
    "        # item_var is the D**2\n",
    "        item_var = pyro.param(\"item_var_factor\", (torch.rand(self.num_items)+0.5).to(self.device),\n",
    "                              constraint = constraints.positive)\n",
    "        D_V = (\n",
    "            torch.diag(\n",
    "                torch.ones(self.emb_dim)\n",
    "                .to(self.device))\n",
    "            .unsqueeze(0)\n",
    "            .repeat(len(item_var),1,1)\n",
    "            *item_var.unsqueeze(1)\n",
    "            .unsqueeze(1)\n",
    "        )\n",
    "        triV = global_triV.matmul(D_V)\n",
    "\n",
    "        V = pyro.param(\"Vpar\", torch.rand(self.num_items, self.emb_dim).to(self.device)-0.5)\n",
    "\n",
    "        ## item latent vectors\n",
    "        with plate(\"item_loop\", self.num_items) as i: # \n",
    "            V = pyro.sample(f\"V\", dist.MultivariateNormal(V[i,], scale_tril=triV[i,]))\n",
    "            \n",
    "        posterior = {'linear.bias' : bias,\n",
    "                'V.weight' : Deterministic_distr(V)}\n",
    "        \n",
    "        lifted_module = pyro.random_module(\"net\", self, prior = posterior)\n",
    "        \n",
    "        lifted_reg_model = lifted_module()\n",
    "        lifted_reg_model.lstm.flatten_parameters()\n",
    "        return lifted_reg_model\n",
    "\n",
    "    \n",
    "class Deterministic_distr(pyro.distributions.Distribution):\n",
    "    def __init__(self, V):\n",
    "        self.V = V\n",
    "    def sample(self):\n",
    "        return self.V\n",
    "    def log_prob(self,x):\n",
    "        return torch.zeros(x.size()[0])\n",
    "    "
   ]
  },
  {
   "cell_type": "code",
   "execution_count": 4,
   "metadata": {},
   "outputs": [
    {
     "name": "stdout",
     "output_type": "stream",
     "text": [
      "Initializing model\n"
     ]
    }
   ],
   "source": [
    "## %%time\n",
    "print(\"Initializing model\")\n",
    "pyro.clear_param_store()\n",
    "\n",
    "batch_size = 900\n",
    "epochs = 1000\n",
    "num_recs = 10\n",
    "steps_per_epoch = int(len(dat_seq['train'])/batch_size)\n",
    "steps_per_epoch = int(steps_per_epoch/100)\n",
    "\n",
    "seqrec = LSTMrec(len(ind2val['itemId'])+1, emb_dim = 5, batch_size = batch_size, num_negsamples = 100, device = device)\n",
    "# set up the optimizer\n",
    "adam_params = {\"lr\": 0.1}\n",
    "optimizer = Adam(adam_params)\n",
    "\n",
    "# setup the inference algorithm\n",
    "svi = SVI(seqrec.model, seqrec.guide, optimizer, loss=Trace_ELBO())"
   ]
  },
  {
   "cell_type": "code",
   "execution_count": 5,
   "metadata": {},
   "outputs": [
    {
     "name": "stdout",
     "output_type": "stream",
     "text": [
      "Starting training 1000 epochs, each with 9 steps..\n",
      "epoch: 0 \t loss: 9377617042 \t TRAIN hitrate: freq/bayes: 0.010 / 0.014  \t TEST hitrate: freq/bayes: 0.005 / 0.002\n",
      "epoch: 1 \t loss: 8585662841 \t TRAIN hitrate: freq/bayes: 0.024 / 0.023  \t TEST hitrate: freq/bayes: 0.006 / 0.006\n",
      "epoch: 2 \t loss: 8063412513 \t TRAIN hitrate: freq/bayes: 0.025 / 0.027  \t TEST hitrate: freq/bayes: 0.004 / 0.004\n",
      "epoch: 3 \t loss: 8184325150 \t TRAIN hitrate: freq/bayes: 0.026 / 0.026  \t TEST hitrate: freq/bayes: 0.005 / 0.004\n",
      "epoch: 4 \t loss: 8115234438 \t TRAIN hitrate: freq/bayes: 0.026 / 0.027  \t TEST hitrate: freq/bayes: 0.005 / 0.007\n",
      "epoch: 5 \t loss: 7655631941 \t TRAIN hitrate: freq/bayes: 0.024 / 0.025  \t TEST hitrate: freq/bayes: 0.007 / 0.005\n",
      "epoch: 6 \t loss: 8108517755 \t TRAIN hitrate: freq/bayes: 0.029 / 0.030  \t TEST hitrate: freq/bayes: 0.006 / 0.006\n",
      "epoch: 7 \t loss: 7550488320 \t TRAIN hitrate: freq/bayes: 0.031 / 0.030  \t TEST hitrate: freq/bayes: 0.006 / 0.007\n",
      "epoch: 8 \t loss: 7439596428 \t TRAIN hitrate: freq/bayes: 0.030 / 0.030  \t TEST hitrate: freq/bayes: 0.009 / 0.008\n",
      "epoch: 9 \t loss: 7613195918 \t TRAIN hitrate: freq/bayes: 0.031 / 0.033  \t TEST hitrate: freq/bayes: 0.008 / 0.009\n",
      "epoch: 10 \t loss: 7130867289 \t TRAIN hitrate: freq/bayes: 0.034 / 0.035  \t TEST hitrate: freq/bayes: 0.008 / 0.008\n",
      "epoch: 11 \t loss: 7061490024 \t TRAIN hitrate: freq/bayes: 0.034 / 0.036  \t TEST hitrate: freq/bayes: 0.010 / 0.009\n",
      "epoch: 12 \t loss: 6939025320 \t TRAIN hitrate: freq/bayes: 0.039 / 0.040  \t TEST hitrate: freq/bayes: 0.009 / 0.010\n",
      "epoch: 13 \t loss: 7180344894 \t TRAIN hitrate: freq/bayes: 0.041 / 0.040  \t TEST hitrate: freq/bayes: 0.008 / 0.009\n",
      "epoch: 14 \t loss: 6983044092 \t TRAIN hitrate: freq/bayes: 0.040 / 0.041  \t TEST hitrate: freq/bayes: 0.012 / 0.012\n",
      "epoch: 15 \t loss: 7024809647 \t TRAIN hitrate: freq/bayes: 0.042 / 0.043  \t TEST hitrate: freq/bayes: 0.016 / 0.016\n",
      "epoch: 16 \t loss: 6479600503 \t TRAIN hitrate: freq/bayes: 0.045 / 0.045  \t TEST hitrate: freq/bayes: 0.014 / 0.015\n",
      "epoch: 17 \t loss: 6856183036 \t TRAIN hitrate: freq/bayes: 0.047 / 0.046  \t TEST hitrate: freq/bayes: 0.015 / 0.016\n",
      "epoch: 18 \t loss: 6347868199 \t TRAIN hitrate: freq/bayes: 0.045 / 0.045  \t TEST hitrate: freq/bayes: 0.016 / 0.015\n",
      "epoch: 19 \t loss: 6595988623 \t TRAIN hitrate: freq/bayes: 0.048 / 0.049  \t TEST hitrate: freq/bayes: 0.017 / 0.017\n",
      "epoch: 20 \t loss: 6195705172 \t TRAIN hitrate: freq/bayes: 0.049 / 0.050  \t TEST hitrate: freq/bayes: 0.021 / 0.022\n",
      "epoch: 21 \t loss: 6363736115 \t TRAIN hitrate: freq/bayes: 0.050 / 0.050  \t TEST hitrate: freq/bayes: 0.019 / 0.019\n",
      "epoch: 22 \t loss: 6443519756 \t TRAIN hitrate: freq/bayes: 0.050 / 0.050  \t TEST hitrate: freq/bayes: 0.025 / 0.025\n",
      "epoch: 23 \t loss: 6170335189 \t TRAIN hitrate: freq/bayes: 0.051 / 0.050  \t TEST hitrate: freq/bayes: 0.027 / 0.027\n",
      "epoch: 24 \t loss: 6110040409 \t TRAIN hitrate: freq/bayes: 0.050 / 0.049  \t TEST hitrate: freq/bayes: 0.035 / 0.036\n",
      "epoch: 25 \t loss: 6305046309 \t TRAIN hitrate: freq/bayes: 0.052 / 0.052  \t TEST hitrate: freq/bayes: 0.032 / 0.033\n",
      "epoch: 26 \t loss: 6150081252 \t TRAIN hitrate: freq/bayes: 0.053 / 0.053  \t TEST hitrate: freq/bayes: 0.022 / 0.022\n",
      "epoch: 27 \t loss: 6365161046 \t TRAIN hitrate: freq/bayes: 0.056 / 0.056  \t TEST hitrate: freq/bayes: 0.020 / 0.020\n",
      "epoch: 28 \t loss: 5937563597 \t TRAIN hitrate: freq/bayes: 0.053 / 0.054  \t TEST hitrate: freq/bayes: 0.027 / 0.027\n",
      "epoch: 29 \t loss: 5733617926 \t TRAIN hitrate: freq/bayes: 0.054 / 0.054  \t TEST hitrate: freq/bayes: 0.030 / 0.031\n",
      "epoch: 30 \t loss: 6047452223 \t TRAIN hitrate: freq/bayes: 0.056 / 0.056  \t TEST hitrate: freq/bayes: 0.037 / 0.036\n",
      "epoch: 31 \t loss: 6012985426 \t TRAIN hitrate: freq/bayes: 0.054 / 0.054  \t TEST hitrate: freq/bayes: 0.033 / 0.034\n",
      "epoch: 32 \t loss: 5864890953 \t TRAIN hitrate: freq/bayes: 0.057 / 0.057  \t TEST hitrate: freq/bayes: 0.036 / 0.034\n",
      "epoch: 33 \t loss: 6373840409 \t TRAIN hitrate: freq/bayes: 0.058 / 0.057  \t TEST hitrate: freq/bayes: 0.031 / 0.032\n",
      "epoch: 34 \t loss: 5938477311 \t TRAIN hitrate: freq/bayes: 0.058 / 0.059  \t TEST hitrate: freq/bayes: 0.036 / 0.035\n",
      "epoch: 35 \t loss: 5994381349 \t TRAIN hitrate: freq/bayes: 0.060 / 0.060  \t TEST hitrate: freq/bayes: 0.033 / 0.034\n",
      "epoch: 36 \t loss: 5896844226 \t TRAIN hitrate: freq/bayes: 0.058 / 0.058  \t TEST hitrate: freq/bayes: 0.029 / 0.029\n",
      "epoch: 37 \t loss: 5715155670 \t TRAIN hitrate: freq/bayes: 0.060 / 0.059  \t TEST hitrate: freq/bayes: 0.032 / 0.033\n",
      "epoch: 38 \t loss: 5697029501 \t TRAIN hitrate: freq/bayes: 0.060 / 0.060  \t TEST hitrate: freq/bayes: 0.035 / 0.034\n",
      "epoch: 39 \t loss: 5901673949 \t TRAIN hitrate: freq/bayes: 0.061 / 0.060  \t TEST hitrate: freq/bayes: 0.035 / 0.037\n",
      "epoch: 40 \t loss: 5856417297 \t TRAIN hitrate: freq/bayes: 0.060 / 0.060  \t TEST hitrate: freq/bayes: 0.037 / 0.037\n",
      "epoch: 41 \t loss: 5729595498 \t TRAIN hitrate: freq/bayes: 0.062 / 0.062  \t TEST hitrate: freq/bayes: 0.038 / 0.038\n",
      "epoch: 42 \t loss: 5719068407 \t TRAIN hitrate: freq/bayes: 0.062 / 0.062  \t TEST hitrate: freq/bayes: 0.036 / 0.039\n",
      "epoch: 43 \t loss: 5738370034 \t TRAIN hitrate: freq/bayes: 0.059 / 0.060  \t TEST hitrate: freq/bayes: 0.038 / 0.037\n",
      "epoch: 44 \t loss: 5924986783 \t TRAIN hitrate: freq/bayes: 0.064 / 0.063  \t TEST hitrate: freq/bayes: 0.042 / 0.041\n",
      "epoch: 45 \t loss: 5591854715 \t TRAIN hitrate: freq/bayes: 0.065 / 0.065  \t TEST hitrate: freq/bayes: 0.034 / 0.034\n",
      "epoch: 46 \t loss: 5640698838 \t TRAIN hitrate: freq/bayes: 0.065 / 0.065  \t TEST hitrate: freq/bayes: 0.035 / 0.035\n",
      "epoch: 47 \t loss: 6028652428 \t TRAIN hitrate: freq/bayes: 0.063 / 0.063  \t TEST hitrate: freq/bayes: 0.041 / 0.041\n",
      "epoch: 48 \t loss: 5466775154 \t TRAIN hitrate: freq/bayes: 0.060 / 0.061  \t TEST hitrate: freq/bayes: 0.042 / 0.040\n",
      "epoch: 49 \t loss: 5524629811 \t TRAIN hitrate: freq/bayes: 0.064 / 0.062  \t TEST hitrate: freq/bayes: 0.038 / 0.039\n",
      "epoch: 50 \t loss: 5816573019 \t TRAIN hitrate: freq/bayes: 0.063 / 0.063  \t TEST hitrate: freq/bayes: 0.037 / 0.035\n",
      "epoch: 51 \t loss: 5457971613 \t TRAIN hitrate: freq/bayes: 0.062 / 0.061  \t TEST hitrate: freq/bayes: 0.042 / 0.040\n",
      "epoch: 52 \t loss: 5919343743 \t TRAIN hitrate: freq/bayes: 0.062 / 0.061  \t TEST hitrate: freq/bayes: 0.039 / 0.038\n",
      "epoch: 53 \t loss: 5415746903 \t TRAIN hitrate: freq/bayes: 0.063 / 0.062  \t TEST hitrate: freq/bayes: 0.040 / 0.038\n",
      "epoch: 54 \t loss: 5803909041 \t TRAIN hitrate: freq/bayes: 0.062 / 0.063  \t TEST hitrate: freq/bayes: 0.033 / 0.033\n",
      "epoch: 55 \t loss: 5492548844 \t TRAIN hitrate: freq/bayes: 0.063 / 0.063  \t TEST hitrate: freq/bayes: 0.039 / 0.038\n",
      "epoch: 56 \t loss: 5424525696 \t TRAIN hitrate: freq/bayes: 0.064 / 0.065  \t TEST hitrate: freq/bayes: 0.040 / 0.039\n",
      "epoch: 57 \t loss: 5748984244 \t TRAIN hitrate: freq/bayes: 0.065 / 0.066  \t TEST hitrate: freq/bayes: 0.039 / 0.036\n",
      "epoch: 58 \t loss: 5589120341 \t TRAIN hitrate: freq/bayes: 0.066 / 0.065  \t TEST hitrate: freq/bayes: 0.032 / 0.031\n",
      "epoch: 59 \t loss: 5669256263 \t TRAIN hitrate: freq/bayes: 0.066 / 0.066  \t TEST hitrate: freq/bayes: 0.040 / 0.042\n",
      "epoch: 60 \t loss: 5451210072 \t TRAIN hitrate: freq/bayes: 0.067 / 0.066  \t TEST hitrate: freq/bayes: 0.038 / 0.038\n",
      "epoch: 61 \t loss: 5468626905 \t TRAIN hitrate: freq/bayes: 0.068 / 0.066  \t TEST hitrate: freq/bayes: 0.038 / 0.038\n",
      "epoch: 62 \t loss: 5429759672 \t TRAIN hitrate: freq/bayes: 0.065 / 0.066  \t TEST hitrate: freq/bayes: 0.038 / 0.037\n",
      "epoch: 63 \t loss: 5740082339 \t TRAIN hitrate: freq/bayes: 0.066 / 0.065  \t TEST hitrate: freq/bayes: 0.033 / 0.033\n",
      "epoch: 64 \t loss: 5405778057 \t TRAIN hitrate: freq/bayes: 0.068 / 0.067  \t TEST hitrate: freq/bayes: 0.031 / 0.031\n",
      "epoch: 65 \t loss: 5546133302 \t TRAIN hitrate: freq/bayes: 0.066 / 0.066  \t TEST hitrate: freq/bayes: 0.033 / 0.034\n",
      "epoch: 66 \t loss: 5408436139 \t TRAIN hitrate: freq/bayes: 0.066 / 0.065  \t TEST hitrate: freq/bayes: 0.034 / 0.034\n",
      "epoch: 67 \t loss: 5432419255 \t TRAIN hitrate: freq/bayes: 0.067 / 0.066  \t TEST hitrate: freq/bayes: 0.030 / 0.030\n",
      "epoch: 68 \t loss: 5414374933 \t TRAIN hitrate: freq/bayes: 0.066 / 0.067  \t TEST hitrate: freq/bayes: 0.035 / 0.031\n",
      "epoch: 69 \t loss: 5509172967 \t TRAIN hitrate: freq/bayes: 0.068 / 0.067  \t TEST hitrate: freq/bayes: 0.036 / 0.035\n",
      "epoch: 70 \t loss: 5483766760 \t TRAIN hitrate: freq/bayes: 0.066 / 0.065  \t TEST hitrate: freq/bayes: 0.038 / 0.038\n",
      "epoch: 71 \t loss: 5549601101 \t TRAIN hitrate: freq/bayes: 0.064 / 0.064  \t TEST hitrate: freq/bayes: 0.031 / 0.031\n",
      "epoch: 72 \t loss: 5528741469 \t TRAIN hitrate: freq/bayes: 0.065 / 0.065  \t TEST hitrate: freq/bayes: 0.037 / 0.038\n",
      "epoch: 73 \t loss: 5562339462 \t TRAIN hitrate: freq/bayes: 0.064 / 0.064  \t TEST hitrate: freq/bayes: 0.041 / 0.040\n",
      "epoch: 74 \t loss: 5474001275 \t TRAIN hitrate: freq/bayes: 0.067 / 0.068  \t TEST hitrate: freq/bayes: 0.038 / 0.038\n",
      "epoch: 75 \t loss: 5515995477 \t TRAIN hitrate: freq/bayes: 0.068 / 0.069  \t TEST hitrate: freq/bayes: 0.037 / 0.036\n",
      "epoch: 76 \t loss: 5149675760 \t TRAIN hitrate: freq/bayes: 0.068 / 0.067  \t TEST hitrate: freq/bayes: 0.039 / 0.040\n",
      "epoch: 77 \t loss: 5350179055 \t TRAIN hitrate: freq/bayes: 0.066 / 0.064  \t TEST hitrate: freq/bayes: 0.038 / 0.038\n",
      "epoch: 78 \t loss: 5398845338 \t TRAIN hitrate: freq/bayes: 0.067 / 0.067  \t TEST hitrate: freq/bayes: 0.044 / 0.044\n",
      "epoch: 79 \t loss: 5449154747 \t TRAIN hitrate: freq/bayes: 0.067 / 0.067  \t TEST hitrate: freq/bayes: 0.041 / 0.041\n",
      "epoch: 80 \t loss: 5431922230 \t TRAIN hitrate: freq/bayes: 0.069 / 0.069  \t TEST hitrate: freq/bayes: 0.039 / 0.039\n",
      "epoch: 81 \t loss: 5501559460 \t TRAIN hitrate: freq/bayes: 0.068 / 0.067  \t TEST hitrate: freq/bayes: 0.040 / 0.040\n",
      "epoch: 82 \t loss: 5744400977 \t TRAIN hitrate: freq/bayes: 0.070 / 0.069  \t TEST hitrate: freq/bayes: 0.036 / 0.036\n",
      "epoch: 83 \t loss: 5380663468 \t TRAIN hitrate: freq/bayes: 0.070 / 0.069  \t TEST hitrate: freq/bayes: 0.033 / 0.033\n",
      "epoch: 84 \t loss: 5398246453 \t TRAIN hitrate: freq/bayes: 0.069 / 0.070  \t TEST hitrate: freq/bayes: 0.037 / 0.037\n",
      "epoch: 85 \t loss: 5605813752 \t TRAIN hitrate: freq/bayes: 0.069 / 0.069  \t TEST hitrate: freq/bayes: 0.039 / 0.039\n",
      "epoch: 86 \t loss: 5360145411 \t TRAIN hitrate: freq/bayes: 0.067 / 0.068  \t TEST hitrate: freq/bayes: 0.043 / 0.043\n",
      "epoch: 87 \t loss: 5199973817 \t TRAIN hitrate: freq/bayes: 0.065 / 0.066  \t TEST hitrate: freq/bayes: 0.036 / 0.035\n",
      "epoch: 88 \t loss: 5527029366 \t TRAIN hitrate: freq/bayes: 0.069 / 0.068  \t TEST hitrate: freq/bayes: 0.033 / 0.033\n",
      "epoch: 89 \t loss: 5175807055 \t TRAIN hitrate: freq/bayes: 0.067 / 0.067  \t TEST hitrate: freq/bayes: 0.033 / 0.033\n",
      "epoch: 92 \t loss: 5528200203 \t TRAIN hitrate: freq/bayes: 0.066 / 0.066  \t TEST hitrate: freq/bayes: 0.039 / 0.041\n"
     ]
    },
    {
     "ename": "KeyboardInterrupt",
     "evalue": "",
     "output_type": "error",
     "traceback": [
      "\u001b[0;31m---------------------------------------------------------------------------\u001b[0m",
      "\u001b[0;31mKeyboardInterrupt\u001b[0m                         Traceback (most recent call last)",
      "\u001b[0;32m<timed exec>\u001b[0m in \u001b[0;36m<module>\u001b[0;34m\u001b[0m\n",
      "\u001b[0;32m/usr/local/lib/python3.6/dist-packages/pyro/infer/svi.py\u001b[0m in \u001b[0;36mstep\u001b[0;34m(self, *args, **kwargs)\u001b[0m\n\u001b[1;32m     97\u001b[0m         \u001b[0;31m# get loss and compute gradients\u001b[0m\u001b[0;34m\u001b[0m\u001b[0;34m\u001b[0m\u001b[0;34m\u001b[0m\u001b[0m\n\u001b[1;32m     98\u001b[0m         \u001b[0;32mwith\u001b[0m \u001b[0mpoutine\u001b[0m\u001b[0;34m.\u001b[0m\u001b[0mtrace\u001b[0m\u001b[0;34m(\u001b[0m\u001b[0mparam_only\u001b[0m\u001b[0;34m=\u001b[0m\u001b[0;32mTrue\u001b[0m\u001b[0;34m)\u001b[0m \u001b[0;32mas\u001b[0m \u001b[0mparam_capture\u001b[0m\u001b[0;34m:\u001b[0m\u001b[0;34m\u001b[0m\u001b[0;34m\u001b[0m\u001b[0m\n\u001b[0;32m---> 99\u001b[0;31m             \u001b[0mloss\u001b[0m \u001b[0;34m=\u001b[0m \u001b[0mself\u001b[0m\u001b[0;34m.\u001b[0m\u001b[0mloss_and_grads\u001b[0m\u001b[0;34m(\u001b[0m\u001b[0mself\u001b[0m\u001b[0;34m.\u001b[0m\u001b[0mmodel\u001b[0m\u001b[0;34m,\u001b[0m \u001b[0mself\u001b[0m\u001b[0;34m.\u001b[0m\u001b[0mguide\u001b[0m\u001b[0;34m,\u001b[0m \u001b[0;34m*\u001b[0m\u001b[0margs\u001b[0m\u001b[0;34m,\u001b[0m \u001b[0;34m**\u001b[0m\u001b[0mkwargs\u001b[0m\u001b[0;34m)\u001b[0m\u001b[0;34m\u001b[0m\u001b[0;34m\u001b[0m\u001b[0m\n\u001b[0m\u001b[1;32m    100\u001b[0m \u001b[0;34m\u001b[0m\u001b[0m\n\u001b[1;32m    101\u001b[0m         params = set(site[\"value\"].unconstrained()\n",
      "\u001b[0;32m/usr/local/lib/python3.6/dist-packages/pyro/infer/trace_elbo.py\u001b[0m in \u001b[0;36mloss_and_grads\u001b[0;34m(self, model, guide, *args, **kwargs)\u001b[0m\n\u001b[1;32m    134\u001b[0m             \u001b[0;32mif\u001b[0m \u001b[0mtrainable_params\u001b[0m \u001b[0;32mand\u001b[0m \u001b[0mgetattr\u001b[0m\u001b[0;34m(\u001b[0m\u001b[0msurrogate_loss_particle\u001b[0m\u001b[0;34m,\u001b[0m \u001b[0;34m'requires_grad'\u001b[0m\u001b[0;34m,\u001b[0m \u001b[0;32mFalse\u001b[0m\u001b[0;34m)\u001b[0m\u001b[0;34m:\u001b[0m\u001b[0;34m\u001b[0m\u001b[0;34m\u001b[0m\u001b[0m\n\u001b[1;32m    135\u001b[0m                 \u001b[0msurrogate_loss_particle\u001b[0m \u001b[0;34m=\u001b[0m \u001b[0msurrogate_loss_particle\u001b[0m \u001b[0;34m/\u001b[0m \u001b[0mself\u001b[0m\u001b[0;34m.\u001b[0m\u001b[0mnum_particles\u001b[0m\u001b[0;34m\u001b[0m\u001b[0;34m\u001b[0m\u001b[0m\n\u001b[0;32m--> 136\u001b[0;31m                 \u001b[0msurrogate_loss_particle\u001b[0m\u001b[0;34m.\u001b[0m\u001b[0mbackward\u001b[0m\u001b[0;34m(\u001b[0m\u001b[0mretain_graph\u001b[0m\u001b[0;34m=\u001b[0m\u001b[0mself\u001b[0m\u001b[0;34m.\u001b[0m\u001b[0mretain_graph\u001b[0m\u001b[0;34m)\u001b[0m\u001b[0;34m\u001b[0m\u001b[0;34m\u001b[0m\u001b[0m\n\u001b[0m\u001b[1;32m    137\u001b[0m \u001b[0;34m\u001b[0m\u001b[0m\n\u001b[1;32m    138\u001b[0m         \u001b[0mwarn_if_nan\u001b[0m\u001b[0;34m(\u001b[0m\u001b[0mloss\u001b[0m\u001b[0;34m,\u001b[0m \u001b[0;34m\"loss\"\u001b[0m\u001b[0;34m)\u001b[0m\u001b[0;34m\u001b[0m\u001b[0;34m\u001b[0m\u001b[0m\n",
      "\u001b[0;32m/usr/local/lib/python3.6/dist-packages/torch/tensor.py\u001b[0m in \u001b[0;36mbackward\u001b[0;34m(self, gradient, retain_graph, create_graph)\u001b[0m\n\u001b[1;32m    100\u001b[0m                 \u001b[0mproducts\u001b[0m\u001b[0;34m.\u001b[0m \u001b[0mDefaults\u001b[0m \u001b[0mto\u001b[0m\u001b[0;31m \u001b[0m\u001b[0;31m`\u001b[0m\u001b[0;31m`\u001b[0m\u001b[0;32mFalse\u001b[0m\u001b[0;31m`\u001b[0m\u001b[0;31m`\u001b[0m\u001b[0;34m.\u001b[0m\u001b[0;34m\u001b[0m\u001b[0;34m\u001b[0m\u001b[0m\n\u001b[1;32m    101\u001b[0m         \"\"\"\n\u001b[0;32m--> 102\u001b[0;31m         \u001b[0mtorch\u001b[0m\u001b[0;34m.\u001b[0m\u001b[0mautograd\u001b[0m\u001b[0;34m.\u001b[0m\u001b[0mbackward\u001b[0m\u001b[0;34m(\u001b[0m\u001b[0mself\u001b[0m\u001b[0;34m,\u001b[0m \u001b[0mgradient\u001b[0m\u001b[0;34m,\u001b[0m \u001b[0mretain_graph\u001b[0m\u001b[0;34m,\u001b[0m \u001b[0mcreate_graph\u001b[0m\u001b[0;34m)\u001b[0m\u001b[0;34m\u001b[0m\u001b[0;34m\u001b[0m\u001b[0m\n\u001b[0m\u001b[1;32m    103\u001b[0m \u001b[0;34m\u001b[0m\u001b[0m\n\u001b[1;32m    104\u001b[0m     \u001b[0;32mdef\u001b[0m \u001b[0mregister_hook\u001b[0m\u001b[0;34m(\u001b[0m\u001b[0mself\u001b[0m\u001b[0;34m,\u001b[0m \u001b[0mhook\u001b[0m\u001b[0;34m)\u001b[0m\u001b[0;34m:\u001b[0m\u001b[0;34m\u001b[0m\u001b[0;34m\u001b[0m\u001b[0m\n",
      "\u001b[0;32m/usr/local/lib/python3.6/dist-packages/torch/autograd/__init__.py\u001b[0m in \u001b[0;36mbackward\u001b[0;34m(tensors, grad_tensors, retain_graph, create_graph, grad_variables)\u001b[0m\n\u001b[1;32m     88\u001b[0m     Variable._execution_engine.run_backward(\n\u001b[1;32m     89\u001b[0m         \u001b[0mtensors\u001b[0m\u001b[0;34m,\u001b[0m \u001b[0mgrad_tensors\u001b[0m\u001b[0;34m,\u001b[0m \u001b[0mretain_graph\u001b[0m\u001b[0;34m,\u001b[0m \u001b[0mcreate_graph\u001b[0m\u001b[0;34m,\u001b[0m\u001b[0;34m\u001b[0m\u001b[0;34m\u001b[0m\u001b[0m\n\u001b[0;32m---> 90\u001b[0;31m         allow_unreachable=True)  # allow_unreachable flag\n\u001b[0m\u001b[1;32m     91\u001b[0m \u001b[0;34m\u001b[0m\u001b[0m\n\u001b[1;32m     92\u001b[0m \u001b[0;34m\u001b[0m\u001b[0m\n",
      "\u001b[0;31mKeyboardInterrupt\u001b[0m: "
     ]
    }
   ],
   "source": [
    "%%time\n",
    "print(f\"Starting training {epochs} epochs, each with {steps_per_epoch} steps..\")\n",
    "for ep in range(epochs):\n",
    "    for step in range(steps_per_epoch):\n",
    "        loss = svi.step(dat_seq['train'])\n",
    "        \n",
    "    # COMPUTE ALL TYPES OF HITRATES...:\n",
    "    with torch.no_grad():\n",
    "        hitrate_train = utils.compute_bayesian_hitrate(seqrec, dat_seq['train_small'], num_recs = num_recs, num_samples=1, device = device)\n",
    "        hitrate_test = utils.compute_bayesian_hitrate(seqrec, dat_seq['test'], num_recs = num_recs, num_samples=1, device = device)\n",
    "        bayeshit_train = utils.compute_bayesian_hitrate(seqrec, dat_seq['train_small'], num_recs = num_recs, num_samples=3, device = device)\n",
    "        bayeshit_test = utils.compute_bayesian_hitrate(seqrec, dat_seq['test'], num_recs = num_recs, num_samples=3, device = device)\n",
    "        print(f\"epoch: {ep} \\t loss: {loss:.0f} \\t TRAIN hitrate: freq/bayes: {hitrate_train:.3f} / {bayeshit_train:.3f}  \\t TEST hitrate: freq/bayes: {hitrate_test:.3f} / {bayeshit_test:.3f}\")\n",
    "    "
   ]
  },
  {
   "cell_type": "markdown",
   "metadata": {},
   "source": [
    "## Variability in item factor over number of events on the item"
   ]
  },
  {
   "cell_type": "code",
   "execution_count": 8,
   "metadata": {},
   "outputs": [
    {
     "name": "stdout",
     "output_type": "stream",
     "text": [
      "Item activity/uncertainty correlation: -0.08\n",
      "ALL ITEM ACTIVITY VS UNCERTAINTY FACTOR:\n"
     ]
    },
    {
     "data": {
      "image/png": "[encoded data removed]",
      "text/plain": [
       "<Figure size 432x288 with 1 Axes>"
      ]
     },
     "metadata": {
      "needs_background": "light"
     },
     "output_type": "display_data"
    },
    {
     "name": "stdout",
     "output_type": "stream",
     "text": [
      "SMOOTHED AND ZOOMED ITEM ACTIVITY VS UNCERTAINTY FACTOR:\n"
     ]
    },
    {
     "data": {
      "image/png": "[encoded data removed]",
      "text/plain": [
       "<Figure size 432x288 with 1 Axes>"
      ]
     },
     "metadata": {
      "needs_background": "light"
     },
     "output_type": "display_data"
    }
   ],
   "source": [
    "def get_counts(sequence, num):\n",
    "    ids, id_count = np.unique(sequence, return_counts=True)\n",
    "    counts = np.zeros(num)\n",
    "    counts[ids] = id_count\n",
    "    return counts\n",
    "\n",
    "item_counts = get_counts(dat_seq['train'].cpu().numpy(), 1+len(ind2val['itemId']))[1:]\n",
    "item_factors = pyro.param(\"item_var_factor\").detach().cpu().numpy()[1:]\n",
    "print(f\"Item activity/uncertainty correlation: {np.corrcoef(item_factors, item_counts)[1,0]:.2f}\")\n",
    "print(\"ALL ITEM ACTIVITY VS UNCERTAINTY FACTOR:\")\n",
    "_ = plt.plot(item_counts, item_factors, \"o\")\n",
    "plt.show()\n",
    "\n",
    "\n",
    "\n",
    "print(\"SMOOTHED AND ZOOMED ITEM ACTIVITY VS UNCERTAINTY FACTOR:\")\n",
    "_ = plt.plot(item_counts, item_factors, \"o\")\n",
    "\n",
    "import pandas as pd\n",
    "item_variability = pd.DataFrame({'item_counts' : item_counts,\n",
    "             'item_factors' : item_factors})\n",
    "per_item_count = item_variability.groupby('item_counts')['item_factors'].mean().reset_index()\n",
    "_ = plt.plot(per_item_count.item_counts, per_item_count.item_factors)\n",
    "axes = plt.gca()\n",
    "_ = axes.set_xlim([0,2000])\n",
    "_ = axes.set_ylim([0,10])"
   ]
  },
  {
   "cell_type": "markdown",
   "metadata": {},
   "source": [
    "## Plot distribution of items"
   ]
  },
  {
   "cell_type": "code",
   "execution_count": 17,
   "metadata": {},
   "outputs": [
    {
     "name": "stdout",
     "output_type": "stream",
     "text": [
      "tensor([[ 0.0006, -0.0001,  0.0004,  0.0020,  0.0011],\n",
      "        [-0.0001,  0.0001, -0.0003, -0.0005, -0.0005],\n",
      "        [ 0.0004, -0.0003,  0.0013,  0.0008,  0.0009],\n",
      "        [ 0.0020, -0.0005,  0.0008,  0.0074,  0.0039],\n",
      "        [ 0.0011, -0.0005,  0.0009,  0.0039,  0.0028]], device='cuda:0',\n",
      "       grad_fn=<MmBackward>)\n"
     ]
    },
    {
     "data": {
      "text/plain": [
       "<matplotlib.image.AxesImage at 0x7f4ba05b15f8>"
      ]
     },
     "execution_count": 17,
     "metadata": {},
     "output_type": "execute_result"
    },
    {
     "data": {
      "image/png": "[encoded data removed]",
      "text/plain": [
       "<Figure size 288x288 with 1 Axes>"
      ]
     },
     "metadata": {
      "needs_background": "light"
     },
     "output_type": "display_data"
    }
   ],
   "source": [
    "L = pyro.param(\"triangVpar\")\n",
    "print(L.matmul(L.t()))\n",
    "plt.matshow(L.matmul(L.t()).detach().cpu().numpy())"
   ]
  },
  {
   "cell_type": "code",
   "execution_count": 10,
   "metadata": {},
   "outputs": [
    {
     "name": "stdout",
     "output_type": "stream",
     "text": [
      "Random items:\n"
     ]
    },
    {
     "data": {
      "image/png": "[encoded data removed]",
      "text/plain": [
       "<Figure size 432x288 with 1 Axes>"
      ]
     },
     "metadata": {
      "needs_background": "light"
     },
     "output_type": "display_data"
    },
    {
     "data": {
      "image/png": "[encoded data removed]",
      "text/plain": [
       "<Figure size 432x288 with 1 Axes>"
      ]
     },
     "metadata": {
      "needs_background": "light"
     },
     "output_type": "display_data"
    },
    {
     "name": "stdout",
     "output_type": "stream",
     "text": [
      "Most and least certain item: [ 2234 24614]\n"
     ]
    },
    {
     "data": {
      "image/png": "[encoded data removed]",
      "text/plain": [
       "<Figure size 432x288 with 1 Axes>"
      ]
     },
     "metadata": {
      "needs_background": "light"
     },
     "output_type": "display_data"
    },
    {
     "data": {
      "image/png": "[encoded data removed]",
      "text/plain": [
       "<Figure size 432x288 with 1 Axes>"
      ]
     },
     "metadata": {
      "needs_background": "light"
     },
     "output_type": "display_data"
    }
   ],
   "source": [
    "def plot_distr_of_items(items):\n",
    "    sample_weights = []\n",
    "\n",
    "    for _ in range(100):\n",
    "        posterior_predictive = seqrec.guide(dat_seq['train_small'])\n",
    "        sample_weights.append(posterior_predictive.V.weight[items,].unsqueeze(0))\n",
    "    samples = torch.cat(sample_weights, dim = 0).cpu().detach().numpy()\n",
    "    for u in range(len(items)):\n",
    "        plt.plot(samples[:,u,0], samples[:,u,1], \"o\")\n",
    "    plt.show()\n",
    "    for u in range(len(items)):\n",
    "        plt.plot(samples[:,u,0], samples[:,u,2], \"o\")\n",
    "    plt.show()\n",
    "    \n",
    "print(\"Random items:\")\n",
    "items = torch.randint(low=1, high=len(ind2val['itemId']), size = (100,))\n",
    "plot_distr_of_items(items)\n",
    "plt.show()\n",
    "items = np.array([pyro.param(\"item_var_factor\").argmin().item(), pyro.param(\"item_var_factor\").argmax().item()])\n",
    "print(\"Most and least certain item:\", items)\n",
    "plot_distr_of_items(items)"
   ]
  },
  {
   "cell_type": "code",
   "execution_count": null,
   "metadata": {},
   "outputs": [],
   "source": []
  }
 ],
 "metadata": {
  "kernelspec": {
   "display_name": "Python 3",
   "language": "python",
   "name": "python3"
  },
  "language_info": {
   "codemirror_mode": {
    "name": "ipython",
    "version": 3
   },
   "file_extension": ".py",
   "mimetype": "text/x-python",
   "name": "python",
   "nbconvert_exporter": "python",
   "pygments_lexer": "ipython3",
   "version": "3.6.8"
  }
 },
 "nbformat": 4,
 "nbformat_minor": 2
}
